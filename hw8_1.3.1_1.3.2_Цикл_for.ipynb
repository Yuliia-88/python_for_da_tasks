{
 "cells": [
  {
   "cell_type": "markdown",
   "metadata": {
    "id": "W8lqt6zd9axA"
   },
   "source": [
    "#Домашнє завдання до теми \"Цикл for\""
   ]
  },
  {
   "cell_type": "markdown",
   "metadata": {
    "id": "iXzoNTu604kH"
   },
   "source": [
    "0. Розігрів. Напишіть цикл, який виводить на екран числа від 1 до 10 включно."
   ]
  },
  {
   "cell_type": "code",
   "execution_count": 1,
   "metadata": {
    "execution": {
     "iopub.execute_input": "2025-06-16T18:33:46.757918Z",
     "iopub.status.busy": "2025-06-16T18:33:46.757918Z",
     "iopub.status.idle": "2025-06-16T18:33:46.767586Z",
     "shell.execute_reply": "2025-06-16T18:33:46.766025Z",
     "shell.execute_reply.started": "2025-06-16T18:33:46.757918Z"
    },
    "id": "zpwypSSp0MVm"
   },
   "outputs": [
    {
     "name": "stdout",
     "output_type": "stream",
     "text": [
      "1; 2; 3; 4; 5; 6; 7; 8; 9; 10; "
     ]
    }
   ],
   "source": [
    "for i in range(1, 11):\n",
    "    print(i, end=\"; \")"
   ]
  },
  {
   "cell_type": "markdown",
   "metadata": {
    "id": "JmWR8uze094H"
   },
   "source": [
    "**Початок покладено!**"
   ]
  },
  {
   "cell_type": "markdown",
   "metadata": {
    "id": "OJX3yG-Blplu"
   },
   "source": [
    "1. Задайте список `numbers`, який містить значення від 0 до 9 включно. Використовуючи цикл `for`, обчисліть суму елементів в створеному списку та виведіть фінальну суму на екран."
   ]
  },
  {
   "cell_type": "code",
   "execution_count": 2,
   "metadata": {
    "execution": {
     "iopub.execute_input": "2025-06-16T18:33:49.063098Z",
     "iopub.status.busy": "2025-06-16T18:33:49.061906Z",
     "iopub.status.idle": "2025-06-16T18:33:49.070669Z",
     "shell.execute_reply": "2025-06-16T18:33:49.069052Z",
     "shell.execute_reply.started": "2025-06-16T18:33:49.063098Z"
    },
    "id": "sSX30A5yuvUQ"
   },
   "outputs": [
    {
     "name": "stdout",
     "output_type": "stream",
     "text": [
      "45\n"
     ]
    }
   ],
   "source": [
    "numbers = range(10)\n",
    "sum_numbers = 0\n",
    "for number in numbers:\n",
    "    sum_numbers += number\n",
    "print(sum_numbers)"
   ]
  },
  {
   "cell_type": "markdown",
   "metadata": {
    "id": "6Tb2Kx_jmD5b"
   },
   "source": [
    "2. Використовуючи цикл  `for` виведіть для кожного елементу списку `numbers`,який ми створили в завданні 1, чи цей елемент дорівнює 5. Тобто після виконання циклу на екрані має бути 10 bool значень."
   ]
  },
  {
   "cell_type": "code",
   "execution_count": 3,
   "metadata": {
    "execution": {
     "iopub.execute_input": "2025-06-16T18:33:50.211050Z",
     "iopub.status.busy": "2025-06-16T18:33:50.209664Z",
     "iopub.status.idle": "2025-06-16T18:33:50.218892Z",
     "shell.execute_reply": "2025-06-16T18:33:50.217494Z",
     "shell.execute_reply.started": "2025-06-16T18:33:50.211050Z"
    },
    "id": "Ls8ZW8DWuwHC"
   },
   "outputs": [
    {
     "name": "stdout",
     "output_type": "stream",
     "text": [
      "Це елемент 0, і він не дорівнює 5!\n",
      "Це елемент 1, і він не дорівнює 5!\n",
      "Це елемент 2, і він не дорівнює 5!\n",
      "Це елемент 3, і він не дорівнює 5!\n",
      "Це елемент 4, і він не дорівнює 5!\n",
      "Це елемент 5, і він дорівнює 5!\n",
      "Це елемент 6, і він не дорівнює 5!\n",
      "Це елемент 7, і він не дорівнює 5!\n",
      "Це елемент 8, і він не дорівнює 5!\n",
      "Це елемент 9, і він не дорівнює 5!\n"
     ]
    }
   ],
   "source": [
    "for number in numbers:\n",
    "    if number == 5:\n",
    "        print(f\"Це елемент {number}, і він дорівнює 5!\")\n",
    "    else:\n",
    "        print(f\"Це елемент {number}, і він не дорівнює 5!\")"
   ]
  },
  {
   "cell_type": "markdown",
   "metadata": {
    "id": "ddFE1naOmp7Q"
   },
   "source": [
    "3. Використовуючи цикл  `for` для кожного елементу списку `numbers`, який ми створили в завданні 1, виявіть, чи цей елемент ділиться на 2 без остачі, та запишіть результат у новий список `numbers_divisible_by_2`.\n",
    "\n",
    "Увага! Виконання завдання відрізняється від попереднього тим, що тепер ми результат обчислення на кожній ітерації записуємо у новий список. До того ж ми тут виконуємо іншу математичну операцію.\n",
    "\n",
    "Виведіть фільнальний список `numbers_divisible_by_2` на екран."
   ]
  },
  {
   "cell_type": "code",
   "execution_count": 4,
   "metadata": {
    "execution": {
     "iopub.execute_input": "2025-06-16T18:33:56.603352Z",
     "iopub.status.busy": "2025-06-16T18:33:56.603352Z",
     "iopub.status.idle": "2025-06-16T18:33:56.611623Z",
     "shell.execute_reply": "2025-06-16T18:33:56.611623Z",
     "shell.execute_reply.started": "2025-06-16T18:33:56.603352Z"
    },
    "id": "S2Pk_W12uyDo"
   },
   "outputs": [
    {
     "name": "stdout",
     "output_type": "stream",
     "text": [
      "[True, False, True, False, True, False, True, False, True, False]\n"
     ]
    }
   ],
   "source": [
    "numbers_divisible_by_2 = []\n",
    "for number in numbers:\n",
    "    if number % 2 == 0:\n",
    "        numbers_divisible_by_2.append(True)\n",
    "    else:\n",
    "        numbers_divisible_by_2.append(False)\n",
    "print(numbers_divisible_by_2)"
   ]
  },
  {
   "cell_type": "markdown",
   "metadata": {
    "id": "cwvpWeVGnUGB"
   },
   "source": [
    "Очікуваний результат: `[True, False, True, False, True, False, True, False, True, False]`"
   ]
  },
  {
   "cell_type": "markdown",
   "metadata": {
    "id": "0rgeGpJ3utVN"
   },
   "source": [
    "4. Задано два списки в клітинці нижче - `a` і `b`. Створіть цикл, результатом якого буде список `result`, що містить елементи типу bool і який фактично каже,\n",
    "\"чи на цьому індексі елементи наших двох списків співпадають\". Приклад:\n",
    "```\n",
    "a = [1, 2, 3, 6]\n",
    "b = [1, 7, 3, 6]\n",
    "# ми виконали поелементне порівняння двох списків і отримали новий список result\n",
    "# result містить наступний результат -> [True, False, True, True]\n",
    "```\n",
    "В кінці виведіть вміст result на екран.\n",
    "\n",
    "<details>\n",
    "<summary>Підказка</summary>\n",
    "\n",
    "Аби порівняти елементи в циклі - треба створити цикл по індексам елементів. Зважаючи, що наші списки - одної довжини, цей підхід дозволить нам отримати чітко те, що треба.\n",
    "\n",
    "**Просунутий варіант.** Альтернативно можна створити цикл, який на кожній ітерації має доступ до двох елементів - по одному з кожного списка, для цього треба скористатись функцією `zip` - приклад [тут](https://realpython.com/python-zip-function/#traversing-lists-in-parallel)\n",
    "</details>\n"
   ]
  },
  {
   "cell_type": "code",
   "execution_count": 5,
   "metadata": {
    "execution": {
     "iopub.execute_input": "2025-06-16T18:34:00.563101Z",
     "iopub.status.busy": "2025-06-16T18:34:00.563101Z",
     "iopub.status.idle": "2025-06-16T18:34:00.568467Z",
     "shell.execute_reply": "2025-06-16T18:34:00.568467Z",
     "shell.execute_reply.started": "2025-06-16T18:34:00.563101Z"
    },
    "id": "IIYG41pWdJiG"
   },
   "outputs": [],
   "source": [
    "a = [64, 93, 60, 95, 66, 9, 15, 55, 77, 28, 74, 100, 13, 1, 85, 48, 66, 65, 59, 32]\n",
    "b = [64, 93, 60, 95, 66, 9, 15, 56, 77, 28, 74, 100, 13, 1, 85, 48, 67, 65, 59, 32]"
   ]
  },
  {
   "cell_type": "code",
   "execution_count": 6,
   "metadata": {
    "execution": {
     "iopub.execute_input": "2025-06-16T18:34:02.093053Z",
     "iopub.status.busy": "2025-06-16T18:34:02.093053Z",
     "iopub.status.idle": "2025-06-16T18:34:02.102144Z",
     "shell.execute_reply": "2025-06-16T18:34:02.100804Z",
     "shell.execute_reply.started": "2025-06-16T18:34:02.093053Z"
    },
    "id": "XgZwTwr4u2lA"
   },
   "outputs": [
    {
     "name": "stdout",
     "output_type": "stream",
     "text": [
      "[True, True, True, True, True, True, True, False, True, True, True, True, True, True, True, True, False, True, True, True]\n"
     ]
    }
   ],
   "source": [
    "# Перший спосіб\n",
    "result = []\n",
    "for i in range(len(a)):\n",
    "    if a[i] == b[i]:\n",
    "        result.append(True)\n",
    "    else:\n",
    "        result.append(False)\n",
    "print (result)"
   ]
  },
  {
   "cell_type": "code",
   "execution_count": 7,
   "metadata": {
    "execution": {
     "iopub.execute_input": "2025-06-16T18:34:03.423291Z",
     "iopub.status.busy": "2025-06-16T18:34:03.423291Z",
     "iopub.status.idle": "2025-06-16T18:34:03.430825Z",
     "shell.execute_reply": "2025-06-16T18:34:03.430825Z",
     "shell.execute_reply.started": "2025-06-16T18:34:03.423291Z"
    }
   },
   "outputs": [
    {
     "name": "stdout",
     "output_type": "stream",
     "text": [
      "[True, True, True, True, True, True, True, False, True, True, True, True, True, True, True, True, False, True, True, True]\n"
     ]
    }
   ],
   "source": [
    "# Другий спосіб\n",
    "result2 = []\n",
    "for el_a, el_b in zip(a, b):\n",
    "    if el_a == el_b:\n",
    "        result2.append(True)\n",
    "    else:\n",
    "        result2.append(False)\n",
    "print (result)"
   ]
  },
  {
   "cell_type": "markdown",
   "metadata": {
    "id": "0Z2cObcTutVO"
   },
   "source": [
    "5. Нижче задано список `numbers`. Виконайте клітинку з його заданням.\n",
    "\n",
    "  Давайте знайдемо середнє арифметичне значення елементів списку `numbers` округлене до 2 цифр після коми та запишемо його у змінну `numbers_mean`. Для цього виконаємо два простих кроки.\n",
    "\n",
    "  1) Знайдіть суму всіх елементів списку `numbers` та запишіть її у змінну `numbers_sum`. Можна з використанням циклу, а можна і без.\n",
    "\n",
    "  2) Обчисліть `numbers_mean` шляхом ділення суми елементів у списку на їх кількість. Кількість елементів в списку - це його довжина.\n",
    "\n",
    "  Виведіть `numbers_mean`, округлений до 2 цифр після коми, на екран.\n",
    "\n",
    "  **Підказка**: округлити число можна з використанням вбудованої функції Python [round()](https://docs.python.org/3/library/functions.html#round)."
   ]
  },
  {
   "cell_type": "code",
   "execution_count": 8,
   "metadata": {
    "execution": {
     "iopub.execute_input": "2025-06-16T18:34:06.216710Z",
     "iopub.status.busy": "2025-06-16T18:34:06.216710Z",
     "iopub.status.idle": "2025-06-16T18:34:06.225679Z",
     "shell.execute_reply": "2025-06-16T18:34:06.223712Z",
     "shell.execute_reply.started": "2025-06-16T18:34:06.216710Z"
    },
    "id": "TwuOmLpeutVO"
   },
   "outputs": [],
   "source": [
    "numbers = [42, 51, 29, 2, 13, 44, 80, 66, 16]"
   ]
  },
  {
   "cell_type": "markdown",
   "metadata": {
    "id": "pSdssHuuutVQ"
   },
   "source": [
    "Очікуваний результат: `38.11`"
   ]
  },
  {
   "cell_type": "code",
   "execution_count": 11,
   "metadata": {
    "execution": {
     "iopub.execute_input": "2025-06-16T18:34:16.620582Z",
     "iopub.status.busy": "2025-06-16T18:34:16.620582Z",
     "iopub.status.idle": "2025-06-16T18:34:16.632447Z",
     "shell.execute_reply": "2025-06-16T18:34:16.632447Z",
     "shell.execute_reply.started": "2025-06-16T18:34:16.620582Z"
    }
   },
   "outputs": [
    {
     "data": {
      "text/plain": [
       "38.11"
      ]
     },
     "execution_count": 11,
     "metadata": {},
     "output_type": "execute_result"
    }
   ],
   "source": [
    "# Перший спосіб\n",
    "numbers_sum = sum(numbers)\n",
    "numbers_mean = round(numbers_sum / len(numbers), 2)\n",
    "numbers_mean"
   ]
  },
  {
   "cell_type": "code",
   "execution_count": 13,
   "metadata": {
    "execution": {
     "iopub.execute_input": "2025-06-16T18:34:21.983222Z",
     "iopub.status.busy": "2025-06-16T18:34:21.983222Z",
     "iopub.status.idle": "2025-06-16T18:34:21.993278Z",
     "shell.execute_reply": "2025-06-16T18:34:21.992271Z",
     "shell.execute_reply.started": "2025-06-16T18:34:21.983222Z"
    }
   },
   "outputs": [
    {
     "data": {
      "text/plain": [
       "38.11"
      ]
     },
     "execution_count": 13,
     "metadata": {},
     "output_type": "execute_result"
    }
   ],
   "source": [
    "# Другий спосіб\n",
    "numbers_sum2 = 0\n",
    "for number in numbers:\n",
    "    numbers_sum2 += number\n",
    "numbers_mean2 = round(numbers_sum2 / len(numbers), 2)\n",
    "numbers_mean2"
   ]
  },
  {
   "cell_type": "markdown",
   "metadata": {
    "id": "JsevSvVtutVQ"
   },
   "source": [
    "6. Задано список `a` і елемент `element`. Перевірте програмно чи є в списку `a` елемент `element` з допомогою інструкцій `if ... else`. Виведіть на екран відповідь \"Так, є\", якщо цей елемент в списку присутній, або \"Ні, нема\", якщо його там немає.\n",
    "Важливо це зробити без використання імпортів будь-яких бібліотек.\n",
    "\n",
    "  Тут цикла немає :) Але це завдання - підготовче до наступного."
   ]
  },
  {
   "cell_type": "code",
   "execution_count": 18,
   "metadata": {
    "execution": {
     "iopub.execute_input": "2025-06-16T18:34:43.123150Z",
     "iopub.status.busy": "2025-06-16T18:34:43.121139Z",
     "iopub.status.idle": "2025-06-16T18:34:43.129086Z",
     "shell.execute_reply": "2025-06-16T18:34:43.129086Z",
     "shell.execute_reply.started": "2025-06-16T18:34:43.123150Z"
    },
    "id": "TqkTdlN_utVQ"
   },
   "outputs": [],
   "source": [
    "a = [64, 93, 60, 95, 66, 9, 15, 55, 77, 28, 74, 100, 13, 1, 85, 48, 66, 65, 59, 32]\n",
    "element = 33"
   ]
  },
  {
   "cell_type": "code",
   "execution_count": 19,
   "metadata": {
    "execution": {
     "iopub.execute_input": "2025-06-16T18:34:43.699057Z",
     "iopub.status.busy": "2025-06-16T18:34:43.699057Z",
     "iopub.status.idle": "2025-06-16T18:34:43.705085Z",
     "shell.execute_reply": "2025-06-16T18:34:43.705085Z",
     "shell.execute_reply.started": "2025-06-16T18:34:43.699057Z"
    },
    "id": "aL_76T8pu7fp"
   },
   "outputs": [
    {
     "name": "stdout",
     "output_type": "stream",
     "text": [
      "Ні, нема\n"
     ]
    }
   ],
   "source": [
    "if element in a:\n",
    "    print(\"Так, є\")\n",
    "else:\n",
    "    print(\"Ні, нема\")"
   ]
  },
  {
   "cell_type": "markdown",
   "metadata": {
    "id": "QKjmv4j0utVR"
   },
   "source": [
    "7. Тепер у нас не один елемент, а кілька. Вони наведені в змінній `elements`. За допомогою циклу і інструкцій `if ... else` для кожного елемента списку `elements` перевірте, чи він є в списку `a`.\n",
    "Виведіть на екран відповідь \"Так, є елемент <вставити значення елемента>\", якщо елемент в списку присутній, або \"Ні, нема елемента <вставити значення елемента>\", якщо його там немає."
   ]
  },
  {
   "cell_type": "code",
   "execution_count": 22,
   "metadata": {
    "execution": {
     "iopub.execute_input": "2025-06-16T18:34:54.973292Z",
     "iopub.status.busy": "2025-06-16T18:34:54.971280Z",
     "iopub.status.idle": "2025-06-16T18:34:54.980588Z",
     "shell.execute_reply": "2025-06-16T18:34:54.978987Z",
     "shell.execute_reply.started": "2025-06-16T18:34:54.973292Z"
    },
    "id": "TF3nT5TMutVR"
   },
   "outputs": [],
   "source": [
    "elements = [44, 66, 77, 100]"
   ]
  },
  {
   "cell_type": "code",
   "execution_count": 23,
   "metadata": {
    "execution": {
     "iopub.execute_input": "2025-06-16T18:34:56.136025Z",
     "iopub.status.busy": "2025-06-16T18:34:56.136025Z",
     "iopub.status.idle": "2025-06-16T18:34:56.142594Z",
     "shell.execute_reply": "2025-06-16T18:34:56.142281Z",
     "shell.execute_reply.started": "2025-06-16T18:34:56.136025Z"
    },
    "id": "pQD5InOQvG1d"
   },
   "outputs": [
    {
     "name": "stdout",
     "output_type": "stream",
     "text": [
      "Ні, нема елемента 44\n",
      "Так, є елемент 66\n",
      "Так, є елемент 77\n",
      "Так, є елемент 100\n"
     ]
    }
   ],
   "source": [
    "for elem in elements:\n",
    "    if elem in a:\n",
    "        print(f\"Так, є елемент {elem}\")\n",
    "    else:\n",
    "        print(f\"Ні, нема елемента {elem}\")"
   ]
  },
  {
   "cell_type": "code",
   "execution_count": null,
   "metadata": {},
   "outputs": [],
   "source": []
  }
 ],
 "metadata": {
  "colab": {
   "provenance": []
  },
  "kernelspec": {
   "display_name": "Python [conda env:base] *",
   "language": "python",
   "name": "conda-base-py"
  },
  "language_info": {
   "codemirror_mode": {
    "name": "ipython",
    "version": 3
   },
   "file_extension": ".py",
   "mimetype": "text/x-python",
   "name": "python",
   "nbconvert_exporter": "python",
   "pygments_lexer": "ipython3",
   "version": "3.12.7"
  }
 },
 "nbformat": 4,
 "nbformat_minor": 4
}
