{
 "cells": [
  {
   "cell_type": "markdown",
   "id": "1561554f",
   "metadata": {
    "id": "1561554f"
   },
   "source": [
    "# Домашнє завдання до теми \"Модулі. Винятки (Exceptions)\"\n",
    "\n"
   ]
  },
  {
   "cell_type": "markdown",
   "id": "c094769a",
   "metadata": {
    "ExecuteTime": {
     "end_time": "2022-10-22T04:15:21.939494Z",
     "start_time": "2022-10-22T04:15:21.933981Z"
    },
    "id": "c094769a"
   },
   "source": [
    "Почнемо з закріплення матеріалу щодо фукнцій і віпрацювання роботи з модулем `random`.\n",
    "\n",
    "1. Напишіть функцію `get_random_int_list`, яка приймає один аргумент - кількість чисел `n`, і повертає список, що містить `n` випадкових цілих чисел з діапазону від 0 до 100 включно. Для генерації випадкових чисел використовуйте модуль `random`.\n",
    "\n",
    "  **Вимоги до реалізації:**\n",
    "\n",
    "  - Функція повинна приймати один аргумент `n` - кількість чисел у списку.\n",
    "  - Для генерації випадкових чисел використовуйте функцію `random.randint(0, 100)`.\n",
    "  - Повернутий список має містити рівно `n` випадкових чисел.\n",
    "\n",
    "  **Приклади виклику функції та очікувані результати:**\n",
    "\n",
    "  1. **Приклад 1:**\n",
    "    - Виклик функції: `get_random_int_list(5)`\n",
    "    - Очікуваний результат: Список з 5 випадковими числами, наприклад, `[23, 77, 45, 8, 91]`. Кожен запуск може повертати різні числа через випадковість.\n",
    "\n",
    "  2. **Приклад 2:**\n",
    "    - Виклик функції: `get_random_int_list(3)`\n",
    "    - Очікуваний результат: Список з 3 випадковими числами, наприклад, `[64, 20, 37]`.\n",
    "\n",
    "  3. **Приклад 3:**\n",
    "    - Виклик функції: `get_random_int_list(0)`\n",
    "    - Очікуваний результат: Порожній список `[]`, оскільки було запитано 0 чисел.\n",
    "\n",
    "Продемонструйте результати робити функції запустивши код нижче."
   ]
  },
  {
   "cell_type": "code",
   "execution_count": 13,
   "id": "m5hUhAQaqP78",
   "metadata": {
    "execution": {
     "iopub.execute_input": "2025-06-22T13:47:31.816464Z",
     "iopub.status.busy": "2025-06-22T13:47:31.816464Z",
     "iopub.status.idle": "2025-06-22T13:47:31.827681Z",
     "shell.execute_reply": "2025-06-22T13:47:31.827681Z",
     "shell.execute_reply.started": "2025-06-22T13:47:31.816464Z"
    },
    "id": "m5hUhAQaqP78"
   },
   "outputs": [],
   "source": [
    "import random\n",
    "def get_random_int_list(n):\n",
    "    return [random.randint(0,100) for i in range(n)]"
   ]
  },
  {
   "cell_type": "code",
   "execution_count": 15,
   "id": "XV-QkjcbqZNv",
   "metadata": {
    "execution": {
     "iopub.execute_input": "2025-06-22T13:48:28.197515Z",
     "iopub.status.busy": "2025-06-22T13:48:28.196322Z",
     "iopub.status.idle": "2025-06-22T13:48:28.204898Z",
     "shell.execute_reply": "2025-06-22T13:48:28.203482Z",
     "shell.execute_reply.started": "2025-06-22T13:48:28.197515Z"
    },
    "id": "XV-QkjcbqZNv"
   },
   "outputs": [
    {
     "name": "stdout",
     "output_type": "stream",
     "text": [
      "[57, 37, 0, 80, 32]\n",
      "[17, 49, 73]\n",
      "[]\n",
      "[49, 36, 22, 39, 95, 49, 89, 75]\n"
     ]
    }
   ],
   "source": [
    "for number in [5, 3, 0, 8]:\n",
    "  print(get_random_int_list(number))"
   ]
  },
  {
   "cell_type": "markdown",
   "id": "iBHEcmV7R34X",
   "metadata": {
    "id": "iBHEcmV7R34X"
   },
   "source": [
    "2. **Конвертер рядка в число**\n",
    "\n",
    "  **Опис завдання:**\n",
    "\n",
    "  Створіть функцію `string_to_int`, яка приймає рядок і намагається перетворити його в ціле число. Якщо рядок не можна перетворити на ціле число, функція повинна обробити виключення про неправильне значення, вивести на екран `\"Некоректне введення\"` і повернути `None`.\n",
    "\n",
    "  **Приклади виклику функції:**\n",
    "\n",
    "  - `string_to_int(\"123\")` повинно повернути `123`.\n",
    "  - `string_to_int(\"abc\")` повинно вивести повідомлення `\"Некоректне введення\"` і повернути `None`."
   ]
  },
  {
   "cell_type": "code",
   "execution_count": 26,
   "id": "5UT2YNrISdLR",
   "metadata": {
    "execution": {
     "iopub.execute_input": "2025-06-22T14:12:22.536616Z",
     "iopub.status.busy": "2025-06-22T14:12:22.536616Z",
     "iopub.status.idle": "2025-06-22T14:12:22.553667Z",
     "shell.execute_reply": "2025-06-22T14:12:22.552661Z",
     "shell.execute_reply.started": "2025-06-22T14:12:22.536616Z"
    },
    "id": "5UT2YNrISdLR"
   },
   "outputs": [],
   "source": [
    "def string_to_int(value):\n",
    "    try:\n",
    "        return int(value)\n",
    "    except ValueError:\n",
    "        print(f\"Некоректне введення, введене значення {value} не можна конвертувати у ціле число\")\n",
    "        print('\\n')"
   ]
  },
  {
   "cell_type": "markdown",
   "id": "UbIaPiOHSgE7",
   "metadata": {
    "id": "UbIaPiOHSgE7"
   },
   "source": [
    "Продемонструйте результати робити функції запустивши код нижче."
   ]
  },
  {
   "cell_type": "code",
   "execution_count": 27,
   "id": "AL7sINtwSgcs",
   "metadata": {
    "execution": {
     "iopub.execute_input": "2025-06-22T14:12:23.980011Z",
     "iopub.status.busy": "2025-06-22T14:12:23.980011Z",
     "iopub.status.idle": "2025-06-22T14:12:23.993030Z",
     "shell.execute_reply": "2025-06-22T14:12:23.991012Z",
     "shell.execute_reply.started": "2025-06-22T14:12:23.980011Z"
    },
    "id": "AL7sINtwSgcs"
   },
   "outputs": [
    {
     "name": "stdout",
     "output_type": "stream",
     "text": [
      "Некоректне введення, введене значення abc не можна конвертувати у ціле число\n",
      "\n",
      "\n",
      "Некоректне введення, введене значення 456.78 не можна конвертувати у ціле число\n",
      "\n",
      "\n"
     ]
    },
    {
     "data": {
      "text/plain": [
       "{'123': 123, 'abc': None, '456.78': None, '100': 100}"
      ]
     },
     "execution_count": 27,
     "metadata": {},
     "output_type": "execute_result"
    }
   ],
   "source": [
    "test_inputs = [\"123\", \"abc\", \"456.78\", \"100\"]\n",
    "results = {input_value: string_to_int(input_value) for input_value in test_inputs}\n",
    "results\n"
   ]
  },
  {
   "cell_type": "markdown",
   "id": "KkzLp29pQ1-U",
   "metadata": {
    "id": "KkzLp29pQ1-U"
   },
   "source": [
    "3. **Контроль введення користувача**\n",
    "\n",
    "  Створіть функцію `check_age`, яка приймає на вхід вік користувача у форматі рядок і перевіряє, чи є користувач повнолітнім (18 років і старше). Якщо введене значення не може бути перетворено на ціле число, функція повинна обробити виняток, вивести на екран `\"Некоректне введення. Будь ласка, введіть числове значення.\"` і повернути `False`. Якщо вік користувача менше 18, вивести повідомлення `\"Ви не повнолітній!\"` і також повернути `False`. У випадку, коли вік 18 років або більше, вивести повідомлення `\"Ви повнолітній.\"` і повернути `True`.\n",
    "\n",
    "  **Приклад роботи програми:**\n",
    "\n",
    "  1. Користувач вводить `\"двадцять\"`: програма виводить на екрнан `\"Некоректне введення. Будь ласка, введіть числове значення.\"` і повертає `False`.\n",
    "  2. Користувач вводить `\"17\"`: програма виводить `\"Ви не повнолітній!\"` і повертає `False`.\n",
    "  3. Користувач вводить `\"18\"`: програма виводить `\"Ви повнолітній.\"` і повертає `True`.\n"
   ]
  },
  {
   "cell_type": "code",
   "execution_count": 39,
   "id": "K3PTENm-Ae3-",
   "metadata": {
    "execution": {
     "iopub.execute_input": "2025-06-22T14:32:54.776056Z",
     "iopub.status.busy": "2025-06-22T14:32:54.776056Z",
     "iopub.status.idle": "2025-06-22T14:32:54.786926Z",
     "shell.execute_reply": "2025-06-22T14:32:54.784913Z",
     "shell.execute_reply.started": "2025-06-22T14:32:54.776056Z"
    },
    "id": "K3PTENm-Ae3-"
   },
   "outputs": [],
   "source": [
    "def check_age(value):\n",
    "    try:\n",
    "        age = int(value)\n",
    "        if age >= 18:\n",
    "            print(\"Ви повнолітній!\")\n",
    "            return True\n",
    "        else:\n",
    "            print(\"Ви не повнолітній!\")\n",
    "            return False \n",
    "    except ValueError:\n",
    "        print(\"Некоректне введення. Будь ласка, введіть числове значення.\")\n",
    "        return False"
   ]
  },
  {
   "cell_type": "markdown",
   "id": "huphMh7YR2GJ",
   "metadata": {
    "id": "huphMh7YR2GJ"
   },
   "source": [
    "Продемонструйте результати робити функції запустивши код нижче."
   ]
  },
  {
   "cell_type": "code",
   "execution_count": 40,
   "id": "YuEQrntVRgSE",
   "metadata": {
    "execution": {
     "iopub.execute_input": "2025-06-22T14:32:58.867643Z",
     "iopub.status.busy": "2025-06-22T14:32:58.867643Z",
     "iopub.status.idle": "2025-06-22T14:32:58.881679Z",
     "shell.execute_reply": "2025-06-22T14:32:58.879667Z",
     "shell.execute_reply.started": "2025-06-22T14:32:58.867643Z"
    },
    "id": "YuEQrntVRgSE"
   },
   "outputs": [
    {
     "name": "stdout",
     "output_type": "stream",
     "text": [
      "Некоректне введення. Будь ласка, введіть числове значення.\n",
      "Ви не повнолітній!\n",
      "Ви повнолітній!\n"
     ]
    },
    {
     "data": {
      "text/plain": [
       "[False, False, True]"
      ]
     },
     "execution_count": 40,
     "metadata": {},
     "output_type": "execute_result"
    }
   ],
   "source": [
    "test_inputs = [\"двадцять\", \"17\", \"18\"]\n",
    "results = [check_age(input_value) for input_value in test_inputs]\n",
    "results"
   ]
  },
  {
   "cell_type": "markdown",
   "id": "CQg-zIJGTqjw",
   "metadata": {
    "id": "CQg-zIJGTqjw"
   },
   "source": [
    "4. **Обчислення середнього з перевіркою:** Напишіть функцію `calculate_average`, яка приймає на вхід список чисел і обчислює середнє арифметичне значення цих чисел. Функція повинна перевіряти, що всі елементи списку є числами. Якщо серед елементів списку зустрічається елемент, який не є числом, функція повинна вивести повідомлення `\"Всі елементи повинні бути числами\"` і повернути `None`.\n",
    "\n",
    "  **Приклади виклику функції:**\n",
    "\n",
    "  - `calculate_average([1, 2, 3, 4, 5])` повинно повернути `3.0`.\n",
    "  - `calculate_average([1, \"2\", 3])` повинно вивести `\"Всі елементи повинні бути числами\"` і повернути `None`.\n",
    "  - `calculate_average([-1.1, \"ф\", 4])` повинно вивести `\"Всі елементи повинні бути числами\"` і повернути `None`."
   ]
  },
  {
   "cell_type": "code",
   "execution_count": 67,
   "id": "91VU_y5sUAKB",
   "metadata": {
    "execution": {
     "iopub.execute_input": "2025-06-22T15:25:49.657202Z",
     "iopub.status.busy": "2025-06-22T15:25:49.657202Z",
     "iopub.status.idle": "2025-06-22T15:25:49.667903Z",
     "shell.execute_reply": "2025-06-22T15:25:49.667903Z",
     "shell.execute_reply.started": "2025-06-22T15:25:49.657202Z"
    },
    "id": "91VU_y5sUAKB"
   },
   "outputs": [],
   "source": [
    "def calculate_average(*args):\n",
    "    try:\n",
    "        return sum(args) / len(args)\n",
    "    except TypeError:\n",
    "        print(\"Всі елементи повинні бути числами\")"
   ]
  },
  {
   "cell_type": "code",
   "execution_count": 68,
   "id": "9784da40-f2cb-4567-bda8-8ae65b4f6c55",
   "metadata": {
    "execution": {
     "iopub.execute_input": "2025-06-22T15:25:50.394207Z",
     "iopub.status.busy": "2025-06-22T15:25:50.394207Z",
     "iopub.status.idle": "2025-06-22T15:25:50.405913Z",
     "shell.execute_reply": "2025-06-22T15:25:50.404036Z",
     "shell.execute_reply.started": "2025-06-22T15:25:50.394207Z"
    }
   },
   "outputs": [
    {
     "data": {
      "text/plain": [
       "0.9800000000000001"
      ]
     },
     "execution_count": 68,
     "metadata": {},
     "output_type": "execute_result"
    }
   ],
   "source": [
    "args = [1, 2, 3, 4, -5.1]\n",
    "calculate_average(*args)"
   ]
  },
  {
   "cell_type": "markdown",
   "id": "ib-JWKKmUeF8",
   "metadata": {
    "id": "ib-JWKKmUeF8"
   },
   "source": [
    "Продемонструйте результати робити функції запустивши код нижче."
   ]
  },
  {
   "cell_type": "code",
   "execution_count": 70,
   "id": "axEmZx0rUNqT",
   "metadata": {
    "execution": {
     "iopub.execute_input": "2025-06-22T15:27:48.308932Z",
     "iopub.status.busy": "2025-06-22T15:27:48.308932Z",
     "iopub.status.idle": "2025-06-22T15:27:48.321894Z",
     "shell.execute_reply": "2025-06-22T15:27:48.321894Z",
     "shell.execute_reply.started": "2025-06-22T15:27:48.308932Z"
    },
    "id": "axEmZx0rUNqT"
   },
   "outputs": [
    {
     "name": "stdout",
     "output_type": "stream",
     "text": [
      "Всі елементи повинні бути числами\n",
      "Всі елементи повинні бути числами\n"
     ]
    },
    {
     "data": {
      "text/plain": [
       "[3.0, None, 20.0, None]"
      ]
     },
     "execution_count": 70,
     "metadata": {},
     "output_type": "execute_result"
    }
   ],
   "source": [
    "test_data = [\n",
    "    [1, 2, 3, 4, 5],  # Коректні дані\n",
    "    [1, \"2\", 3],      # Некоректні дані\n",
    "    [10, 20, 30],     # Коректні дані\n",
    "    [-1.1, \"ф\", 4]    # Некоректні дані\n",
    "]\n",
    "\n",
    "results = [calculate_average(*data) for data in test_data]\n",
    "results"
   ]
  },
  {
   "cell_type": "code",
   "execution_count": 74,
   "id": "da7a7bc1-8bc8-4a7e-9eda-ce7d0b66e219",
   "metadata": {
    "execution": {
     "iopub.execute_input": "2025-06-22T15:38:38.521686Z",
     "iopub.status.busy": "2025-06-22T15:38:38.519674Z",
     "iopub.status.idle": "2025-06-22T15:38:38.531447Z",
     "shell.execute_reply": "2025-06-22T15:38:38.530412Z",
     "shell.execute_reply.started": "2025-06-22T15:38:38.521686Z"
    }
   },
   "outputs": [],
   "source": [
    "# Другий варіант\n",
    "def calculate_average(list_args):\n",
    "    for item in list_args:\n",
    "        if not isinstance(item, (int, float)):\n",
    "            print(\"Всі елементи повинні бути числами\")\n",
    "            return None\n",
    "    return sum(list_args) / len(list_args)"
   ]
  },
  {
   "cell_type": "code",
   "execution_count": 75,
   "id": "5a984f58-f36f-473f-9525-94c1085585b0",
   "metadata": {
    "execution": {
     "iopub.execute_input": "2025-06-22T15:38:49.858217Z",
     "iopub.status.busy": "2025-06-22T15:38:49.858217Z",
     "iopub.status.idle": "2025-06-22T15:38:49.872850Z",
     "shell.execute_reply": "2025-06-22T15:38:49.871207Z",
     "shell.execute_reply.started": "2025-06-22T15:38:49.858217Z"
    }
   },
   "outputs": [
    {
     "name": "stdout",
     "output_type": "stream",
     "text": [
      "Всі елементи повинні бути числами\n",
      "Всі елементи повинні бути числами\n"
     ]
    },
    {
     "data": {
      "text/plain": [
       "[3.0, None, 20.0, None]"
      ]
     },
     "execution_count": 75,
     "metadata": {},
     "output_type": "execute_result"
    }
   ],
   "source": [
    "test_data = [\n",
    "    [1, 2, 3, 4, 5],  # Коректні дані\n",
    "    [1, \"2\", 3],      # Некоректні дані\n",
    "    [10, 20, 30],     # Коректні дані\n",
    "    [-1.1, \"ф\", 4]    # Некоректні дані\n",
    "]\n",
    "\n",
    "results = [calculate_average(data) for data in test_data]\n",
    "results"
   ]
  }
 ],
 "metadata": {
  "colab": {
   "provenance": []
  },
  "kernelspec": {
   "display_name": "Python [conda env:base] *",
   "language": "python",
   "name": "conda-base-py"
  },
  "language_info": {
   "codemirror_mode": {
    "name": "ipython",
    "version": 3
   },
   "file_extension": ".py",
   "mimetype": "text/x-python",
   "name": "python",
   "nbconvert_exporter": "python",
   "pygments_lexer": "ipython3",
   "version": "3.12.7"
  },
  "toc": {
   "base_numbering": 1,
   "nav_menu": {},
   "number_sections": true,
   "sideBar": true,
   "skip_h1_title": false,
   "title_cell": "Table of Contents",
   "title_sidebar": "Contents",
   "toc_cell": false,
   "toc_position": {},
   "toc_section_display": true,
   "toc_window_display": false
  }
 },
 "nbformat": 4,
 "nbformat_minor": 5
}
