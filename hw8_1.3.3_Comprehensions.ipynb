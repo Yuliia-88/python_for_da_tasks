{
 "cells": [
  {
   "cell_type": "markdown",
   "metadata": {
    "id": "jGTe7raw9lB_"
   },
   "source": [
    "#Домашнє завдання до теми \"Comprehensions в Python\""
   ]
  },
  {
   "cell_type": "markdown",
   "metadata": {
    "id": "grIbI4ZZ7miJ"
   },
   "source": [
    "Для наступних завдань у нас є наступний список:"
   ]
  },
  {
   "cell_type": "code",
   "execution_count": 1,
   "metadata": {
    "execution": {
     "iopub.execute_input": "2025-06-17T10:10:08.140641Z",
     "iopub.status.busy": "2025-06-17T10:10:08.138631Z",
     "iopub.status.idle": "2025-06-17T10:10:08.146604Z",
     "shell.execute_reply": "2025-06-17T10:10:08.145586Z",
     "shell.execute_reply.started": "2025-06-17T10:10:08.140641Z"
    },
    "id": "nFOAtgsP7nnc"
   },
   "outputs": [],
   "source": [
    "numbers = [42, 51, 29, 2, 13, 44, 80, 66, 16]"
   ]
  },
  {
   "cell_type": "markdown",
   "metadata": {
    "id": "_sRe19Ym6zDc"
   },
   "source": [
    "1. Використовуючи цикл `for` cтворіть новий список `numbers_squared`, де кожен елемент списку `numbers` є домноженим на 2.\n",
    "\n",
    "Нагадаю, що фактично коли ми з допомогою циклу отримуємо новий список, то ми спочатку створюємо пустий список, а потім додаємо в нього новий елемент на кожній ітерації.\n",
    "\n",
    "Новий елемент буде в даному випадку результатом домножання чергового елемента вихідного списку `numbers` на 2."
   ]
  },
  {
   "cell_type": "code",
   "execution_count": 7,
   "metadata": {
    "execution": {
     "iopub.execute_input": "2025-06-17T10:29:29.722865Z",
     "iopub.status.busy": "2025-06-17T10:29:29.722865Z",
     "iopub.status.idle": "2025-06-17T10:29:29.728930Z",
     "shell.execute_reply": "2025-06-17T10:29:29.728930Z",
     "shell.execute_reply.started": "2025-06-17T10:29:29.722865Z"
    },
    "id": "EhGdKWo06nGS"
   },
   "outputs": [
    {
     "data": {
      "text/plain": [
       "[84, 102, 58, 4, 26, 88, 160, 132, 32]"
      ]
     },
     "execution_count": 7,
     "metadata": {},
     "output_type": "execute_result"
    }
   ],
   "source": [
    "numbers_squared = []\n",
    "for number in numbers:\n",
    "    numbers_squared.append(number * 2)\n",
    "numbers_squared"
   ]
  },
  {
   "cell_type": "markdown",
   "metadata": {
    "id": "XKpWtN8N64np"
   },
   "source": [
    "Очікуваний результат: `[84, 102, 58, 4, 26, 88, 160, 132, 32]`"
   ]
  },
  {
   "cell_type": "markdown",
   "metadata": {
    "id": "aHmdOLkZ7eQ2"
   },
   "source": [
    "2. Використовуючи `list comprehension` cтворіть новий список `numbers_squared_lh`, де кожен елемент списку `numbers` є домноженим 2.\n",
    "Так, операція, яку ми викнуємо над кожним елементом вихідного списку, та сама, що і в попередньому завданні, але інший спосіб отримання результату."
   ]
  },
  {
   "cell_type": "code",
   "execution_count": 4,
   "metadata": {
    "execution": {
     "iopub.execute_input": "2025-06-17T10:17:15.492638Z",
     "iopub.status.busy": "2025-06-17T10:17:15.492638Z",
     "iopub.status.idle": "2025-06-17T10:17:15.502651Z",
     "shell.execute_reply": "2025-06-17T10:17:15.502651Z",
     "shell.execute_reply.started": "2025-06-17T10:17:15.492638Z"
    },
    "id": "fsKlUM9x7T7n"
   },
   "outputs": [
    {
     "data": {
      "text/plain": [
       "[84, 102, 58, 4, 26, 88, 160, 132, 32]"
      ]
     },
     "execution_count": 4,
     "metadata": {},
     "output_type": "execute_result"
    }
   ],
   "source": [
    "numbers_squared_lh = [number * 2 for number in numbers]\n",
    "numbers_squared_lh"
   ]
  },
  {
   "cell_type": "markdown",
   "metadata": {
    "id": "tKpPGIQN7fc5"
   },
   "source": [
    "3. У нас вже є знайдене середнє значення за списком - воно визначене в змінній `numbers_mean`.\n",
    "\n",
    "  Використовуючи цикл, створіть новий список `numbers_gt_mean`, який порівнює кожен елемент з цим середнім значенням за списком за наступним правилом: \"якщо цей елемент спиcку `numbers` є більшим за `numbers_mean`, то запишемо 1, інакше 0\". Виведіть новий список на екран."
   ]
  },
  {
   "cell_type": "code",
   "execution_count": 8,
   "metadata": {
    "execution": {
     "iopub.execute_input": "2025-06-17T10:30:39.413675Z",
     "iopub.status.busy": "2025-06-17T10:30:39.413675Z",
     "iopub.status.idle": "2025-06-17T10:30:39.421533Z",
     "shell.execute_reply": "2025-06-17T10:30:39.421533Z",
     "shell.execute_reply.started": "2025-06-17T10:30:39.413675Z"
    },
    "id": "FKGz-HqgwAdX"
   },
   "outputs": [],
   "source": [
    "numbers_mean = 38.11"
   ]
  },
  {
   "cell_type": "code",
   "execution_count": 9,
   "metadata": {
    "execution": {
     "iopub.execute_input": "2025-06-17T10:34:50.194700Z",
     "iopub.status.busy": "2025-06-17T10:34:50.194700Z",
     "iopub.status.idle": "2025-06-17T10:34:50.202930Z",
     "shell.execute_reply": "2025-06-17T10:34:50.201798Z",
     "shell.execute_reply.started": "2025-06-17T10:34:50.194700Z"
    },
    "id": "obelsT8N72Lp"
   },
   "outputs": [
    {
     "data": {
      "text/plain": [
       "[1, 1, 0, 0, 0, 1, 1, 1, 0]"
      ]
     },
     "execution_count": 9,
     "metadata": {},
     "output_type": "execute_result"
    }
   ],
   "source": [
    "numbers_gt_mean = []\n",
    "for number in numbers:\n",
    "    if number > numbers_mean:\n",
    "        numbers_gt_mean.append(1)\n",
    "    else:\n",
    "        numbers_gt_mean.append(0)\n",
    "numbers_gt_mean"
   ]
  },
  {
   "cell_type": "markdown",
   "metadata": {
    "id": "kRUDVSRs720X"
   },
   "source": [
    "Очікуваний результат: `[1, 1, 0, 0, 0, 1, 1, 1, 0]`"
   ]
  },
  {
   "cell_type": "markdown",
   "metadata": {
    "id": "dudK-NlE76z8"
   },
   "source": [
    "4. Отримайте список за тим самим правилом, що в завданні 3, тільки тепер з list comprehension. Результат запишіть у змінну `numbers_gt_mean_lc`"
   ]
  },
  {
   "cell_type": "code",
   "execution_count": 11,
   "metadata": {
    "execution": {
     "iopub.execute_input": "2025-06-17T10:43:38.425358Z",
     "iopub.status.busy": "2025-06-17T10:43:38.425358Z",
     "iopub.status.idle": "2025-06-17T10:43:38.436574Z",
     "shell.execute_reply": "2025-06-17T10:43:38.435560Z",
     "shell.execute_reply.started": "2025-06-17T10:43:38.425358Z"
    },
    "id": "kpnfXkUu76Ao"
   },
   "outputs": [
    {
     "data": {
      "text/plain": [
       "[1, 1, 0, 0, 0, 1, 1, 1, 0]"
      ]
     },
     "execution_count": 11,
     "metadata": {},
     "output_type": "execute_result"
    }
   ],
   "source": [
    "numbers_gt_mean_lc = [1 if number > numbers_mean else 0 for number in numbers]\n",
    "numbers_gt_mean_lc"
   ]
  },
  {
   "cell_type": "markdown",
   "metadata": {
    "id": "muQmE3Mz8KDx"
   },
   "source": [
    "5. Заданий список `long`. З допомогою циклу створіть словник `n_repeats`, який містить інформацію \"скільки разів повторюється кожен унікальний елемент списку `long`\".\n",
    "Наприклад:\n",
    "```\n",
    "long = [1, 1, 2, 2, 3]\n",
    "# тоді `n_repeats` містить {1: 2, 2: 2, 3: 1}\n",
    "```\n",
    "\n",
    "Аби для кожного унікального елементу знайти, скільки разів він повторюється, виористайте метод списку `list.count(<елемент>)`.\n",
    "Виведіть `n_repeats` на екран.\n",
    "\n",
    "**Підказки**:\n",
    "1. Для початку може бути зручно отримати набір унікальних елементів списку.\n",
    "2. Порядок ключів в словнику не має значення! Тобто ключі в словнику не обовʼязково мають бути в тому ж порядку, як наведено в прикладі результату. Але кількості зустрічань для кожного елемента мають співпадати з наведеними."
   ]
  },
  {
   "cell_type": "code",
   "execution_count": 12,
   "metadata": {
    "execution": {
     "iopub.execute_input": "2025-06-17T10:45:12.674032Z",
     "iopub.status.busy": "2025-06-17T10:45:12.673032Z",
     "iopub.status.idle": "2025-06-17T10:45:12.679508Z",
     "shell.execute_reply": "2025-06-17T10:45:12.678500Z",
     "shell.execute_reply.started": "2025-06-17T10:45:12.674032Z"
    },
    "id": "T_MDOYpa8Khu"
   },
   "outputs": [],
   "source": [
    "long = [75, 39, 95, 1, 91, 43, 97, 24, 86, 75, 92, 91, 15, 15, 75, 95, 54, 29, 55, 98]"
   ]
  },
  {
   "cell_type": "code",
   "execution_count": 19,
   "metadata": {
    "execution": {
     "iopub.execute_input": "2025-06-17T11:06:06.722164Z",
     "iopub.status.busy": "2025-06-17T11:06:06.720147Z",
     "iopub.status.idle": "2025-06-17T11:06:06.728052Z",
     "shell.execute_reply": "2025-06-17T11:06:06.727046Z",
     "shell.execute_reply.started": "2025-06-17T11:06:06.722164Z"
    },
    "id": "FCUf8p3y8RG0"
   },
   "outputs": [
    {
     "name": "stdout",
     "output_type": "stream",
     "text": [
      "{1: 1, 97: 1, 98: 1, 39: 1, 75: 3, 43: 1, 15: 2, 55: 1, 86: 1, 54: 1, 24: 1, 91: 2, 92: 1, 29: 1, 95: 2}\n"
     ]
    }
   ],
   "source": [
    "long_set = set(long)\n",
    "n_repeats = {}\n",
    "for elem in long_set:\n",
    "    n_repeats[elem] = long.count(elem)\n",
    "print(n_repeats)\n"
   ]
  },
  {
   "cell_type": "markdown",
   "metadata": {
    "id": "WQbGyWde8RkT"
   },
   "source": [
    "Очікуваний результат:\n",
    "```\n",
    "{1: 1, 97: 1, 98: 1, 39: 1, 75: 3, 43: 1, 15: 2, 55: 1, 86: 1, 54: 1, 24: 1, 91: 2, 92: 1, 29: 1, 95: 2}\n",
    "\n",
    "```"
   ]
  },
  {
   "cell_type": "markdown",
   "metadata": {
    "id": "W-nelSSP8VeG"
   },
   "source": [
    "6. Виконайте ту саму операцію, що і в попередньому заваднні, але використовуючи `dict comprehension`. Результат запишіть у змінну `n_repeats_dh` та результат виведіть на екран."
   ]
  },
  {
   "cell_type": "code",
   "execution_count": 23,
   "metadata": {
    "execution": {
     "iopub.execute_input": "2025-06-17T11:11:21.273456Z",
     "iopub.status.busy": "2025-06-17T11:11:21.271445Z",
     "iopub.status.idle": "2025-06-17T11:11:21.277848Z",
     "shell.execute_reply": "2025-06-17T11:11:21.277848Z",
     "shell.execute_reply.started": "2025-06-17T11:11:21.273456Z"
    },
    "id": "gDz_kE0N8YM4"
   },
   "outputs": [
    {
     "name": "stdout",
     "output_type": "stream",
     "text": [
      "{1: 1, 97: 1, 98: 1, 39: 1, 75: 3, 43: 1, 15: 2, 55: 1, 86: 1, 54: 1, 24: 1, 91: 2, 92: 1, 29: 1, 95: 2}\n"
     ]
    }
   ],
   "source": [
    "n_repeats_dh = {element: long.count(element) for element in long_set}\n",
    "print(n_repeats_dh)"
   ]
  },
  {
   "cell_type": "markdown",
   "metadata": {
    "id": "Th5wKghw8aYj"
   },
   "source": [
    "7. Знайдіть три найменші **унікальні** елементи в списку `long` та виведіть їх на екран."
   ]
  },
  {
   "cell_type": "code",
   "execution_count": 40,
   "metadata": {
    "execution": {
     "iopub.execute_input": "2025-06-17T12:21:23.325062Z",
     "iopub.status.busy": "2025-06-17T12:21:23.325062Z",
     "iopub.status.idle": "2025-06-17T12:21:23.333315Z",
     "shell.execute_reply": "2025-06-17T12:21:23.333315Z",
     "shell.execute_reply.started": "2025-06-17T12:21:23.325062Z"
    }
   },
   "outputs": [],
   "source": [
    "long = [75, 39, 95, 1, 91, 43, 97, 24, 86, 75, 92, 91, 15, 15, 75, 95, 54, 29, 55, 98, 1, 1]"
   ]
  },
  {
   "cell_type": "code",
   "execution_count": 47,
   "metadata": {
    "execution": {
     "iopub.execute_input": "2025-06-17T17:36:26.431537Z",
     "iopub.status.busy": "2025-06-17T17:36:26.431537Z",
     "iopub.status.idle": "2025-06-17T17:36:26.446269Z",
     "shell.execute_reply": "2025-06-17T17:36:26.446269Z",
     "shell.execute_reply.started": "2025-06-17T17:36:26.431537Z"
    },
    "id": "NG9PvlnK8a2Q"
   },
   "outputs": [
    {
     "data": {
      "text/plain": [
       "[1, 15, 24]"
      ]
     },
     "execution_count": 47,
     "metadata": {},
     "output_type": "execute_result"
    }
   ],
   "source": [
    "sort_long = sorted(long)\n",
    "unique_first_el = [sort_long[0]]\n",
    "for i, el in enumerate(sort_long):\n",
    "    if el > sort_long[i-1] and len(unique_first_el) <=2:\n",
    "        unique_first_el.append(el)\n",
    "unique_first_el\n",
    "\n",
    "# купа різних ідей і реалізація без жодних підказок! Думаю тут багатьма способами можна досягнути результату (бо ідей в голові багато, а знань ще не дуже)"
   ]
  },
  {
   "cell_type": "markdown",
   "metadata": {
    "id": "XOW0GDBK8cn7"
   },
   "source": [
    "Очікувана відповідь: [1, 15, 24]"
   ]
  },
  {
   "cell_type": "code",
   "execution_count": 49,
   "metadata": {
    "execution": {
     "iopub.execute_input": "2025-06-17T17:37:11.140637Z",
     "iopub.status.busy": "2025-06-17T17:37:11.140637Z",
     "iopub.status.idle": "2025-06-17T17:37:11.148744Z",
     "shell.execute_reply": "2025-06-17T17:37:11.148744Z",
     "shell.execute_reply.started": "2025-06-17T17:37:11.140637Z"
    }
   },
   "outputs": [
    {
     "name": "stdout",
     "output_type": "stream",
     "text": [
      "[1, 15, 24]\n"
     ]
    }
   ],
   "source": [
    "# Другий спосіб\n",
    "unique_values = []\n",
    "for value in long:\n",
    "    if value not in unique_values:\n",
    "        unique_values.append(value)\n",
    "unique_values.sort()\n",
    "three_smallest = unique_values[:3]\n",
    "print(three_smallest)"
   ]
  },
  {
   "cell_type": "code",
   "execution_count": 58,
   "metadata": {
    "execution": {
     "iopub.execute_input": "2025-06-17T17:50:58.566161Z",
     "iopub.status.busy": "2025-06-17T17:50:58.566161Z",
     "iopub.status.idle": "2025-06-17T17:50:58.577009Z",
     "shell.execute_reply": "2025-06-17T17:50:58.575558Z",
     "shell.execute_reply.started": "2025-06-17T17:50:58.566161Z"
    }
   },
   "outputs": [
    {
     "name": "stdout",
     "output_type": "stream",
     "text": [
      "[1, 1, 1, 15, 15, 24, 29, 39, 43, 54, 55, 75, 75, 75, 86, 91, 91, 92, 95, 95, 97, 98]\n"
     ]
    }
   ],
   "source": [
    "# Третій спосіб\n",
    "unique_values2 = [val for val in long if val not in unique_values2]\n",
    "unique_values2.sort()\n",
    "# three_smallest2 = unique_values2[:3]\n",
    "print(unique_values2)\n",
    "# Так чомусь додає в список однакові елементи."
   ]
  },
  {
   "cell_type": "code",
   "execution_count": 67,
   "metadata": {
    "execution": {
     "iopub.execute_input": "2025-06-17T17:56:58.749311Z",
     "iopub.status.busy": "2025-06-17T17:56:58.747300Z",
     "iopub.status.idle": "2025-06-17T17:56:58.761494Z",
     "shell.execute_reply": "2025-06-17T17:56:58.760286Z",
     "shell.execute_reply.started": "2025-06-17T17:56:58.749311Z"
    }
   },
   "outputs": [
    {
     "data": {
      "text/plain": [
       "[1, 15, 24]"
      ]
     },
     "execution_count": 67,
     "metadata": {},
     "output_type": "execute_result"
    }
   ],
   "source": [
    "# Четвертий спосіб\n",
    "long_set = set(long)\n",
    "unique_list = list(long_set)\n",
    "three_smallest_el = sorted(unique_list)\n",
    "three_smallest_el[:3]"
   ]
  },
  {
   "cell_type": "code",
   "execution_count": null,
   "metadata": {},
   "outputs": [],
   "source": []
  }
 ],
 "metadata": {
  "colab": {
   "provenance": []
  },
  "kernelspec": {
   "display_name": "Python [conda env:base] *",
   "language": "python",
   "name": "conda-base-py"
  },
  "language_info": {
   "codemirror_mode": {
    "name": "ipython",
    "version": 3
   },
   "file_extension": ".py",
   "mimetype": "text/x-python",
   "name": "python",
   "nbconvert_exporter": "python",
   "pygments_lexer": "ipython3",
   "version": "3.12.7"
  }
 },
 "nbformat": 4,
 "nbformat_minor": 4
}
