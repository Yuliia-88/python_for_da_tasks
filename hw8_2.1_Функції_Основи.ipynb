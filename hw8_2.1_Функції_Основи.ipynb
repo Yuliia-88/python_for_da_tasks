{
 "cells": [
  {
   "cell_type": "markdown",
   "metadata": {
    "id": "QtHabST6Ez_n"
   },
   "source": [
    "# Домашнє завдання до теми \"Functions\""
   ]
  },
  {
   "cell_type": "markdown",
   "metadata": {
    "id": "6pg_NzFq5_kO"
   },
   "source": [
    "1. Напишіть фукнцію `print_message`, яка виводить на екран \"Я програмую на Python💪\" і викличіть цю фукнцію 5 разів (найкраще це зробити в циклі).\n",
    "\n",
    "  **Увага**: фукнція має робити чітко лише зазначений функціонал. Наявність додаткового функціоналу і аргументів, які не потрібні для виконання безпосередньо завдання, буде вважатись помилкою."
   ]
  },
  {
   "cell_type": "code",
   "execution_count": 1,
   "metadata": {
    "execution": {
     "iopub.execute_input": "2025-06-19T10:11:05.901400Z",
     "iopub.status.busy": "2025-06-19T10:11:05.901400Z",
     "iopub.status.idle": "2025-06-19T10:11:05.910748Z",
     "shell.execute_reply": "2025-06-19T10:11:05.910748Z",
     "shell.execute_reply.started": "2025-06-19T10:11:05.901400Z"
    },
    "id": "RbXsfwI_D8ql"
   },
   "outputs": [],
   "source": [
    "def print_message():\n",
    "    return \"Я програмую на Python💪\""
   ]
  },
  {
   "cell_type": "code",
   "execution_count": 8,
   "metadata": {
    "execution": {
     "iopub.execute_input": "2025-06-19T10:16:01.950080Z",
     "iopub.status.busy": "2025-06-19T10:16:01.950080Z",
     "iopub.status.idle": "2025-06-19T10:16:01.957310Z",
     "shell.execute_reply": "2025-06-19T10:16:01.956302Z",
     "shell.execute_reply.started": "2025-06-19T10:16:01.950080Z"
    }
   },
   "outputs": [
    {
     "name": "stdout",
     "output_type": "stream",
     "text": [
      "Я програмую на Python💪\n",
      "Я програмую на Python💪\n",
      "Я програмую на Python💪\n",
      "Я програмую на Python💪\n",
      "Я програмую на Python💪\n"
     ]
    }
   ],
   "source": [
    "for i in range(5):\n",
    "    print(print_message())"
   ]
  },
  {
   "cell_type": "markdown",
   "metadata": {
    "id": "oyRpWRXWBL9N"
   },
   "source": [
    "2. Напишіть функцію `calculation` яка приймає на вхід 4 аргументи типу int - `a`, `b`, `c`, `d` і вертає результат обчислення такої формули: $ (a + b - c) * d $.\n",
    "\n",
    "  Викличте функцію на наступному наборі аргументів і виведіть результат на екран:\n",
    "  ```\n",
    "  a = 16\n",
    "  b = 4\n",
    "  c = 9\n",
    "  d = 3\n",
    "  ```"
   ]
  },
  {
   "cell_type": "code",
   "execution_count": 20,
   "metadata": {
    "execution": {
     "iopub.execute_input": "2025-06-19T10:31:58.666041Z",
     "iopub.status.busy": "2025-06-19T10:31:58.666041Z",
     "iopub.status.idle": "2025-06-19T10:31:58.678412Z",
     "shell.execute_reply": "2025-06-19T10:31:58.676289Z",
     "shell.execute_reply.started": "2025-06-19T10:31:58.666041Z"
    },
    "id": "Ggt2tx6kD-LS"
   },
   "outputs": [],
   "source": [
    "def calculation(a: int, b: int, c: int, d: int) -> int:\n",
    "    assert type(a) == int and type(b) == int and type(c) == int and type(d) == int\n",
    "    return (a + b - c) * d"
   ]
  },
  {
   "cell_type": "code",
   "execution_count": 24,
   "metadata": {
    "execution": {
     "iopub.execute_input": "2025-06-19T10:34:10.970089Z",
     "iopub.status.busy": "2025-06-19T10:34:10.968076Z",
     "iopub.status.idle": "2025-06-19T10:34:10.978165Z",
     "shell.execute_reply": "2025-06-19T10:34:10.978165Z",
     "shell.execute_reply.started": "2025-06-19T10:34:10.968076Z"
    }
   },
   "outputs": [
    {
     "data": {
      "text/plain": [
       "33"
      ]
     },
     "execution_count": 24,
     "metadata": {},
     "output_type": "execute_result"
    }
   ],
   "source": [
    "a = 16\n",
    "b = 4\n",
    "c = 9\n",
    "d = 3\n",
    "calculation(a, b, c, d)"
   ]
  },
  {
   "cell_type": "markdown",
   "metadata": {
    "id": "5hf1CbllDU_t"
   },
   "source": [
    "3. Напишіть функцію, яка додає до аргумента 15 і вертає результат додавання. Викличте функцію, передаючи в якості аргументів кожну з наступних змінних по черзі, і виведіть кожного разу результат на екран.\n",
    "```\n",
    "x = 9\n",
    "y = 14\n",
    "z = -19\n",
    "```"
   ]
  },
  {
   "cell_type": "code",
   "execution_count": 43,
   "metadata": {
    "execution": {
     "iopub.execute_input": "2025-06-19T11:19:03.333319Z",
     "iopub.status.busy": "2025-06-19T11:19:03.333319Z",
     "iopub.status.idle": "2025-06-19T11:19:03.341353Z",
     "shell.execute_reply": "2025-06-19T11:19:03.339342Z",
     "shell.execute_reply.started": "2025-06-19T11:19:03.333319Z"
    },
    "id": "GvEs_nUtD_Cd"
   },
   "outputs": [],
   "source": [
    "def increment(a):\n",
    "    return a + 15"
   ]
  },
  {
   "cell_type": "code",
   "execution_count": 44,
   "metadata": {
    "execution": {
     "iopub.execute_input": "2025-06-19T11:19:04.100567Z",
     "iopub.status.busy": "2025-06-19T11:19:04.097526Z",
     "iopub.status.idle": "2025-06-19T11:19:04.107963Z",
     "shell.execute_reply": "2025-06-19T11:19:04.107963Z",
     "shell.execute_reply.started": "2025-06-19T11:19:04.100567Z"
    }
   },
   "outputs": [
    {
     "name": "stdout",
     "output_type": "stream",
     "text": [
      "24\n",
      "29\n",
      "-4\n"
     ]
    }
   ],
   "source": [
    "x = 9\n",
    "y = 14\n",
    "z = -19\n",
    "humbers = [x, y, z]\n",
    "for num in numbers:\n",
    "    result = increment(num)\n",
    "    print(result)"
   ]
  },
  {
   "cell_type": "markdown",
   "metadata": {
    "id": "bUuVBhie53uK"
   },
   "source": [
    "4. Напишіть функцію `multipy_numbers`, яка приймає два числа як аргументи і повертає їх добуток.\n",
    "\n",
    "  Викличіть функцію `multipy_numbers` на парах чисел\n",
    "- 10 і 2\n",
    "- 7 і 8\n",
    "- 1024 і 999.\n",
    "  \n",
    "  Виведіть результат кожного виклику.\n",
    "  При виконанні цього завдання з використанням циклу - отримаєте 2х балів за нього :)"
   ]
  },
  {
   "cell_type": "code",
   "execution_count": 46,
   "metadata": {
    "execution": {
     "iopub.execute_input": "2025-06-19T11:20:40.833878Z",
     "iopub.status.busy": "2025-06-19T11:20:40.833878Z",
     "iopub.status.idle": "2025-06-19T11:20:40.840359Z",
     "shell.execute_reply": "2025-06-19T11:20:40.840359Z",
     "shell.execute_reply.started": "2025-06-19T11:20:40.833878Z"
    },
    "id": "cDqrgZ4YEAKj"
   },
   "outputs": [],
   "source": [
    "def multipy_numbers(x, y):\n",
    "    return x * y"
   ]
  },
  {
   "cell_type": "code",
   "execution_count": 49,
   "metadata": {
    "execution": {
     "iopub.execute_input": "2025-06-19T11:30:46.029117Z",
     "iopub.status.busy": "2025-06-19T11:30:46.029117Z",
     "iopub.status.idle": "2025-06-19T11:30:46.036177Z",
     "shell.execute_reply": "2025-06-19T11:30:46.036177Z",
     "shell.execute_reply.started": "2025-06-19T11:30:46.029117Z"
    }
   },
   "outputs": [
    {
     "name": "stdout",
     "output_type": "stream",
     "text": [
      "20\n",
      "56\n",
      "1022976\n"
     ]
    }
   ],
   "source": [
    "# Перший спосіб\n",
    "list1 = [10, 7, 1024]\n",
    "list2 = [2, 8, 999]\n",
    "for el1, el2 in zip(list1, list2):\n",
    "    result = multipy_numbers(el1, el2)\n",
    "    print(result)"
   ]
  },
  {
   "cell_type": "code",
   "execution_count": 50,
   "metadata": {
    "execution": {
     "iopub.execute_input": "2025-06-19T11:31:00.909363Z",
     "iopub.status.busy": "2025-06-19T11:31:00.907352Z",
     "iopub.status.idle": "2025-06-19T11:31:00.915605Z",
     "shell.execute_reply": "2025-06-19T11:31:00.915605Z",
     "shell.execute_reply.started": "2025-06-19T11:31:00.909363Z"
    }
   },
   "outputs": [
    {
     "name": "stdout",
     "output_type": "stream",
     "text": [
      "20\n",
      "56\n",
      "1022976\n"
     ]
    }
   ],
   "source": [
    "# Другий спосіб\n",
    "list_tuples = [(10, 2), (7, 8), (1024, 999)]\n",
    "for (a, b) in list_tuples:\n",
    "    result = multipy_numbers(a, b)\n",
    "    print(result)"
   ]
  },
  {
   "cell_type": "markdown",
   "metadata": {
    "id": "I03t46k27dDZ"
   },
   "source": [
    "5. **Ділення з перевіркою типів.**  \n",
    "\n",
    "  1. Напишіть функцію `int_division` яка приймає на вхід два аргументи типу `int` - `a` і `b`, і виконує ділення першого аргумента на другий: `a/b`. При цьому функція перед діленням перевіряє, чи другий аргумент не дорівнює 0. Якщо другий аргумент не 0, фукнція вертає результат ділення, інакше - замість виконання ділення, вертає повідомлення на екран \"Не можу виконати ділення на 0\".\n",
    "\n",
    "    Якщо типи, надані у функцію, не `int` - функція виводить повідомлення \"Не працюю з такими типами даних.\".\n",
    "\n",
    "  2. Запустіть функцію на наступних парах чисел:\n",
    "- 12 і 6\n",
    "- 20 і 0\n",
    "- 112 і 10\n",
    "- 99 і 0\n",
    "- 11 i 1.1\n",
    "\n",
    "    і виведіть на екран повідомлення \"Результат роботи функції: \" - і далі те, що повернула функція.\n",
    "\n",
    "  3. Дайте відповідь на питання: \"Чому в деяких випадках функція повернула None?\""
   ]
  },
  {
   "cell_type": "code",
   "execution_count": 77,
   "metadata": {
    "execution": {
     "iopub.execute_input": "2025-06-19T12:00:31.728002Z",
     "iopub.status.busy": "2025-06-19T12:00:31.723982Z",
     "iopub.status.idle": "2025-06-19T12:00:31.734083Z",
     "shell.execute_reply": "2025-06-19T12:00:31.734083Z",
     "shell.execute_reply.started": "2025-06-19T12:00:31.728002Z"
    }
   },
   "outputs": [],
   "source": [
    "def int_division(x: int, y: int):\n",
    "    if isinstance(x, int) and isinstance(y, int):\n",
    "        if y !=0:\n",
    "            return f\"Результат роботи функції: {x / y}\"\n",
    "        else:\n",
    "            return \"Не можу виконати ділення на 0.\"\n",
    "    else:\n",
    "        return \"Не працюю з такими типами даних.\""
   ]
  },
  {
   "cell_type": "code",
   "execution_count": 78,
   "metadata": {
    "execution": {
     "iopub.execute_input": "2025-06-19T12:00:44.892800Z",
     "iopub.status.busy": "2025-06-19T12:00:44.892800Z",
     "iopub.status.idle": "2025-06-19T12:00:44.904742Z",
     "shell.execute_reply": "2025-06-19T12:00:44.903063Z",
     "shell.execute_reply.started": "2025-06-19T12:00:44.892800Z"
    }
   },
   "outputs": [
    {
     "name": "stdout",
     "output_type": "stream",
     "text": [
      "Результат роботи функції: 2.0\n",
      "Не можу виконати ділення на 0.\n",
      "Результат роботи функції: 11.2\n",
      "Не можу виконати ділення на 0.\n",
      "Не працюю з такими типами даних.\n"
     ]
    }
   ],
   "source": [
    "number_pairs = [(12, 6), (20, 0), (112, 10), (99, 0), (11, 11.1)]\n",
    "for (a, b) in number_pairs:\n",
    "    result = int_division(a, b)\n",
    "    print(result)"
   ]
  },
  {
   "cell_type": "markdown",
   "metadata": {},
   "source": [
    "Функція жодного разу не поверне None, оскільки кожен раз прописано те, що вона повинна повернути (вказано return). \n",
    "Якщо return не прописувати, а просто виводити print, тоді буде None, якщо введуть нецілі числа або дільник виявиться нулем.\n",
    "\n",
    "Нижче змінений код, і там функція буде повертати None"
   ]
  },
  {
   "cell_type": "code",
   "execution_count": 86,
   "metadata": {
    "execution": {
     "iopub.execute_input": "2025-06-20T06:45:15.440415Z",
     "iopub.status.busy": "2025-06-20T06:45:15.440415Z",
     "iopub.status.idle": "2025-06-20T06:45:15.451965Z",
     "shell.execute_reply": "2025-06-20T06:45:15.451965Z",
     "shell.execute_reply.started": "2025-06-20T06:45:15.440415Z"
    }
   },
   "outputs": [],
   "source": [
    "def int_division2(a, b):\n",
    "    if not isinstance(a, int) or not isinstance(b, int):\n",
    "        print(\"Не працюю з такими типами даних.\")\n",
    "        return\n",
    "    if b == 0:\n",
    "        print(\"Не можу виконати ділення на 0\")\n",
    "        return\n",
    "    return a / b"
   ]
  },
  {
   "cell_type": "code",
   "execution_count": 87,
   "metadata": {
    "execution": {
     "iopub.execute_input": "2025-06-20T06:45:15.940494Z",
     "iopub.status.busy": "2025-06-20T06:45:15.940494Z",
     "iopub.status.idle": "2025-06-20T06:45:15.953144Z",
     "shell.execute_reply": "2025-06-20T06:45:15.953144Z",
     "shell.execute_reply.started": "2025-06-20T06:45:15.940494Z"
    }
   },
   "outputs": [
    {
     "name": "stdout",
     "output_type": "stream",
     "text": [
      "Результат роботи функції: 2.0\n",
      "Не можу виконати ділення на 0\n",
      "Результат роботи функції: None\n",
      "Результат роботи функції: 11.2\n",
      "Не можу виконати ділення на 0\n",
      "Результат роботи функції: None\n",
      "Не працюю з такими типами даних.\n",
      "Результат роботи функції: None\n"
     ]
    }
   ],
   "source": [
    "number_pairs = [(12, 6), (20, 0), (112, 10), (99, 0), (11, 11.1)]\n",
    "for (a, b) in number_pairs:\n",
    "    result = int_division2(a, b)\n",
    "    print(\"Результат роботи функції:\", result)"
   ]
  },
  {
   "cell_type": "markdown",
   "metadata": {},
   "source": [
    "Виводить None, коли числа не цілі або при діленні на 0."
   ]
  }
 ],
 "metadata": {
  "colab": {
   "provenance": []
  },
  "kernelspec": {
   "display_name": "Python [conda env:base] *",
   "language": "python",
   "name": "conda-base-py"
  },
  "language_info": {
   "codemirror_mode": {
    "name": "ipython",
    "version": 3
   },
   "file_extension": ".py",
   "mimetype": "text/x-python",
   "name": "python",
   "nbconvert_exporter": "python",
   "pygments_lexer": "ipython3",
   "version": "3.12.7"
  }
 },
 "nbformat": 4,
 "nbformat_minor": 4
}
