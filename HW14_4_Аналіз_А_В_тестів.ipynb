{
 "cells": [
  {
   "cell_type": "markdown",
   "metadata": {
    "ExecuteTime": {
     "end_time": "2022-12-10T17:43:42.137588Z",
     "start_time": "2022-12-10T17:43:42.124712Z"
    },
    "id": "f41183ed"
   },
   "source": [
    "## Аналіз A/B-тестів\n",
    "\n",
    "Ви - аналітик даних в ІТ-компанії і до вас надійшла задача проаналізувати дані A/B тесту в популярній [грі Cookie Cats](https://www.facebook.com/cookiecatsgame). Це - гра-головоломка в стилі «з’єднай три», де гравець повинен з’єднати плитки одного кольору, щоб очистити дошку та виграти рівень. На дошці також зображені співаючі котики :)\n",
    "\n",
    "Під час проходження гри гравці стикаються з воротами, які змушують їх чекати деякий час, перш ніж вони зможуть прогресувати або зробити покупку в додатку.\n",
    "\n",
    "У цьому блоці завдань ми проаналізуємо результати A/B тесту, коли перші ворота в Cookie Cats було переміщено з рівня 30 на рівень 40. Зокрема, ми хочемо зрозуміти, як це вплинуло на утримання (retention) гравців. Тобто хочемо зрозуміти, чи переміщення воріт на 10 рівнів пізніше якимось чином вплинуло на те, що користувачі перестають грати в гру раніше чи пізніше з точки зору кількості їх днів з моменту встановлення гри.\n",
    "\n",
    "Будемо працювати з даними з файлу `cookie_cats.csv`. Колонки в даних наступні:\n",
    "\n",
    "- `userid` - унікальний номер, який ідентифікує кожного гравця.\n",
    "- `version` - чи потрапив гравець в контрольну групу (gate_30 - ворота на 30 рівні) чи тестову групу (gate_40 - ворота на 40 рівні).\n",
    "- `sum_gamerounds` - кількість ігрових раундів, зіграних гравцем протягом першого тижня після встановлення\n",
    "- `retention_1` - чи через 1 день після встановлення гравець повернувся і почав грати?\n",
    "- `retention_7` - чи через 7 днів після встановлення гравець повернувся і почав грати?\n",
    "\n",
    "Коли гравець встановлював гру, його випадковим чином призначали до групи gate_30 або gate_40."
   ]
  },
  {
   "cell_type": "markdown",
   "metadata": {
    "id": "XKhHA3eiueo0"
   },
   "source": [
    "1. Для початку, уявімо, що ми тільки плануємо проведення зазначеного А/B-тесту і хочемо зрозуміти, дані про скількох користувачів нам треба зібрати, аби досягнути відчутного ефекту. Відчутним ефектом ми вважатимемо збільшення утримання на 1% після внесення зміни. Обчисліть, скільки користувачів сумарно нам треба аби досягнути такого ефекту, якщо продакт менеджер нам повідомив, що базове утримання є 19%."
   ]
  },
  {
   "cell_type": "code",
   "execution_count": 1,
   "metadata": {
    "execution": {
     "iopub.execute_input": "2025-09-06T21:15:55.719497Z",
     "iopub.status.busy": "2025-09-06T21:15:55.719497Z",
     "iopub.status.idle": "2025-09-06T21:15:58.427353Z",
     "shell.execute_reply": "2025-09-06T21:15:58.427353Z",
     "shell.execute_reply.started": "2025-09-06T21:15:55.719497Z"
    },
    "id": "TcZ32BcIufKU"
   },
   "outputs": [],
   "source": [
    "import numpy as np\n",
    "import pandas as pd\n",
    "import scipy.stats as stats\n",
    "import statsmodels.stats.api as sms\n",
    "from math import ceil"
   ]
  },
  {
   "cell_type": "code",
   "execution_count": 2,
   "metadata": {
    "execution": {
     "iopub.execute_input": "2025-09-06T21:16:00.228721Z",
     "iopub.status.busy": "2025-09-06T21:16:00.228721Z",
     "iopub.status.idle": "2025-09-06T21:16:00.249288Z",
     "shell.execute_reply": "2025-09-06T21:16:00.249288Z",
     "shell.execute_reply.started": "2025-09-06T21:16:00.228721Z"
    }
   },
   "outputs": [
    {
     "name": "stdout",
     "output_type": "stream",
     "text": [
      "Сумарна кількість користувачів для тесту складає 49276.\n"
     ]
    }
   ],
   "source": [
    "# Дані\n",
    "p0 = 0.19\n",
    "p1 = 0.20\n",
    "alpha = 0.05\n",
    "\n",
    "# Обчислення сумарної кількості користувачів для А/В-тесту\n",
    "effect_size = sms.proportion_effectsize(p1, p0)       # Розрахунок розміру ефекту на основі наших очікуваних показників\n",
    "required_n = sms.NormalIndPower().solve_power(\n",
    "    effect_size,\n",
    "    power=0.8,\n",
    "    alpha=alpha,\n",
    "    ratio=1\n",
    "    )                                                  # Розрахунок необхідного розміру вибірки для кожної групи\n",
    "\n",
    "required_n = ceil(required_n)                          # Округлення до наступного цілого числа\n",
    "\n",
    "print(f\"Сумарна кількість користувачів для тесту складає {required_n * 2}.\")"
   ]
  },
  {
   "cell_type": "markdown",
   "metadata": {
    "id": "22f03df4"
   },
   "source": [
    "2. Зчитайте дані АВ тесту у змінну `df` та виведіть середнє значення показника показник `retention_7` (утримання на 7 день) по версіям гри. Сформулюйте гіпотезу: яка версія дає краще утримання через 7 днів після встановлення гри?"
   ]
  },
  {
   "cell_type": "code",
   "execution_count": 3,
   "metadata": {
    "execution": {
     "iopub.execute_input": "2025-09-06T21:16:04.026309Z",
     "iopub.status.busy": "2025-09-06T21:16:04.025309Z",
     "iopub.status.idle": "2025-09-06T21:16:04.152963Z",
     "shell.execute_reply": "2025-09-06T21:16:04.152509Z",
     "shell.execute_reply.started": "2025-09-06T21:16:04.026309Z"
    },
    "id": "MVzMTs-jh22b"
   },
   "outputs": [],
   "source": [
    "# Завантаження даних\n",
    "df = pd.read_csv('../data/statistical_hypothesis/cookie_cats.csv')"
   ]
  },
  {
   "cell_type": "code",
   "execution_count": 4,
   "metadata": {
    "execution": {
     "iopub.execute_input": "2025-09-06T21:16:05.863724Z",
     "iopub.status.busy": "2025-09-06T21:16:05.863187Z",
     "iopub.status.idle": "2025-09-06T21:16:05.883034Z",
     "shell.execute_reply": "2025-09-06T21:16:05.883034Z",
     "shell.execute_reply.started": "2025-09-06T21:16:05.863724Z"
    }
   },
   "outputs": [
    {
     "data": {
      "text/html": [
       "<div>\n",
       "<style scoped>\n",
       "    .dataframe tbody tr th:only-of-type {\n",
       "        vertical-align: middle;\n",
       "    }\n",
       "\n",
       "    .dataframe tbody tr th {\n",
       "        vertical-align: top;\n",
       "    }\n",
       "\n",
       "    .dataframe thead th {\n",
       "        text-align: right;\n",
       "    }\n",
       "</style>\n",
       "<table border=\"1\" class=\"dataframe\">\n",
       "  <thead>\n",
       "    <tr style=\"text-align: right;\">\n",
       "      <th></th>\n",
       "      <th>userid</th>\n",
       "      <th>version</th>\n",
       "      <th>sum_gamerounds</th>\n",
       "      <th>retention_1</th>\n",
       "      <th>retention_7</th>\n",
       "    </tr>\n",
       "  </thead>\n",
       "  <tbody>\n",
       "    <tr>\n",
       "      <th>0</th>\n",
       "      <td>116</td>\n",
       "      <td>gate_30</td>\n",
       "      <td>3</td>\n",
       "      <td>False</td>\n",
       "      <td>False</td>\n",
       "    </tr>\n",
       "    <tr>\n",
       "      <th>1</th>\n",
       "      <td>337</td>\n",
       "      <td>gate_30</td>\n",
       "      <td>38</td>\n",
       "      <td>True</td>\n",
       "      <td>False</td>\n",
       "    </tr>\n",
       "    <tr>\n",
       "      <th>2</th>\n",
       "      <td>377</td>\n",
       "      <td>gate_40</td>\n",
       "      <td>165</td>\n",
       "      <td>True</td>\n",
       "      <td>False</td>\n",
       "    </tr>\n",
       "    <tr>\n",
       "      <th>3</th>\n",
       "      <td>483</td>\n",
       "      <td>gate_40</td>\n",
       "      <td>1</td>\n",
       "      <td>False</td>\n",
       "      <td>False</td>\n",
       "    </tr>\n",
       "    <tr>\n",
       "      <th>4</th>\n",
       "      <td>488</td>\n",
       "      <td>gate_40</td>\n",
       "      <td>179</td>\n",
       "      <td>True</td>\n",
       "      <td>True</td>\n",
       "    </tr>\n",
       "    <tr>\n",
       "      <th>5</th>\n",
       "      <td>540</td>\n",
       "      <td>gate_40</td>\n",
       "      <td>187</td>\n",
       "      <td>True</td>\n",
       "      <td>True</td>\n",
       "    </tr>\n",
       "  </tbody>\n",
       "</table>\n",
       "</div>"
      ],
      "text/plain": [
       "   userid  version  sum_gamerounds  retention_1  retention_7\n",
       "0     116  gate_30               3        False        False\n",
       "1     337  gate_30              38         True        False\n",
       "2     377  gate_40             165         True        False\n",
       "3     483  gate_40               1        False        False\n",
       "4     488  gate_40             179         True         True\n",
       "5     540  gate_40             187         True         True"
      ]
     },
     "execution_count": 4,
     "metadata": {},
     "output_type": "execute_result"
    }
   ],
   "source": [
    "df[:6]"
   ]
  },
  {
   "cell_type": "code",
   "execution_count": 5,
   "metadata": {
    "execution": {
     "iopub.execute_input": "2025-09-06T21:16:10.386450Z",
     "iopub.status.busy": "2025-09-06T21:16:10.386450Z",
     "iopub.status.idle": "2025-09-06T21:16:10.401422Z",
     "shell.execute_reply": "2025-09-06T21:16:10.400332Z",
     "shell.execute_reply.started": "2025-09-06T21:16:10.386450Z"
    }
   },
   "outputs": [
    {
     "name": "stdout",
     "output_type": "stream",
     "text": [
      "<class 'pandas.core.frame.DataFrame'>\n",
      "RangeIndex: 90189 entries, 0 to 90188\n",
      "Data columns (total 5 columns):\n",
      " #   Column          Non-Null Count  Dtype \n",
      "---  ------          --------------  ----- \n",
      " 0   userid          90189 non-null  int64 \n",
      " 1   version         90189 non-null  object\n",
      " 2   sum_gamerounds  90189 non-null  int64 \n",
      " 3   retention_1     90189 non-null  bool  \n",
      " 4   retention_7     90189 non-null  bool  \n",
      "dtypes: bool(2), int64(2), object(1)\n",
      "memory usage: 2.2+ MB\n"
     ]
    }
   ],
   "source": [
    "df.info()"
   ]
  },
  {
   "cell_type": "code",
   "execution_count": 6,
   "metadata": {
    "execution": {
     "iopub.execute_input": "2025-09-06T21:16:13.941926Z",
     "iopub.status.busy": "2025-09-06T21:16:13.941926Z",
     "iopub.status.idle": "2025-09-06T21:16:13.959938Z",
     "shell.execute_reply": "2025-09-06T21:16:13.958981Z",
     "shell.execute_reply.started": "2025-09-06T21:16:13.941926Z"
    }
   },
   "outputs": [
    {
     "name": "stdout",
     "output_type": "stream",
     "text": [
      "Є 0 користувачів, які зустрічаються кілька разів у наборі даних.\n"
     ]
    }
   ],
   "source": [
    "# Перевірка унікальності користувачів\n",
    "session_counts = df['userid'].value_counts(ascending=False)\n",
    "multi_users = session_counts[session_counts > 1].count()\n",
    "\n",
    "print(f'Є {multi_users} користувачів, які зустрічаються кілька разів у наборі даних.')"
   ]
  },
  {
   "cell_type": "code",
   "execution_count": 7,
   "metadata": {
    "execution": {
     "iopub.execute_input": "2025-09-06T21:16:16.196714Z",
     "iopub.status.busy": "2025-09-06T21:16:16.196714Z",
     "iopub.status.idle": "2025-09-06T21:16:16.211695Z",
     "shell.execute_reply": "2025-09-06T21:16:16.210731Z",
     "shell.execute_reply.started": "2025-09-06T21:16:16.196714Z"
    }
   },
   "outputs": [
    {
     "data": {
      "text/plain": [
       "version\n",
       "gate_40    45489\n",
       "gate_30    44700\n",
       "Name: count, dtype: int64"
      ]
     },
     "execution_count": 7,
     "metadata": {},
     "output_type": "execute_result"
    }
   ],
   "source": [
    "# Переконаємось щодо кількості користувачів в кожній групі\n",
    "df['version'].value_counts()"
   ]
  },
  {
   "cell_type": "code",
   "execution_count": 8,
   "metadata": {
    "execution": {
     "iopub.execute_input": "2025-09-06T21:16:19.686745Z",
     "iopub.status.busy": "2025-09-06T21:16:19.685524Z",
     "iopub.status.idle": "2025-09-06T21:16:19.703145Z",
     "shell.execute_reply": "2025-09-06T21:16:19.703145Z",
     "shell.execute_reply.started": "2025-09-06T21:16:19.686745Z"
    }
   },
   "outputs": [
    {
     "data": {
      "text/plain": [
       "version\n",
       "gate_30    0.1902\n",
       "gate_40    0.1820\n",
       "Name: retention_7, dtype: float64"
      ]
     },
     "execution_count": 8,
     "metadata": {},
     "output_type": "execute_result"
    }
   ],
   "source": [
    "# Середнє значення показника показника retention_7 по версіям гри\n",
    "retention_rates = df.groupby('version')['retention_7'].mean()\n",
    "retention_rates.round(4)"
   ]
  },
  {
   "cell_type": "markdown",
   "metadata": {},
   "source": [
    "Отримане значення відсотку утримання користувачів на сьомий день у контрольній групі (`gate_30`) відповідає заявленому продакт менеджером.  \n",
    "Судячи з отриманих значень, для gate_40 відсоток утримання не збільшився (18.2% проти 19.02%).  \n",
    "Вже видно, що попередня версія гри давала коращий результат, ніж нова версія.  \n",
    "**Гіпотези:**  \n",
    "$H_0: p_{treatment} = p_{control} $  (переміщення воріт не впливає на утримання)  \n",
    "$H_a: p_{treatment} \\ne p_{control} $ (відсотки утримання відрізняються)  \n",
    "Тип тесту: двосторонній"
   ]
  },
  {
   "cell_type": "markdown",
   "metadata": {
    "id": "74e9c6ca"
   },
   "source": [
    "3. Перевірте з допомогою пасуючого варіанту z-тесту, чи дає якась з версій гри кращий показник `retention_7` на рівні значущості 0.05. Обчисліть також довірчі інтервали для варіантів до переміщення воріт і після. Виведіть результат у форматі:\n",
    "\n",
    "    ```\n",
    "    z statistic: ...\n",
    "    p-value: ...\n",
    "    Довірчий інтервал 95% для групи control: [..., ...]\n",
    "    Довірчий інтервал 95% для групи treatment: [..., ...]\n",
    "    ```\n",
    "\n",
    "    де замість `...` - обчислені значення.\n",
    "    \n",
    "    В якості висновку дайте відповідь на два питання:  \n",
    "\n",
    "      1. Чи є статистична значущою різниця між поведінкою користувачів у різних версіях гри?   \n",
    "      2. Чи перетинаються довірчі інтервали утримання користувачів з різних версій гри? Про що це каже?  \n"
   ]
  },
  {
   "cell_type": "code",
   "execution_count": 11,
   "metadata": {
    "execution": {
     "iopub.execute_input": "2025-09-06T21:17:30.798272Z",
     "iopub.status.busy": "2025-09-06T21:17:30.798272Z",
     "iopub.status.idle": "2025-09-06T21:17:30.805674Z",
     "shell.execute_reply": "2025-09-06T21:17:30.805674Z",
     "shell.execute_reply.started": "2025-09-06T21:17:30.798272Z"
    },
    "id": "kXQE4gyjh5MS"
   },
   "outputs": [],
   "source": [
    "from statsmodels.stats.proportion import proportions_ztest, proportion_confint"
   ]
  },
  {
   "cell_type": "code",
   "execution_count": 12,
   "metadata": {
    "execution": {
     "iopub.execute_input": "2025-09-06T21:17:31.533657Z",
     "iopub.status.busy": "2025-09-06T21:17:31.533657Z",
     "iopub.status.idle": "2025-09-06T21:17:31.557006Z",
     "shell.execute_reply": "2025-09-06T21:17:31.556496Z",
     "shell.execute_reply.started": "2025-09-06T21:17:31.533657Z"
    }
   },
   "outputs": [],
   "source": [
    "control_results = df[df['version'] == 'gate_30']['retention_7']\n",
    "treatment_results = df[df['version'] == 'gate_40']['retention_7']"
   ]
  },
  {
   "cell_type": "code",
   "execution_count": 13,
   "metadata": {
    "execution": {
     "iopub.execute_input": "2025-09-06T21:17:33.790190Z",
     "iopub.status.busy": "2025-09-06T21:17:33.789158Z",
     "iopub.status.idle": "2025-09-06T21:17:33.798969Z",
     "shell.execute_reply": "2025-09-06T21:17:33.797190Z",
     "shell.execute_reply.started": "2025-09-06T21:17:33.790190Z"
    }
   },
   "outputs": [],
   "source": [
    "# Загальна кількість користувачів в кожній групі\n",
    "n_con = control_results.count()\n",
    "n_treat = treatment_results.count()\n",
    "\n",
    "# Формуємо масив успіхів та масив загальної кількості записів\n",
    "successes = [control_results.sum(), treatment_results.sum()]\n",
    "nobs = [n_con, n_treat]"
   ]
  },
  {
   "cell_type": "code",
   "execution_count": 14,
   "metadata": {
    "execution": {
     "iopub.execute_input": "2025-09-06T21:17:34.509585Z",
     "iopub.status.busy": "2025-09-06T21:17:34.509585Z",
     "iopub.status.idle": "2025-09-06T21:17:34.520029Z",
     "shell.execute_reply": "2025-09-06T21:17:34.520029Z",
     "shell.execute_reply.started": "2025-09-06T21:17:34.509585Z"
    }
   },
   "outputs": [
    {
     "name": "stdout",
     "output_type": "stream",
     "text": [
      "z statistic: 3.16\n",
      "p-value: 0.0016\n",
      "Довірчий інтервал 95% для групи control (gate_30): [0.187, 0.194]\n",
      "Довірчий інтервал 95% для групи treatment (gate_40): [0.178, 0.186]\n"
     ]
    }
   ],
   "source": [
    "# z-тест для пропорції у випадку двох вибірок\n",
    "z_stat, pval = proportions_ztest(successes, nobs=nobs)\n",
    "(lower_con, lower_treat), (upper_con, upper_treat) = proportion_confint(successes, nobs=nobs, alpha=0.05, method='normal')\n",
    "\n",
    "print(f'z statistic: {z_stat:.2f}')\n",
    "print(f'p-value: {pval:.4f}')\n",
    "print(f'Довірчий інтервал 95% для групи control (gate_30): [{lower_con:.3f}, {upper_con:.3f}]')\n",
    "print(f'Довірчий інтервал 95% для групи treatment (gate_40): [{lower_treat:.3f}, {upper_treat:.3f}]')"
   ]
  },
  {
   "cell_type": "code",
   "execution_count": 15,
   "metadata": {
    "execution": {
     "iopub.execute_input": "2025-09-06T21:17:35.959893Z",
     "iopub.status.busy": "2025-09-06T21:17:35.959893Z",
     "iopub.status.idle": "2025-09-06T21:17:35.967571Z",
     "shell.execute_reply": "2025-09-06T21:17:35.966561Z",
     "shell.execute_reply.started": "2025-09-06T21:17:35.959893Z"
    }
   },
   "outputs": [
    {
     "name": "stdout",
     "output_type": "stream",
     "text": [
      "============================================================\n",
      "ПРИЙНЯТТЯ РІШЕННЯ:\n",
      "============================================================\n",
      "Оскільки 0.0016 < 0.05. Відхиляємо гіпотезу H0.\n",
      "Це означає, що переміщення воріт суттєво вплинуло на утримання користувачів.\n"
     ]
    }
   ],
   "source": [
    "print('=' * 60)\n",
    "print('ПРИЙНЯТТЯ РІШЕННЯ:')\n",
    "print('=' * 60)\n",
    "if pval < alpha:\n",
    "    print(f\"Оскільки {pval:.4f} < {alpha}. Відхиляємо гіпотезу H0.\\nЦе означає, що переміщення воріт суттєво вплинуло на утримання користувачів.\")\n",
    "else:\n",
    "    print(\"Не відхиляємо H0. Висновок: доказів недостатньо, щоб стверджувати, що переміщення воріт суттєво вплинуло на відсоток утримання користувачів.\")"
   ]
  },
  {
   "cell_type": "markdown",
   "metadata": {},
   "source": [
    "**Висновки:**  \n",
    "- контольна версія гри (gate_30) має краще утримання на 7й день, ніж тестова версія (gate_40);\n",
    "- довірчі інтервали не перетинаються, це додатково підтверджує статистичну значущість різниці в поведінці користувачів."
   ]
  },
  {
   "cell_type": "markdown",
   "metadata": {
    "ExecuteTime": {
     "end_time": "2022-12-10T20:50:10.709766Z",
     "start_time": "2022-12-10T20:50:10.639999Z"
    },
    "id": "076cd867"
   },
   "source": [
    "4. Виконайте тест Хі-квадрат на рівні значущості 5% аби визначити, чи є залежність між версією гри та утриманням гравця на 7ий день після реєстрації.\n",
    "\n",
    "    - Напишіть, як для цього тесту будуть сформульовані гіпотези.\n",
    "    - Проведіть обчислення, виведіть p-значення і напишіть висновок за результатами тесту.\n"
   ]
  },
  {
   "cell_type": "code",
   "execution_count": 16,
   "metadata": {
    "execution": {
     "iopub.execute_input": "2025-09-06T21:17:44.741534Z",
     "iopub.status.busy": "2025-09-06T21:17:44.740501Z",
     "iopub.status.idle": "2025-09-06T21:17:44.769462Z",
     "shell.execute_reply": "2025-09-06T21:17:44.769462Z",
     "shell.execute_reply.started": "2025-09-06T21:17:44.741534Z"
    },
    "id": "kcwD-91Fh84n"
   },
   "outputs": [
    {
     "data": {
      "text/html": [
       "<div>\n",
       "<style scoped>\n",
       "    .dataframe tbody tr th:only-of-type {\n",
       "        vertical-align: middle;\n",
       "    }\n",
       "\n",
       "    .dataframe tbody tr th {\n",
       "        vertical-align: top;\n",
       "    }\n",
       "\n",
       "    .dataframe thead th {\n",
       "        text-align: right;\n",
       "    }\n",
       "</style>\n",
       "<table border=\"1\" class=\"dataframe\">\n",
       "  <thead>\n",
       "    <tr style=\"text-align: right;\">\n",
       "      <th>retention_7</th>\n",
       "      <th>False</th>\n",
       "      <th>True</th>\n",
       "    </tr>\n",
       "    <tr>\n",
       "      <th>version</th>\n",
       "      <th></th>\n",
       "      <th></th>\n",
       "    </tr>\n",
       "  </thead>\n",
       "  <tbody>\n",
       "    <tr>\n",
       "      <th>gate_30</th>\n",
       "      <td>36198</td>\n",
       "      <td>8502</td>\n",
       "    </tr>\n",
       "    <tr>\n",
       "      <th>gate_40</th>\n",
       "      <td>37210</td>\n",
       "      <td>8279</td>\n",
       "    </tr>\n",
       "  </tbody>\n",
       "</table>\n",
       "</div>"
      ],
      "text/plain": [
       "retention_7  False  True \n",
       "version                  \n",
       "gate_30      36198   8502\n",
       "gate_40      37210   8279"
      ]
     },
     "execution_count": 16,
     "metadata": {},
     "output_type": "execute_result"
    }
   ],
   "source": [
    "crosstab = pd.crosstab(df['version'], df['retention_7'])\n",
    "crosstab"
   ]
  },
  {
   "cell_type": "markdown",
   "metadata": {},
   "source": [
    "*Формулювання гіпотез для тесту Хі-квадрат:*\n",
    "- Н0:\n",
    "Версія гри не впливає на утримання гравця на 7-й день. Тобто, немає статистично значущої залежності між version і retention_7.\n",
    "- Н1:\n",
    "Версія гри впливає на утримання гравця. Є статистично значуща залежність між version і retention_7.\n"
   ]
  },
  {
   "cell_type": "code",
   "execution_count": 17,
   "metadata": {
    "execution": {
     "iopub.execute_input": "2025-09-06T21:17:48.108754Z",
     "iopub.status.busy": "2025-09-06T21:17:48.107752Z",
     "iopub.status.idle": "2025-09-06T21:17:48.116096Z",
     "shell.execute_reply": "2025-09-06T21:17:48.115088Z",
     "shell.execute_reply.started": "2025-09-06T21:17:48.108754Z"
    }
   },
   "outputs": [
    {
     "name": "stdout",
     "output_type": "stream",
     "text": [
      "χ² = 9.959\n",
      "p-value = 0.00160\n",
      "Ступені свободи = 1\n",
      "Очікувані частоти:\n",
      " [[36382.90257127  8317.09742873]\n",
      " [37025.09742873  8463.90257127]]\n"
     ]
    }
   ],
   "source": [
    "chi2, p, dof, expected = stats.chi2_contingency(crosstab)\n",
    "\n",
    "print(f\"χ² = {chi2:.3f}\")\n",
    "print(f\"p-value = {p:.5f}\")\n",
    "print(f\"Ступені свободи = {dof}\")\n",
    "print(\"Очікувані частоти:\\n\", expected)"
   ]
  },
  {
   "cell_type": "code",
   "execution_count": 18,
   "metadata": {
    "execution": {
     "iopub.execute_input": "2025-09-06T21:17:50.682599Z",
     "iopub.status.busy": "2025-09-06T21:17:50.682599Z",
     "iopub.status.idle": "2025-09-06T21:17:50.688764Z",
     "shell.execute_reply": "2025-09-06T21:17:50.687754Z",
     "shell.execute_reply.started": "2025-09-06T21:17:50.682599Z"
    }
   },
   "outputs": [
    {
     "name": "stdout",
     "output_type": "stream",
     "text": [
      "============================================================\n",
      "ПРИЙНЯТТЯ РІШЕННЯ:\n",
      "============================================================\n",
      "Оскільки 0.0016 < 0.05. Відхиляємо гіпотезу H0.\n",
      "Це означає, що існує статистично значуща залежність між версією гри і тим, чи повернувся гравець на 7-й день.\n"
     ]
    }
   ],
   "source": [
    "print('=' * 60)\n",
    "print('ПРИЙНЯТТЯ РІШЕННЯ:')\n",
    "print('=' * 60)\n",
    "if p < alpha:\n",
    "    print(f\"Оскільки {p:.4f} < {alpha}. Відхиляємо гіпотезу H0.\\nЦе означає, що існує статистично значуща залежність між версією гри і тим, чи повернувся гравець на 7-й день.\")\n",
    "else:\n",
    "    print(\"Не відхиляємо H0. Висновок: доказів недостатньо, щоб стверджувати, що версія гри впливає на утримання гравця на 7-й день.\")"
   ]
  }
 ],
 "metadata": {
  "colab": {
   "provenance": []
  },
  "kernelspec": {
   "display_name": "Python [conda env:base] *",
   "language": "python",
   "name": "conda-base-py"
  },
  "language_info": {
   "codemirror_mode": {
    "name": "ipython",
    "version": 3
   },
   "file_extension": ".py",
   "mimetype": "text/x-python",
   "name": "python",
   "nbconvert_exporter": "python",
   "pygments_lexer": "ipython3",
   "version": "3.12.7"
  }
 },
 "nbformat": 4,
 "nbformat_minor": 4
}
