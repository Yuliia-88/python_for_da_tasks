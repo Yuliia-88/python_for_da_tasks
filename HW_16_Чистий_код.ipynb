{
 "cells": [
  {
   "cell_type": "markdown",
   "id": "aed503f1",
   "metadata": {
    "ExecuteTime": {
     "end_time": "2023-07-27T20:14:32.871852Z",
     "start_time": "2023-07-27T20:14:31.036121Z"
    },
    "id": "aed503f1"
   },
   "source": [
    "У завданнях 1-4. Вам наданий простий код на Python, який не відповідає вказівкам PEP8. Ваше завдання — відредагувати код так, аби він відповідав PEP8. Напишіть після редагуванню коду, дотримання яких правил з pep8 ви досягли в відредагованій версі, наприклад\n",
    "```\n",
    "- додала пробіли навколо бінарного оператора\n",
    "- додала два порожні рядки між визначеннями функцій\n",
    "і тд\n",
    "```\n",
    "Також можна зазанчити використані правила коментарями по коду, а не окремим повідомленням.\n",
    "\n",
    "Відредагований код має виконувати весь той самий функціонал, але бути написаний відповідно до вимог до гарного коду на Python! Не забудьте запустити відредагований код, він має бути робочим."
   ]
  },
  {
   "cell_type": "markdown",
   "id": "e7fea147",
   "metadata": {
    "id": "e7fea147"
   },
   "source": [
    "Завдання 1."
   ]
  },
  {
   "cell_type": "code",
   "execution_count": 1,
   "id": "f63d84d7",
   "metadata": {
    "ExecuteTime": {
     "end_time": "2023-07-29T17:02:37.075783Z",
     "start_time": "2023-07-29T17:02:37.035259Z"
    },
    "colab": {
     "base_uri": "https://localhost:8080/",
     "height": 72
    },
    "execution": {
     "iopub.execute_input": "2025-09-30T10:34:41.124200Z",
     "iopub.status.busy": "2025-09-30T10:34:41.123196Z",
     "iopub.status.idle": "2025-09-30T10:34:41.157436Z",
     "shell.execute_reply": "2025-09-30T10:34:41.153861Z",
     "shell.execute_reply.started": "2025-09-30T10:34:41.124200Z"
    },
    "id": "f63d84d7",
    "outputId": "56d49b5b-c8f1-4cd0-fd87-1774c3b86729"
   },
   "outputs": [
    {
     "name": "stdout",
     "output_type": "stream",
     "text": [
      "Hello, John\n"
     ]
    },
    {
     "data": {
      "text/plain": [
       "None"
      ]
     },
     "metadata": {},
     "output_type": "display_data"
    },
    {
     "data": {
      "text/plain": [
       "8"
      ]
     },
     "metadata": {},
     "output_type": "display_data"
    }
   ],
   "source": [
    "# bad code\n",
    "def greet(name):print(f\"Hello, {name}\")\n",
    "def add(n1,n2):return n1+n2\n",
    "\n",
    "x = 5;y = 3\n",
    "display(greet(\"John\"),add(x,y))\n"
   ]
  },
  {
   "cell_type": "code",
   "execution_count": 2,
   "id": "41b7e672",
   "metadata": {
    "colab": {
     "base_uri": "https://localhost:8080/",
     "height": 72
    },
    "execution": {
     "iopub.execute_input": "2025-09-30T10:34:41.160477Z",
     "iopub.status.busy": "2025-09-30T10:34:41.159454Z",
     "iopub.status.idle": "2025-09-30T10:34:41.186751Z",
     "shell.execute_reply": "2025-09-30T10:34:41.184576Z",
     "shell.execute_reply.started": "2025-09-30T10:34:41.160477Z"
    },
    "id": "41b7e672",
    "outputId": "7043c287-0890-48da-bd42-12e20bf1885c"
   },
   "outputs": [
    {
     "name": "stdout",
     "output_type": "stream",
     "text": [
      "Hello, John\n"
     ]
    },
    {
     "data": {
      "text/plain": [
       "None"
      ]
     },
     "metadata": {},
     "output_type": "display_data"
    },
    {
     "data": {
      "text/plain": [
       "8"
      ]
     },
     "metadata": {},
     "output_type": "display_data"
    }
   ],
   "source": [
    "# edited code\n",
    "def greet(name):              # перенесла на новий рядок тіло функції\n",
    "    print(f\"Hello, {name}\")   # поставила 4 пробіли на початку рядка;\n",
    "# додала два порожні рядки між визначеннями функцій\n",
    "\n",
    "def add(n1, n2):          # додала пробіл після коми; перенесла на новий рядок тіло функції\n",
    "    return n1 + n2        # 4 пробіли на початку рядка; пробіли навколо бінарного оператора\n",
    "\n",
    "x = 5                     # кожну змінну задаємо з нового рядка коду\n",
    "y = 3\n",
    "display(greet(\"John\"), add(x, y))   # пробіл після коми та між аргументами функції add"
   ]
  },
  {
   "cell_type": "markdown",
   "id": "cea88baf",
   "metadata": {
    "id": "cea88baf"
   },
   "source": [
    "Завдання 2."
   ]
  },
  {
   "cell_type": "code",
   "execution_count": 3,
   "id": "dfb6d2b5",
   "metadata": {
    "ExecuteTime": {
     "end_time": "2023-07-29T17:05:49.706098Z",
     "start_time": "2023-07-29T17:05:49.688255Z"
    },
    "colab": {
     "base_uri": "https://localhost:8080/"
    },
    "execution": {
     "iopub.execute_input": "2025-09-30T10:34:44.159368Z",
     "iopub.status.busy": "2025-09-30T10:34:44.159368Z",
     "iopub.status.idle": "2025-09-30T10:34:44.168900Z",
     "shell.execute_reply": "2025-09-30T10:34:44.167377Z",
     "shell.execute_reply.started": "2025-09-30T10:34:44.159368Z"
    },
    "id": "dfb6d2b5",
    "outputId": "9647d383-f635-4269-b36b-af23699d8e3b"
   },
   "outputs": [
    {
     "name": "stdout",
     "output_type": "stream",
     "text": [
      "Area: 78.53981633974483 Circumference: 31.41592653589793\n"
     ]
    }
   ],
   "source": [
    "# bad code\n",
    "from math import *\n",
    "def calcArea(r):return pi*r**2\n",
    "def calcCircumference(r):return 2*pi*r\n",
    "\n",
    "radius=5\n",
    "print(\"Area:\",calcArea(radius),\"Circumference:\",calcCircumference(radius))"
   ]
  },
  {
   "cell_type": "code",
   "execution_count": 4,
   "id": "df263672",
   "metadata": {
    "colab": {
     "base_uri": "https://localhost:8080/"
    },
    "execution": {
     "iopub.execute_input": "2025-09-30T10:34:45.305511Z",
     "iopub.status.busy": "2025-09-30T10:34:45.304557Z",
     "iopub.status.idle": "2025-09-30T10:34:45.313950Z",
     "shell.execute_reply": "2025-09-30T10:34:45.312832Z",
     "shell.execute_reply.started": "2025-09-30T10:34:45.305511Z"
    },
    "id": "df263672",
    "outputId": "ee6fc41d-86ca-489f-a987-169903d221b7"
   },
   "outputs": [
    {
     "name": "stdout",
     "output_type": "stream",
     "text": [
      "Area: 78.53981633974483 Circumference: 31.41592653589793\n"
     ]
    }
   ],
   "source": [
    "# edited code\n",
    "from math import *          # вставила порожній рядок після імпорту бібліотеки\n",
    "                            # назви функцій через _ та все з малої літери\n",
    "def calc_area(r):           # перенесла на новий рядок тіло функції\n",
    "    return pi * r ** 2      # 4 пробіли на початку рядка; пробіли навколо бінарних операторів\n",
    "                            # додала два порожні рядки між визначеннями функцій\n",
    "\n",
    "def calc_circumference(r):\n",
    "    return 2 * pi * r       # 4 пробіли на початку рядка; пробіли навколо бінарних операторів\n",
    "\n",
    "radius = 5                  # поставила пробіли навколо '='\n",
    "print(\"Area:\", calc_area(radius),       # перенесення на новий рядок\n",
    "      \"Circumference:\", calc_circumference(radius))\n",
    "# в print поставила пробіли після ком та відредагувала назви функцій"
   ]
  },
  {
   "cell_type": "markdown",
   "id": "hSH5xxK425HG",
   "metadata": {
    "id": "hSH5xxK425HG"
   },
   "source": [
    "PEP8 не рекомендує `import *`, краще явно імпортувати `pi`."
   ]
  },
  {
   "cell_type": "markdown",
   "id": "1fd691b7",
   "metadata": {
    "id": "1fd691b7"
   },
   "source": [
    "Завдання 3."
   ]
  },
  {
   "cell_type": "code",
   "execution_count": 5,
   "id": "1d5acb2d",
   "metadata": {
    "ExecuteTime": {
     "end_time": "2023-07-29T17:06:18.612622Z",
     "start_time": "2023-07-29T17:06:18.598477Z"
    },
    "execution": {
     "iopub.execute_input": "2025-09-30T10:34:47.780685Z",
     "iopub.status.busy": "2025-09-30T10:34:47.779681Z",
     "iopub.status.idle": "2025-09-30T10:34:47.786611Z",
     "shell.execute_reply": "2025-09-30T10:34:47.785598Z",
     "shell.execute_reply.started": "2025-09-30T10:34:47.780685Z"
    },
    "id": "1d5acb2d"
   },
   "outputs": [],
   "source": [
    "# bad code\n",
    "class animal: pass\n",
    "class dog(animal):\n",
    "    def __init__(self,name):\n",
    "        self.name=name\n",
    "        self.type='Dog'"
   ]
  },
  {
   "cell_type": "code",
   "execution_count": 6,
   "id": "0d4b2b8a",
   "metadata": {
    "execution": {
     "iopub.execute_input": "2025-09-30T10:34:48.757853Z",
     "iopub.status.busy": "2025-09-30T10:34:48.757853Z",
     "iopub.status.idle": "2025-09-30T10:34:48.766373Z",
     "shell.execute_reply": "2025-09-30T10:34:48.763848Z",
     "shell.execute_reply.started": "2025-09-30T10:34:48.757853Z"
    },
    "id": "0d4b2b8a"
   },
   "outputs": [],
   "source": [
    "# edited code\n",
    "class Animal:          # імена класів в CamelCase; pass перенесла на новий рядок\n",
    "    pass               # додала 4 пробіли на початку рядка\n",
    "\n",
    "class Dog(Animal):            # додала два порожні рядки між визначеннями класів\n",
    "    def __init__(self, name):  # додала пробіл після коми\n",
    "        self.name = name       # додала пробіли навколо бінарного оператора\n",
    "        self.type = 'Dog'      # додала пробіли навколо бінарного оператора"
   ]
  },
  {
   "cell_type": "markdown",
   "id": "7d1d4f5d",
   "metadata": {
    "id": "7d1d4f5d"
   },
   "source": [
    "Завдання 4."
   ]
  },
  {
   "cell_type": "code",
   "execution_count": 7,
   "id": "a91c1cc4",
   "metadata": {
    "ExecuteTime": {
     "end_time": "2023-07-29T17:06:47.180263Z",
     "start_time": "2023-07-29T17:06:47.173617Z"
    },
    "colab": {
     "base_uri": "https://localhost:8080/"
    },
    "execution": {
     "iopub.execute_input": "2025-09-30T10:34:50.149090Z",
     "iopub.status.busy": "2025-09-30T10:34:50.149090Z",
     "iopub.status.idle": "2025-09-30T10:34:50.157677Z",
     "shell.execute_reply": "2025-09-30T10:34:50.155662Z",
     "shell.execute_reply.started": "2025-09-30T10:34:50.149090Z"
    },
    "id": "a91c1cc4",
    "outputId": "b891d874-bee2-4c1f-cf8b-0c0f661c61d4"
   },
   "outputs": [
    {
     "name": "stdout",
     "output_type": "stream",
     "text": [
      "1\n",
      "2\n",
      "3\n",
      "4\n",
      "5\n"
     ]
    }
   ],
   "source": [
    "# bad code\n",
    "list=[1,2,3,4,5]\n",
    "for i in range(len(list)):print(list[i])"
   ]
  },
  {
   "cell_type": "code",
   "execution_count": 8,
   "id": "c0f9541a",
   "metadata": {
    "colab": {
     "base_uri": "https://localhost:8080/"
    },
    "execution": {
     "iopub.execute_input": "2025-09-30T10:34:52.125658Z",
     "iopub.status.busy": "2025-09-30T10:34:52.124381Z",
     "iopub.status.idle": "2025-09-30T10:34:52.136655Z",
     "shell.execute_reply": "2025-09-30T10:34:52.134238Z",
     "shell.execute_reply.started": "2025-09-30T10:34:52.125658Z"
    },
    "id": "c0f9541a",
    "outputId": "07812ce8-9678-46e3-af19-2b11189ace0d"
   },
   "outputs": [
    {
     "name": "stdout",
     "output_type": "stream",
     "text": [
      "1\n",
      "2\n",
      "3\n",
      "4\n",
      "5\n"
     ]
    }
   ],
   "source": [
    "# edited code\n",
    "list_ = [1, 2, 3, 4, 5]      # додала пробіли навколо '=' та після ком\n",
    "for item in list:            # замінила частину коду 'i in range(len(list))'\n",
    "    print(item)              # перенесла на новий рядок, замінила 'list[i]'"
   ]
  },
  {
   "cell_type": "markdown",
   "id": "Cj5Qd3Wu82FX",
   "metadata": {
    "id": "Cj5Qd3Wu82FX"
   },
   "source": [
    "Назву змінної `list` змінила на `list_`, щоб уникнути конфлікту з вбудованим\n",
    "типом `list` в Python."
   ]
  },
  {
   "cell_type": "markdown",
   "id": "8b0487e6",
   "metadata": {
    "id": "8b0487e6"
   },
   "source": [
    "5.У вас є DataFrame df, що представляє результати тестів студентів з математики, англійської мови та історії. Поточний код обчислює середній бал для кожного студента шляхом ітерації за рядками DataFrame за допомогою iterrows().\n",
    "\n",
    "Ваше завдання полягає в тому, щоб змінити код так, аби уникнути використання iterrows() і замість цього застосувати більш ефективне та читабельне рішення відповідно до правил, озвучених у лекції. Рефакторинг треба зробити лише частині, де рахуються середні, імпорт і визначення датафрейму лишаємо без змін."
   ]
  },
  {
   "cell_type": "code",
   "execution_count": 9,
   "id": "5b3cc648",
   "metadata": {
    "ExecuteTime": {
     "end_time": "2023-07-29T17:15:55.926882Z",
     "start_time": "2023-07-29T17:15:55.686415Z"
    },
    "execution": {
     "iopub.execute_input": "2025-09-30T10:34:58.077852Z",
     "iopub.status.busy": "2025-09-30T10:34:58.076770Z",
     "iopub.status.idle": "2025-09-30T10:34:58.115861Z",
     "shell.execute_reply": "2025-09-30T10:34:58.113795Z",
     "shell.execute_reply.started": "2025-09-30T10:34:58.077852Z"
    },
    "id": "5b3cc648"
   },
   "outputs": [],
   "source": [
    "import pandas as pd\n",
    "\n",
    "df = pd.DataFrame({\n",
    "    'student': ['Alice', 'Bob', 'Charlie', 'David'],\n",
    "    'math_score': [89, 94, 77, 85],\n",
    "    'english_score': [92, 88, 79, 85],\n",
    "    'history_score': [84, 92, 81, 89]\n",
    "})"
   ]
  },
  {
   "cell_type": "code",
   "execution_count": 10,
   "id": "f5858889",
   "metadata": {
    "ExecuteTime": {
     "end_time": "2023-07-29T17:15:55.926882Z",
     "start_time": "2023-07-29T17:15:55.686415Z"
    },
    "execution": {
     "iopub.execute_input": "2025-09-30T10:34:59.068880Z",
     "iopub.status.busy": "2025-09-30T10:34:59.067826Z",
     "iopub.status.idle": "2025-09-30T10:34:59.080801Z",
     "shell.execute_reply": "2025-09-30T10:34:59.078790Z",
     "shell.execute_reply.started": "2025-09-30T10:34:59.068880Z"
    },
    "id": "f5858889"
   },
   "outputs": [],
   "source": [
    "# bad code\n",
    "averages = []\n",
    "for _, row in df.iterrows():\n",
    "    averages.append((row['math_score'] + row['english_score'] + row['history_score']) / 3)\n",
    "\n",
    "df['average_score'] = averages"
   ]
  },
  {
   "cell_type": "code",
   "execution_count": 11,
   "id": "74cea4fc",
   "metadata": {
    "execution": {
     "iopub.execute_input": "2025-09-30T10:35:00.833443Z",
     "iopub.status.busy": "2025-09-30T10:35:00.832452Z",
     "iopub.status.idle": "2025-09-30T10:35:00.840918Z",
     "shell.execute_reply": "2025-09-30T10:35:00.839905Z",
     "shell.execute_reply.started": "2025-09-30T10:35:00.833443Z"
    },
    "id": "74cea4fc"
   },
   "outputs": [],
   "source": [
    "# edited code\n",
    "total_score = df['math_score'] + df['english_score'] + df['history_score']\n",
    "df['average_score'] = total_score / 3"
   ]
  },
  {
   "cell_type": "markdown",
   "id": "phWnYF2RBuwv",
   "metadata": {
    "id": "phWnYF2RBuwv"
   },
   "source": [
    "В коді повністю замінила цикл векторною операцією.  \n",
    "Створила змінну `total_score`, яка рахує суму балів по трьом предметам."
   ]
  },
  {
   "cell_type": "code",
   "execution_count": 12,
   "id": "OwxoMFSgDCsh",
   "metadata": {
    "execution": {
     "iopub.execute_input": "2025-09-30T10:35:05.467173Z",
     "iopub.status.busy": "2025-09-30T10:35:05.466176Z",
     "iopub.status.idle": "2025-09-30T10:35:05.535142Z",
     "shell.execute_reply": "2025-09-30T10:35:05.534635Z",
     "shell.execute_reply.started": "2025-09-30T10:35:05.467173Z"
    },
    "id": "OwxoMFSgDCsh"
   },
   "outputs": [],
   "source": [
    "# edited code (другий варіант)\n",
    "score_columns = ['math_score', 'english_score', 'history_score']\n",
    "df['average_score'] = df[score_columns].mean(axis=1)"
   ]
  },
  {
   "cell_type": "markdown",
   "id": "YigWaigPHPSV",
   "metadata": {
    "id": "YigWaigPHPSV"
   },
   "source": [
    "Другий спосіб також не використовує цикл.  \n",
    "В ньому легко змінити набір колонок, і при цьому не змінювати формулу для обчислення середнього."
   ]
  },
  {
   "cell_type": "markdown",
   "id": "34fb1db9",
   "metadata": {
    "id": "34fb1db9"
   },
   "source": [
    "6.У Вас є великий DataFrame df, що представляє транзакції продажу в магазині. Цей DataFrame містить понад 1 мільйон рядків і кілька стовпців, зокрема «product_name», «product_category», «product_price» і «transaction_date».\n",
    "\n",
    "І «product_name», і «product_category» є рядками, що представляють численні, але обмежені унікальні назви продуктів і категорії відповідно.\n",
    "\n",
    "Напишіть код для ефективного перетворення стовпців «product_name» і «product_category» на категорійний тип для ефективного використання пам’яті.\n",
    "Спробуйте вирішити це завдання, мінімізуючи використання пам'яті та зберігаючи читабельність коду. Крім того, виміряйте використання пам’яті до та після перетворення, щоб продемонструвати підвищення ефективності.\n",
    "\n",
    "Порівняйте кількість памʼяті, яку займає наданий набір даних і новий, створений Вами. В лекції був приклад. В скільки разів менше памʼяті займає новий датафрейм?"
   ]
  },
  {
   "cell_type": "code",
   "execution_count": 13,
   "id": "d4926909",
   "metadata": {
    "ExecuteTime": {
     "end_time": "2023-07-29T21:19:30.009527Z",
     "start_time": "2023-07-29T21:19:29.595210Z"
    },
    "execution": {
     "iopub.execute_input": "2025-09-30T10:35:09.756450Z",
     "iopub.status.busy": "2025-09-30T10:35:09.755463Z",
     "iopub.status.idle": "2025-09-30T10:35:10.434396Z",
     "shell.execute_reply": "2025-09-30T10:35:10.433867Z",
     "shell.execute_reply.started": "2025-09-30T10:35:09.756450Z"
    },
    "id": "d4926909"
   },
   "outputs": [],
   "source": [
    "import pandas as pd\n",
    "import numpy as np\n",
    "\n",
    "np.random.seed(0)\n",
    "\n",
    "products = ['apple', 'banana', 'cherry', 'dates', 'elderberry']\n",
    "categories = ['fruit', 'fruit', 'fruit', 'fruit', 'fruit']\n",
    "\n",
    "N_ROWS = 10**6\n",
    "df = pd.DataFrame({\n",
    "    'product_name': np.random.choice(products, N_ROWS),\n",
    "    'product_category': np.random.choice(categories, N_ROWS),\n",
    "    'product_price': np.random.uniform(1, 10, N_ROWS),\n",
    "    'transaction_date': pd.date_range(start='1/1/2000', periods=N_ROWS, freq='h')\n",
    "})"
   ]
  },
  {
   "cell_type": "code",
   "execution_count": 14,
   "id": "Kx0JG9h9LmM2",
   "metadata": {
    "execution": {
     "iopub.execute_input": "2025-09-30T10:35:14.449746Z",
     "iopub.status.busy": "2025-09-30T10:35:14.449746Z",
     "iopub.status.idle": "2025-09-30T10:35:14.457453Z",
     "shell.execute_reply": "2025-09-30T10:35:14.456187Z",
     "shell.execute_reply.started": "2025-09-30T10:35:14.449746Z"
    },
    "id": "Kx0JG9h9LmM2"
   },
   "outputs": [],
   "source": [
    "# Використання пам'яті до використання категоріальних даних\n",
    "start_size = df.memory_usage(index=False).sum()"
   ]
  },
  {
   "cell_type": "code",
   "execution_count": 15,
   "id": "jHvEoCvGK4AI",
   "metadata": {
    "execution": {
     "iopub.execute_input": "2025-09-30T10:35:26.430602Z",
     "iopub.status.busy": "2025-09-30T10:35:26.429292Z",
     "iopub.status.idle": "2025-09-30T10:35:26.800472Z",
     "shell.execute_reply": "2025-09-30T10:35:26.799130Z",
     "shell.execute_reply.started": "2025-09-30T10:35:26.430602Z"
    },
    "id": "jHvEoCvGK4AI"
   },
   "outputs": [],
   "source": [
    "# edited code\n",
    "cat_col = ['product_name', 'product_category']\n",
    "for col in cat_col:\n",
    "    df[col] = pd.Categorical(df[col])"
   ]
  },
  {
   "cell_type": "code",
   "execution_count": 16,
   "id": "y8xICftIN_Vt",
   "metadata": {
    "execution": {
     "iopub.execute_input": "2025-09-30T10:35:28.679365Z",
     "iopub.status.busy": "2025-09-30T10:35:28.678084Z",
     "iopub.status.idle": "2025-09-30T10:35:28.693012Z",
     "shell.execute_reply": "2025-09-30T10:35:28.691491Z",
     "shell.execute_reply.started": "2025-09-30T10:35:28.679365Z"
    },
    "id": "y8xICftIN_Vt"
   },
   "outputs": [],
   "source": [
    "# Використання пам'яті після використання категоріальних даних\n",
    "end_size = df.memory_usage(index=False).sum()"
   ]
  },
  {
   "cell_type": "code",
   "execution_count": 17,
   "id": "BcF6ZuKbNbN3",
   "metadata": {
    "colab": {
     "base_uri": "https://localhost:8080/"
    },
    "execution": {
     "iopub.execute_input": "2025-09-30T10:35:30.350474Z",
     "iopub.status.busy": "2025-09-30T10:35:30.349923Z",
     "iopub.status.idle": "2025-09-30T10:35:30.360997Z",
     "shell.execute_reply": "2025-09-30T10:35:30.359989Z",
     "shell.execute_reply.started": "2025-09-30T10:35:30.350474Z"
    },
    "id": "BcF6ZuKbNbN3",
    "outputId": "2ec50091-303e-405e-8f61-ff9ffbe9b9dc"
   },
   "outputs": [
    {
     "name": "stdout",
     "output_type": "stream",
     "text": [
      "Новий датафрейм займає в 1.78 рази менше пам'яті.\n"
     ]
    }
   ],
   "source": [
    "print(f\"Новий датафрейм займає в {round(start_size / end_size, 2)} рази менше пам'яті.\")"
   ]
  },
  {
   "cell_type": "markdown",
   "id": "131cc08d",
   "metadata": {
    "id": "131cc08d"
   },
   "source": [
    "7.В цьому завданні кілька пунктів. Треба виконати усі послідовно.   \n",
    "    7.1. Завантажте дані у pandas dataframe з файла `ecommerce_data.csv`. Обовʼязково при завантаженні вкажіть параметр `encoding = 'ISO-8859-1'`, без нього буде помилка.  \n",
    "    7.2. Заповніть пропущені значення в колонці CustomerID на -1 та перетворіть тип цієї колонки на str, адже зараз вона типу float, а це не правильний тип даних для ідентифікатора клієнта.  \n",
    "    7.3. З допомогою бібліотеки sweetviz побудуйте html звіт, який порівнює дані для країни \"Germany\" і країни \"France\". У Вас можуть виникнути багато попереджень (Warning), їх рекомендую вимкнути наступним шматком коду   \n",
    "    \n",
    "   \n",
    "    import warnings\n",
    "\n",
    "    with warnings.catch_warnings(record=True):\n",
    "        # your code\n",
    "    \n",
    "    \n",
    "   7.4.Напишіть 5 відмінностей для двох зазначених країн на основі побудованого звіту, без виконання додаткового аналізу іншими інструментами."
   ]
  },
  {
   "cell_type": "code",
   "execution_count": 18,
   "id": "r8OJ0FVPRl7f",
   "metadata": {
    "execution": {
     "iopub.execute_input": "2025-09-30T10:35:33.239688Z",
     "iopub.status.busy": "2025-09-30T10:35:33.239688Z",
     "iopub.status.idle": "2025-09-30T10:35:33.246734Z",
     "shell.execute_reply": "2025-09-30T10:35:33.244429Z",
     "shell.execute_reply.started": "2025-09-30T10:35:33.239688Z"
    },
    "id": "r8OJ0FVPRl7f"
   },
   "outputs": [],
   "source": [
    "import pandas as pd"
   ]
  },
  {
   "cell_type": "code",
   "execution_count": 20,
   "id": "17200e77",
   "metadata": {
    "execution": {
     "iopub.execute_input": "2025-09-30T10:35:47.453947Z",
     "iopub.status.busy": "2025-09-30T10:35:47.452528Z",
     "iopub.status.idle": "2025-09-30T10:35:48.874827Z",
     "shell.execute_reply": "2025-09-30T10:35:48.873804Z",
     "shell.execute_reply.started": "2025-09-30T10:35:47.453947Z"
    },
    "id": "17200e77"
   },
   "outputs": [],
   "source": [
    "# 7.1 Завантаження даних з параметром encoding = 'ISO-8859-1'\n",
    "df = pd.read_csv('ecommerce_data.csv', encoding='ISO-8859-1')"
   ]
  },
  {
   "cell_type": "code",
   "execution_count": 21,
   "id": "83xUZp3VSDn9",
   "metadata": {
    "colab": {
     "base_uri": "https://localhost:8080/",
     "height": 206
    },
    "execution": {
     "iopub.execute_input": "2025-09-30T10:35:51.297770Z",
     "iopub.status.busy": "2025-09-30T10:35:51.297770Z",
     "iopub.status.idle": "2025-09-30T10:35:51.335107Z",
     "shell.execute_reply": "2025-09-30T10:35:51.333094Z",
     "shell.execute_reply.started": "2025-09-30T10:35:51.297770Z"
    },
    "id": "83xUZp3VSDn9",
    "outputId": "2f921c2f-8c81-4aef-d432-03e7e4bac7b0"
   },
   "outputs": [
    {
     "data": {
      "text/html": [
       "<div>\n",
       "<style scoped>\n",
       "    .dataframe tbody tr th:only-of-type {\n",
       "        vertical-align: middle;\n",
       "    }\n",
       "\n",
       "    .dataframe tbody tr th {\n",
       "        vertical-align: top;\n",
       "    }\n",
       "\n",
       "    .dataframe thead th {\n",
       "        text-align: right;\n",
       "    }\n",
       "</style>\n",
       "<table border=\"1\" class=\"dataframe\">\n",
       "  <thead>\n",
       "    <tr style=\"text-align: right;\">\n",
       "      <th></th>\n",
       "      <th>InvoiceNo</th>\n",
       "      <th>StockCode</th>\n",
       "      <th>Description</th>\n",
       "      <th>Quantity</th>\n",
       "      <th>InvoiceDate</th>\n",
       "      <th>UnitPrice</th>\n",
       "      <th>CustomerID</th>\n",
       "      <th>Country</th>\n",
       "    </tr>\n",
       "  </thead>\n",
       "  <tbody>\n",
       "    <tr>\n",
       "      <th>0</th>\n",
       "      <td>536365</td>\n",
       "      <td>85123A</td>\n",
       "      <td>WHITE HANGING HEART T-LIGHT HOLDER</td>\n",
       "      <td>6</td>\n",
       "      <td>12/1/2010 8:26</td>\n",
       "      <td>2.55</td>\n",
       "      <td>17850.0</td>\n",
       "      <td>United Kingdom</td>\n",
       "    </tr>\n",
       "    <tr>\n",
       "      <th>1</th>\n",
       "      <td>536365</td>\n",
       "      <td>71053</td>\n",
       "      <td>WHITE METAL LANTERN</td>\n",
       "      <td>6</td>\n",
       "      <td>12/1/2010 8:26</td>\n",
       "      <td>3.39</td>\n",
       "      <td>17850.0</td>\n",
       "      <td>United Kingdom</td>\n",
       "    </tr>\n",
       "    <tr>\n",
       "      <th>2</th>\n",
       "      <td>536365</td>\n",
       "      <td>84406B</td>\n",
       "      <td>CREAM CUPID HEARTS COAT HANGER</td>\n",
       "      <td>8</td>\n",
       "      <td>12/1/2010 8:26</td>\n",
       "      <td>2.75</td>\n",
       "      <td>17850.0</td>\n",
       "      <td>United Kingdom</td>\n",
       "    </tr>\n",
       "    <tr>\n",
       "      <th>3</th>\n",
       "      <td>536365</td>\n",
       "      <td>84029G</td>\n",
       "      <td>KNITTED UNION FLAG HOT WATER BOTTLE</td>\n",
       "      <td>6</td>\n",
       "      <td>12/1/2010 8:26</td>\n",
       "      <td>3.39</td>\n",
       "      <td>17850.0</td>\n",
       "      <td>United Kingdom</td>\n",
       "    </tr>\n",
       "    <tr>\n",
       "      <th>4</th>\n",
       "      <td>536365</td>\n",
       "      <td>84029E</td>\n",
       "      <td>RED WOOLLY HOTTIE WHITE HEART.</td>\n",
       "      <td>6</td>\n",
       "      <td>12/1/2010 8:26</td>\n",
       "      <td>3.39</td>\n",
       "      <td>17850.0</td>\n",
       "      <td>United Kingdom</td>\n",
       "    </tr>\n",
       "  </tbody>\n",
       "</table>\n",
       "</div>"
      ],
      "text/plain": [
       "  InvoiceNo StockCode                          Description  Quantity  \\\n",
       "0    536365    85123A   WHITE HANGING HEART T-LIGHT HOLDER         6   \n",
       "1    536365     71053                  WHITE METAL LANTERN         6   \n",
       "2    536365    84406B       CREAM CUPID HEARTS COAT HANGER         8   \n",
       "3    536365    84029G  KNITTED UNION FLAG HOT WATER BOTTLE         6   \n",
       "4    536365    84029E       RED WOOLLY HOTTIE WHITE HEART.         6   \n",
       "\n",
       "      InvoiceDate  UnitPrice  CustomerID         Country  \n",
       "0  12/1/2010 8:26       2.55     17850.0  United Kingdom  \n",
       "1  12/1/2010 8:26       3.39     17850.0  United Kingdom  \n",
       "2  12/1/2010 8:26       2.75     17850.0  United Kingdom  \n",
       "3  12/1/2010 8:26       3.39     17850.0  United Kingdom  \n",
       "4  12/1/2010 8:26       3.39     17850.0  United Kingdom  "
      ]
     },
     "execution_count": 21,
     "metadata": {},
     "output_type": "execute_result"
    }
   ],
   "source": [
    "# Перегляд даних\n",
    "df.head()"
   ]
  },
  {
   "cell_type": "code",
   "execution_count": 22,
   "id": "gKOJ0CO5wDWY",
   "metadata": {
    "colab": {
     "base_uri": "https://localhost:8080/"
    },
    "execution": {
     "iopub.execute_input": "2025-09-30T10:36:04.771666Z",
     "iopub.status.busy": "2025-09-30T10:36:04.770666Z",
     "iopub.status.idle": "2025-09-30T10:36:05.037400Z",
     "shell.execute_reply": "2025-09-30T10:36:05.035241Z",
     "shell.execute_reply.started": "2025-09-30T10:36:04.771666Z"
    },
    "id": "gKOJ0CO5wDWY",
    "outputId": "b834fc44-97b7-4801-d63a-d798c18c7660"
   },
   "outputs": [
    {
     "name": "stdout",
     "output_type": "stream",
     "text": [
      "<class 'pandas.core.frame.DataFrame'>\n",
      "RangeIndex: 541909 entries, 0 to 541908\n",
      "Data columns (total 8 columns):\n",
      " #   Column       Non-Null Count   Dtype  \n",
      "---  ------       --------------   -----  \n",
      " 0   InvoiceNo    541909 non-null  object \n",
      " 1   StockCode    541909 non-null  object \n",
      " 2   Description  540455 non-null  object \n",
      " 3   Quantity     541909 non-null  int64  \n",
      " 4   InvoiceDate  541909 non-null  object \n",
      " 5   UnitPrice    541909 non-null  float64\n",
      " 6   CustomerID   406829 non-null  float64\n",
      " 7   Country      541909 non-null  object \n",
      "dtypes: float64(2), int64(1), object(5)\n",
      "memory usage: 33.1+ MB\n"
     ]
    }
   ],
   "source": [
    "df.info()"
   ]
  },
  {
   "cell_type": "code",
   "execution_count": 23,
   "id": "svRmwRlywk-r",
   "metadata": {
    "colab": {
     "base_uri": "https://localhost:8080/"
    },
    "execution": {
     "iopub.execute_input": "2025-09-30T10:36:08.436232Z",
     "iopub.status.busy": "2025-09-30T10:36:08.436232Z",
     "iopub.status.idle": "2025-09-30T10:36:08.631058Z",
     "shell.execute_reply": "2025-09-30T10:36:08.629524Z",
     "shell.execute_reply.started": "2025-09-30T10:36:08.436232Z"
    },
    "id": "svRmwRlywk-r",
    "outputId": "d2b73b34-e252-4f43-c09a-5f912d2d218d"
   },
   "outputs": [
    {
     "name": "stdout",
     "output_type": "stream",
     "text": [
      "Пропущені значення в кожній колонці:\n",
      "InvoiceNo           0\n",
      "StockCode           0\n",
      "Description      1454\n",
      "Quantity            0\n",
      "InvoiceDate         0\n",
      "UnitPrice           0\n",
      "CustomerID     135080\n",
      "Country             0\n",
      "dtype: int64\n"
     ]
    }
   ],
   "source": [
    "# Перевіряємо кількість пропущених даних по колонкам\n",
    "print(\"Пропущені значення в кожній колонці:\")\n",
    "print(df.isnull().sum())"
   ]
  },
  {
   "cell_type": "code",
   "execution_count": 24,
   "id": "bgWMWl58wzqz",
   "metadata": {
    "execution": {
     "iopub.execute_input": "2025-09-30T10:36:13.081298Z",
     "iopub.status.busy": "2025-09-30T10:36:13.081298Z",
     "iopub.status.idle": "2025-09-30T10:36:13.719503Z",
     "shell.execute_reply": "2025-09-30T10:36:13.717485Z",
     "shell.execute_reply.started": "2025-09-30T10:36:13.081298Z"
    },
    "id": "bgWMWl58wzqz"
   },
   "outputs": [],
   "source": [
    "# 7.2 Заповнюємо пропущені значення в колонці CustomerID\n",
    "df['CustomerID'] = df['CustomerID'].fillna(-1)\n",
    "\n",
    "# Перетворення типу колонки CustomerID на str\n",
    "df['CustomerID'] = df['CustomerID'].astype(str)"
   ]
  },
  {
   "cell_type": "code",
   "execution_count": 25,
   "id": "OKttbQTpzuY9",
   "metadata": {
    "colab": {
     "base_uri": "https://localhost:8080/"
    },
    "execution": {
     "iopub.execute_input": "2025-09-30T10:36:14.948959Z",
     "iopub.status.busy": "2025-09-30T10:36:14.948959Z",
     "iopub.status.idle": "2025-09-30T10:36:25.203821Z",
     "shell.execute_reply": "2025-09-30T10:36:25.200803Z",
     "shell.execute_reply.started": "2025-09-30T10:36:14.948959Z"
    },
    "id": "OKttbQTpzuY9",
    "outputId": "cfee794a-6eb9-4961-dd7b-7402e37cbb32",
    "scrolled": true
   },
   "outputs": [
    {
     "name": "stdout",
     "output_type": "stream",
     "text": [
      "Requirement already satisfied: sweetviz in c:\\users\\lenovo\\anaconda3\\lib\\site-packages (2.3.1)\n",
      "Requirement already satisfied: pandas!=1.0.0,!=1.0.1,!=1.0.2,>=0.25.3 in c:\\users\\lenovo\\anaconda3\\lib\\site-packages (from sweetviz) (2.2.2)\n",
      "Requirement already satisfied: numpy>=1.16.0 in c:\\users\\lenovo\\anaconda3\\lib\\site-packages (from sweetviz) (1.26.4)\n",
      "Requirement already satisfied: matplotlib>=3.1.3 in c:\\users\\lenovo\\anaconda3\\lib\\site-packages (from sweetviz) (3.9.2)\n",
      "Requirement already satisfied: tqdm>=4.43.0 in c:\\users\\lenovo\\anaconda3\\lib\\site-packages (from sweetviz) (4.66.5)\n",
      "Requirement already satisfied: scipy>=1.3.2 in c:\\users\\lenovo\\anaconda3\\lib\\site-packages (from sweetviz) (1.13.1)\n",
      "Requirement already satisfied: jinja2>=2.11.1 in c:\\users\\lenovo\\anaconda3\\lib\\site-packages (from sweetviz) (3.1.4)\n",
      "Requirement already satisfied: importlib-resources>=1.2.0 in c:\\users\\lenovo\\anaconda3\\lib\\site-packages (from sweetviz) (6.5.2)\n",
      "Requirement already satisfied: MarkupSafe>=2.0 in c:\\users\\lenovo\\anaconda3\\lib\\site-packages (from jinja2>=2.11.1->sweetviz) (2.1.3)\n",
      "Requirement already satisfied: contourpy>=1.0.1 in c:\\users\\lenovo\\anaconda3\\lib\\site-packages (from matplotlib>=3.1.3->sweetviz) (1.2.0)\n",
      "Requirement already satisfied: cycler>=0.10 in c:\\users\\lenovo\\anaconda3\\lib\\site-packages (from matplotlib>=3.1.3->sweetviz) (0.11.0)\n",
      "Requirement already satisfied: fonttools>=4.22.0 in c:\\users\\lenovo\\anaconda3\\lib\\site-packages (from matplotlib>=3.1.3->sweetviz) (4.51.0)\n",
      "Requirement already satisfied: kiwisolver>=1.3.1 in c:\\users\\lenovo\\anaconda3\\lib\\site-packages (from matplotlib>=3.1.3->sweetviz) (1.4.4)\n",
      "Requirement already satisfied: packaging>=20.0 in c:\\users\\lenovo\\anaconda3\\lib\\site-packages (from matplotlib>=3.1.3->sweetviz) (24.1)\n",
      "Requirement already satisfied: pillow>=8 in c:\\users\\lenovo\\anaconda3\\lib\\site-packages (from matplotlib>=3.1.3->sweetviz) (10.4.0)\n",
      "Requirement already satisfied: pyparsing>=2.3.1 in c:\\users\\lenovo\\anaconda3\\lib\\site-packages (from matplotlib>=3.1.3->sweetviz) (3.1.2)\n",
      "Requirement already satisfied: python-dateutil>=2.7 in c:\\users\\lenovo\\anaconda3\\lib\\site-packages (from matplotlib>=3.1.3->sweetviz) (2.9.0.post0)\n",
      "Requirement already satisfied: pytz>=2020.1 in c:\\users\\lenovo\\anaconda3\\lib\\site-packages (from pandas!=1.0.0,!=1.0.1,!=1.0.2,>=0.25.3->sweetviz) (2024.1)\n",
      "Requirement already satisfied: tzdata>=2022.7 in c:\\users\\lenovo\\anaconda3\\lib\\site-packages (from pandas!=1.0.0,!=1.0.1,!=1.0.2,>=0.25.3->sweetviz) (2023.3)\n",
      "Requirement already satisfied: colorama in c:\\users\\lenovo\\anaconda3\\lib\\site-packages (from tqdm>=4.43.0->sweetviz) (0.4.6)\n",
      "Requirement already satisfied: six>=1.5 in c:\\users\\lenovo\\anaconda3\\lib\\site-packages (from python-dateutil>=2.7->matplotlib>=3.1.3->sweetviz) (1.16.0)\n"
     ]
    }
   ],
   "source": [
    "! pip install sweetviz"
   ]
  },
  {
   "cell_type": "markdown",
   "id": "448b851b-0600-440a-ba69-b75becc19f0f",
   "metadata": {},
   "source": [
    " ##### 7.3 html звіт, який порівнює дані для країни \"Germany\" і країни \"France\", допомогою бібліотеки sweetviz"
   ]
  },
  {
   "cell_type": "code",
   "execution_count": 26,
   "id": "45de9f95-c485-4fa4-9a45-902acca89f6b",
   "metadata": {
    "execution": {
     "iopub.execute_input": "2025-09-30T10:36:42.549099Z",
     "iopub.status.busy": "2025-09-30T10:36:42.547599Z",
     "iopub.status.idle": "2025-09-30T10:36:42.730007Z",
     "shell.execute_reply": "2025-09-30T10:36:42.727940Z",
     "shell.execute_reply.started": "2025-09-30T10:36:42.549099Z"
    }
   },
   "outputs": [],
   "source": [
    "# Фільтруємо дані для кожної країни\n",
    "germany_df = df[df['Country'] == 'Germany']\n",
    "france_df = df[df['Country'] == 'France']"
   ]
  },
  {
   "cell_type": "code",
   "execution_count": 27,
   "id": "6607ac04-b2ad-43f2-b788-586c18aa386a",
   "metadata": {
    "execution": {
     "iopub.execute_input": "2025-09-30T10:36:43.867986Z",
     "iopub.status.busy": "2025-09-30T10:36:43.867986Z",
     "iopub.status.idle": "2025-09-30T10:36:56.536038Z",
     "shell.execute_reply": "2025-09-30T10:36:56.533802Z",
     "shell.execute_reply.started": "2025-09-30T10:36:43.867986Z"
    }
   },
   "outputs": [
    {
     "data": {
      "application/vnd.jupyter.widget-view+json": {
       "model_id": "cc85517dc66f4c7ca95c1e42f7f56d41",
       "version_major": 2,
       "version_minor": 0
      },
      "text/plain": [
       "                                             |                    | [  0%]   00:00 -> (? left)"
      ]
     },
     "metadata": {},
     "output_type": "display_data"
    },
    {
     "name": "stdout",
     "output_type": "stream",
     "text": [
      "Report sweet_germany_vs_france_report.html was generated! NOTEBOOK/COLAB USERS: the web browser MAY not pop up, regardless, the report IS saved in your notebook/colab files.\n"
     ]
    }
   ],
   "source": [
    "import sweetviz as sv\n",
    "import warnings\n",
    "\n",
    "# Порівнюємо дані\n",
    "with warnings.catch_warnings(record=True):\n",
    "    compare_report = sv.compare(\n",
    "        [germany_df, \"Germany\"], [france_df, \"France\"])\n",
    "    compare_report.show_html('sweet_germany_vs_france_report.html')"
   ]
  },
  {
   "cell_type": "markdown",
   "id": "835ce9fc-9295-4e73-ad4b-587bd7afd69d",
   "metadata": {},
   "source": [
    "##### 7.4 Відмінності між країнами \"Germany\" і \"France\" на основі html звіту:\n",
    "- для країни Germany кількість рядків більша, ніж для France, 9495 проти 8557;\n",
    "- в Germany 95 унікальних CustomerID, і 88 - у France;\n",
    "- в Germany 601 замовлення (номери рахунків-фактур) InvoiceNo, і 461 - у France;\n",
    "- середнє значення кожної позиціїї в замовленні Quantity в Germany складає 12, а у France - 13;\n",
    "- максимальне значення UnitPrice для Germany складає 600, а для France - 4161."
   ]
  },
  {
   "cell_type": "markdown",
   "id": "07ae375a",
   "metadata": {
    "ExecuteTime": {
     "end_time": "2023-07-30T18:55:42.650457Z",
     "start_time": "2023-07-30T18:55:42.635729Z"
    },
    "id": "07ae375a"
   },
   "source": [
    "8.З допомогою ChatGPT виявіть, чи є та які помилки в наступному коді.  \n",
    "Попросіть після цього переписати код із дотриманням PEP8. Проаналізуйте результат. Чи справді ChatGPT виправив всі стилістичні помилки? Якщо ні, напишіть йому ще кілька запитів, аби код відповідав вимогам PEP8.  \n",
    "Вставте фінальну версію коду з чату у ноутбук та запустіть на заданому списку. Має вертатись 50.  \n",
    "Напишіть, які промпти (інструкції) при зверненні до ChatGPT ви застосували та додайте скріншот(-и) з промптами та відповідями чата.  \n",
    "Якщо зробили висновки при виконанні цього завдання, то діліться також :)\n",
    "\n",
    "**ЯК ВСТАВИТИ СКРІНШОТ в Jupyter Notebook** :\n",
    "1. Створіть нову Markdown клітинку\n",
    "2. В новоствореній клітинці обираєте в меню Jupyter Notebook Edit -> Insert Image\n",
    "3. Обираєте картинку\n",
    "4. В клітинці має зʼявитись текст, який містить картинку. Запустіть клітинку.\n",
    "\n",
    "Або можна просто перетягнути картинку в Markdown клітинку."
   ]
  },
  {
   "cell_type": "code",
   "execution_count": 28,
   "id": "a5c010c4",
   "metadata": {
    "ExecuteTime": {
     "end_time": "2023-07-30T19:16:20.977219Z",
     "start_time": "2023-07-30T19:16:20.973688Z"
    },
    "execution": {
     "iopub.execute_input": "2025-09-30T10:37:14.825068Z",
     "iopub.status.busy": "2025-09-30T10:37:14.825068Z",
     "iopub.status.idle": "2025-09-30T10:37:14.832882Z",
     "shell.execute_reply": "2025-09-30T10:37:14.830863Z",
     "shell.execute_reply.started": "2025-09-30T10:37:14.825068Z"
    },
    "id": "a5c010c4"
   },
   "outputs": [],
   "source": [
    "def CalculateVariance(nl):\n",
    "    sum_list = 0\n",
    "    for n in nl:\n",
    "        sum_list = sum_list + n\n",
    "    mean = sum_list / len(nl)\n",
    "    sum_squares = 0\n",
    "    for n in nl:\n",
    "        sum_squares = sum_squares + n**2\n",
    "    mean_squares = sum_squares / len(nl)\n",
    "    return mean_squares"
   ]
  },
  {
   "cell_type": "code",
   "execution_count": 29,
   "id": "24bb3f81",
   "metadata": {
    "ExecuteTime": {
     "end_time": "2023-07-30T19:16:09.201841Z",
     "start_time": "2023-07-30T19:16:09.199174Z"
    },
    "execution": {
     "iopub.execute_input": "2025-09-30T10:37:16.525226Z",
     "iopub.status.busy": "2025-09-30T10:37:16.524230Z",
     "iopub.status.idle": "2025-09-30T10:37:16.530730Z",
     "shell.execute_reply": "2025-09-30T10:37:16.530223Z",
     "shell.execute_reply.started": "2025-09-30T10:37:16.525226Z"
    },
    "id": "24bb3f81"
   },
   "outputs": [],
   "source": [
    "input_list = [75, 80, 85, 90, 95]"
   ]
  },
  {
   "attachments": {
    "c437033d-d416-41fd-ba46-b8ba9cbc61d3.png": {
     "image/png": "[encoded data removed]"
    }
   },
   "cell_type": "markdown",
   "id": "3f88409c-7a23-4444-8392-ad4db7f03449",
   "metadata": {},
   "source": [
    "![image.png](attachment:c437033d-d416-41fd-ba46-b8ba9cbc61d3.png)"
   ]
  },
  {
   "cell_type": "code",
   "execution_count": 30,
   "id": "a0869871-206a-4a94-a8d3-020901d19277",
   "metadata": {
    "execution": {
     "iopub.execute_input": "2025-09-30T10:37:21.544116Z",
     "iopub.status.busy": "2025-09-30T10:37:21.544116Z",
     "iopub.status.idle": "2025-09-30T10:37:21.551361Z",
     "shell.execute_reply": "2025-09-30T10:37:21.550855Z",
     "shell.execute_reply.started": "2025-09-30T10:37:21.544116Z"
    }
   },
   "outputs": [],
   "source": [
    "# edited code using gpt chat\n",
    "def calculate_variance(numbers):\n",
    "    \"\"\"Обчислює дисперсію списку чисел.\"\"\"\n",
    "    mean = sum(numbers) / len(numbers)\n",
    "    mean_squares = sum(n ** 2 for n in numbers) / len(numbers)\n",
    "    variance = mean_squares - mean ** 2\n",
    "    return variance"
   ]
  },
  {
   "cell_type": "code",
   "execution_count": 31,
   "id": "_GKuFuy80wDU",
   "metadata": {
    "execution": {
     "iopub.execute_input": "2025-09-30T10:37:23.716659Z",
     "iopub.status.busy": "2025-09-30T10:37:23.715664Z",
     "iopub.status.idle": "2025-09-30T10:37:23.725260Z",
     "shell.execute_reply": "2025-09-30T10:37:23.724245Z",
     "shell.execute_reply.started": "2025-09-30T10:37:23.716659Z"
    },
    "id": "_GKuFuy80wDU"
   },
   "outputs": [
    {
     "data": {
      "text/plain": [
       "50.0"
      ]
     },
     "execution_count": 31,
     "metadata": {},
     "output_type": "execute_result"
    }
   ],
   "source": [
    "# Перевірка роботи функції на заданому списку\n",
    "calculate_variance(input_list)"
   ]
  },
  {
   "cell_type": "markdown",
   "id": "dc3c7d6f-4bd0-4e5a-add9-5e88b4f94af8",
   "metadata": {},
   "source": [
    "ChatGPT виконав такі виправлення:\n",
    "- назви змінних у snake_case;\n",
    "- назва функції у snake_case;\n",
    "- додано короткий docstring;\n",
    "- використано генератори замість циклів для компактності;\n",
    "- виправлено обчислення дисперсії."
   ]
  },
  {
   "cell_type": "code",
   "execution_count": null,
   "id": "4e19db07-4e93-417f-b756-a285bdc88be3",
   "metadata": {},
   "outputs": [],
   "source": []
  }
 ],
 "metadata": {
  "colab": {
   "provenance": []
  },
  "kernelspec": {
   "display_name": "Python [conda env:base] *",
   "language": "python",
   "name": "conda-base-py"
  },
  "language_info": {
   "codemirror_mode": {
    "name": "ipython",
    "version": 3
   },
   "file_extension": ".py",
   "mimetype": "text/x-python",
   "name": "python",
   "nbconvert_exporter": "python",
   "pygments_lexer": "ipython3",
   "version": "3.12.7"
  },
  "toc": {
   "base_numbering": 1,
   "nav_menu": {},
   "number_sections": true,
   "sideBar": true,
   "skip_h1_title": false,
   "title_cell": "Table of Contents",
   "title_sidebar": "Contents",
   "toc_cell": false,
   "toc_position": {},
   "toc_section_display": true,
   "toc_window_display": false
  },
  "widgets": {
   "application/vnd.jupyter.widget-state+json": {
    "2eb354fa6ae841c4bc6f94c85b9b0047": {
     "model_module": "@jupyter-widgets/controls",
     "model_module_version": "1.5.0",
     "model_name": "DescriptionStyleModel",
     "state": {
      "_model_module": "@jupyter-widgets/controls",
      "_model_module_version": "1.5.0",
      "_model_name": "DescriptionStyleModel",
      "_view_count": null,
      "_view_module": "@jupyter-widgets/base",
      "_view_module_version": "1.2.0",
      "_view_name": "StyleView",
      "description_width": ""
     }
    },
    "2f6f392d1f9643688ef29b6831570ea2": {
     "model_module": "@jupyter-widgets/controls",
     "model_module_version": "1.5.0",
     "model_name": "HTMLModel",
     "state": {
      "_dom_classes": [],
      "_model_module": "@jupyter-widgets/controls",
      "_model_module_version": "1.5.0",
      "_model_name": "HTMLModel",
      "_view_count": null,
      "_view_module": "@jupyter-widgets/controls",
      "_view_module_version": "1.5.0",
      "_view_name": "HTMLView",
      "description": "",
      "description_tooltip": null,
      "layout": "IPY_MODEL_9b698fff0a4c4927b3e2d1d9d8343739",
      "placeholder": "​",
      "style": "IPY_MODEL_2eb354fa6ae841c4bc6f94c85b9b0047",
      "value": " [ 44%]   00:01 -&gt; (00:01 left)"
     }
    },
    "3f4e8006635148dd963f06c594fe6c5a": {
     "model_module": "@jupyter-widgets/controls",
     "model_module_version": "1.5.0",
     "model_name": "HBoxModel",
     "state": {
      "_dom_classes": [],
      "_model_module": "@jupyter-widgets/controls",
      "_model_module_version": "1.5.0",
      "_model_name": "HBoxModel",
      "_view_count": null,
      "_view_module": "@jupyter-widgets/controls",
      "_view_module_version": "1.5.0",
      "_view_name": "HBoxView",
      "box_style": "",
      "children": [
       "IPY_MODEL_c7917a0dca094d71a90ef48935677918",
       "IPY_MODEL_b6b45ca676fb4f6ba3992174697309f3",
       "IPY_MODEL_2f6f392d1f9643688ef29b6831570ea2"
      ],
      "layout": "IPY_MODEL_f5abb84321bf4b3a994ec324c035c264"
     }
    },
    "5c6ba47a22fa4264b3a0c6d0f0f440db": {
     "model_module": "@jupyter-widgets/base",
     "model_module_version": "1.2.0",
     "model_name": "LayoutModel",
     "state": {
      "_model_module": "@jupyter-widgets/base",
      "_model_module_version": "1.2.0",
      "_model_name": "LayoutModel",
      "_view_count": null,
      "_view_module": "@jupyter-widgets/base",
      "_view_module_version": "1.2.0",
      "_view_name": "LayoutView",
      "align_content": null,
      "align_items": null,
      "align_self": null,
      "border": null,
      "bottom": null,
      "display": null,
      "flex": "2",
      "flex_flow": null,
      "grid_area": null,
      "grid_auto_columns": null,
      "grid_auto_flow": null,
      "grid_auto_rows": null,
      "grid_column": null,
      "grid_gap": null,
      "grid_row": null,
      "grid_template_areas": null,
      "grid_template_columns": null,
      "grid_template_rows": null,
      "height": null,
      "justify_content": null,
      "justify_items": null,
      "left": null,
      "margin": null,
      "max_height": null,
      "max_width": null,
      "min_height": null,
      "min_width": null,
      "object_fit": null,
      "object_position": null,
      "order": null,
      "overflow": null,
      "overflow_x": null,
      "overflow_y": null,
      "padding": null,
      "right": null,
      "top": null,
      "visibility": null,
      "width": null
     }
    },
    "7c01efea69764a12a8ba10a77273adbe": {
     "model_module": "@jupyter-widgets/controls",
     "model_module_version": "1.5.0",
     "model_name": "ProgressStyleModel",
     "state": {
      "_model_module": "@jupyter-widgets/controls",
      "_model_module_version": "1.5.0",
      "_model_name": "ProgressStyleModel",
      "_view_count": null,
      "_view_module": "@jupyter-widgets/base",
      "_view_module_version": "1.2.0",
      "_view_name": "StyleView",
      "bar_color": null,
      "description_width": ""
     }
    },
    "940a9c7d62a241d08439ba6201243e0f": {
     "model_module": "@jupyter-widgets/controls",
     "model_module_version": "1.5.0",
     "model_name": "DescriptionStyleModel",
     "state": {
      "_model_module": "@jupyter-widgets/controls",
      "_model_module_version": "1.5.0",
      "_model_name": "DescriptionStyleModel",
      "_view_count": null,
      "_view_module": "@jupyter-widgets/base",
      "_view_module_version": "1.2.0",
      "_view_name": "StyleView",
      "description_width": ""
     }
    },
    "9b698fff0a4c4927b3e2d1d9d8343739": {
     "model_module": "@jupyter-widgets/base",
     "model_module_version": "1.2.0",
     "model_name": "LayoutModel",
     "state": {
      "_model_module": "@jupyter-widgets/base",
      "_model_module_version": "1.2.0",
      "_model_name": "LayoutModel",
      "_view_count": null,
      "_view_module": "@jupyter-widgets/base",
      "_view_module_version": "1.2.0",
      "_view_name": "LayoutView",
      "align_content": null,
      "align_items": null,
      "align_self": null,
      "border": null,
      "bottom": null,
      "display": null,
      "flex": null,
      "flex_flow": null,
      "grid_area": null,
      "grid_auto_columns": null,
      "grid_auto_flow": null,
      "grid_auto_rows": null,
      "grid_column": null,
      "grid_gap": null,
      "grid_row": null,
      "grid_template_areas": null,
      "grid_template_columns": null,
      "grid_template_rows": null,
      "height": null,
      "justify_content": null,
      "justify_items": null,
      "left": null,
      "margin": null,
      "max_height": null,
      "max_width": null,
      "min_height": null,
      "min_width": null,
      "object_fit": null,
      "object_position": null,
      "order": null,
      "overflow": null,
      "overflow_x": null,
      "overflow_y": null,
      "padding": null,
      "right": null,
      "top": null,
      "visibility": null,
      "width": null
     }
    },
    "b6b45ca676fb4f6ba3992174697309f3": {
     "model_module": "@jupyter-widgets/controls",
     "model_module_version": "1.5.0",
     "model_name": "FloatProgressModel",
     "state": {
      "_dom_classes": [],
      "_model_module": "@jupyter-widgets/controls",
      "_model_module_version": "1.5.0",
      "_model_name": "FloatProgressModel",
      "_view_count": null,
      "_view_module": "@jupyter-widgets/controls",
      "_view_module_version": "1.5.0",
      "_view_name": "ProgressView",
      "bar_style": "",
      "description": "",
      "description_tooltip": null,
      "layout": "IPY_MODEL_5c6ba47a22fa4264b3a0c6d0f0f440db",
      "max": 9,
      "min": 0,
      "orientation": "horizontal",
      "style": "IPY_MODEL_7c01efea69764a12a8ba10a77273adbe",
      "value": 4
     }
    },
    "c3b592f072474bf9bc739e9e930e450e": {
     "model_module": "@jupyter-widgets/base",
     "model_module_version": "1.2.0",
     "model_name": "LayoutModel",
     "state": {
      "_model_module": "@jupyter-widgets/base",
      "_model_module_version": "1.2.0",
      "_model_name": "LayoutModel",
      "_view_count": null,
      "_view_module": "@jupyter-widgets/base",
      "_view_module_version": "1.2.0",
      "_view_name": "LayoutView",
      "align_content": null,
      "align_items": null,
      "align_self": null,
      "border": null,
      "bottom": null,
      "display": null,
      "flex": null,
      "flex_flow": null,
      "grid_area": null,
      "grid_auto_columns": null,
      "grid_auto_flow": null,
      "grid_auto_rows": null,
      "grid_column": null,
      "grid_gap": null,
      "grid_row": null,
      "grid_template_areas": null,
      "grid_template_columns": null,
      "grid_template_rows": null,
      "height": null,
      "justify_content": null,
      "justify_items": null,
      "left": null,
      "margin": null,
      "max_height": null,
      "max_width": null,
      "min_height": null,
      "min_width": null,
      "object_fit": null,
      "object_position": null,
      "order": null,
      "overflow": null,
      "overflow_x": null,
      "overflow_y": null,
      "padding": null,
      "right": null,
      "top": null,
      "visibility": null,
      "width": null
     }
    },
    "c7917a0dca094d71a90ef48935677918": {
     "model_module": "@jupyter-widgets/controls",
     "model_module_version": "1.5.0",
     "model_name": "HTMLModel",
     "state": {
      "_dom_classes": [],
      "_model_module": "@jupyter-widgets/controls",
      "_model_module_version": "1.5.0",
      "_model_name": "HTMLModel",
      "_view_count": null,
      "_view_module": "@jupyter-widgets/controls",
      "_view_module_version": "1.5.0",
      "_view_name": "HTMLView",
      "description": "",
      "description_tooltip": null,
      "layout": "IPY_MODEL_c3b592f072474bf9bc739e9e930e450e",
      "placeholder": "​",
      "style": "IPY_MODEL_940a9c7d62a241d08439ba6201243e0f",
      "value": "Feature: Quantity                            "
     }
    },
    "f5abb84321bf4b3a994ec324c035c264": {
     "model_module": "@jupyter-widgets/base",
     "model_module_version": "1.2.0",
     "model_name": "LayoutModel",
     "state": {
      "_model_module": "@jupyter-widgets/base",
      "_model_module_version": "1.2.0",
      "_model_name": "LayoutModel",
      "_view_count": null,
      "_view_module": "@jupyter-widgets/base",
      "_view_module_version": "1.2.0",
      "_view_name": "LayoutView",
      "align_content": null,
      "align_items": null,
      "align_self": null,
      "border": null,
      "bottom": null,
      "display": "inline-flex",
      "flex": null,
      "flex_flow": "row wrap",
      "grid_area": null,
      "grid_auto_columns": null,
      "grid_auto_flow": null,
      "grid_auto_rows": null,
      "grid_column": null,
      "grid_gap": null,
      "grid_row": null,
      "grid_template_areas": null,
      "grid_template_columns": null,
      "grid_template_rows": null,
      "height": null,
      "justify_content": null,
      "justify_items": null,
      "left": null,
      "margin": null,
      "max_height": null,
      "max_width": null,
      "min_height": null,
      "min_width": null,
      "object_fit": null,
      "object_position": null,
      "order": null,
      "overflow": null,
      "overflow_x": null,
      "overflow_y": null,
      "padding": null,
      "right": null,
      "top": null,
      "visibility": null,
      "width": "100%"
     }
    }
   }
  }
 },
 "nbformat": 4,
 "nbformat_minor": 5
}
