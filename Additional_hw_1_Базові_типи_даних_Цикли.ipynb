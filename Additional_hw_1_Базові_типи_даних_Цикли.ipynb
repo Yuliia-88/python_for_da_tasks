{
 "cells": [
  {
   "cell_type": "markdown",
   "id": "5b1cae7d",
   "metadata": {
    "id": "5b1cae7d"
   },
   "source": [
    "1.Задане значення у змінній var. Перетворіть значення в змінній var на цілочисельне, запишіть в нову змінну `var_int` та виведіть тип нової змінної `var_int`."
   ]
  },
  {
   "cell_type": "code",
   "execution_count": 1,
   "id": "d93f77ed",
   "metadata": {
    "ExecuteTime": {
     "end_time": "2023-06-13T11:52:35.489925Z",
     "start_time": "2023-06-13T11:52:35.487238Z"
    },
    "execution": {
     "iopub.execute_input": "2025-07-04T09:12:14.282478Z",
     "iopub.status.busy": "2025-07-04T09:12:14.282478Z",
     "iopub.status.idle": "2025-07-04T09:12:14.289582Z",
     "shell.execute_reply": "2025-07-04T09:12:14.288190Z",
     "shell.execute_reply.started": "2025-07-04T09:12:14.282478Z"
    },
    "id": "d93f77ed"
   },
   "outputs": [],
   "source": [
    "var = '1224'"
   ]
  },
  {
   "cell_type": "code",
   "execution_count": 2,
   "id": "5a4afe8f",
   "metadata": {
    "execution": {
     "iopub.execute_input": "2025-07-04T09:13:43.198565Z",
     "iopub.status.busy": "2025-07-04T09:13:43.198565Z",
     "iopub.status.idle": "2025-07-04T09:13:43.209427Z",
     "shell.execute_reply": "2025-07-04T09:13:43.207898Z",
     "shell.execute_reply.started": "2025-07-04T09:13:43.198565Z"
    },
    "id": "5a4afe8f"
   },
   "outputs": [
    {
     "data": {
      "text/plain": [
       "1224"
      ]
     },
     "execution_count": 2,
     "metadata": {},
     "output_type": "execute_result"
    }
   ],
   "source": [
    "var_int = int(var)\n",
    "var_int"
   ]
  },
  {
   "cell_type": "code",
   "execution_count": 3,
   "id": "2a5dfbb9-e990-4d29-ac3a-43fee604f67a",
   "metadata": {
    "execution": {
     "iopub.execute_input": "2025-07-04T09:13:59.839199Z",
     "iopub.status.busy": "2025-07-04T09:13:59.839199Z",
     "iopub.status.idle": "2025-07-04T09:13:59.848862Z",
     "shell.execute_reply": "2025-07-04T09:13:59.848862Z",
     "shell.execute_reply.started": "2025-07-04T09:13:59.839199Z"
    }
   },
   "outputs": [
    {
     "data": {
      "text/plain": [
       "int"
      ]
     },
     "execution_count": 3,
     "metadata": {},
     "output_type": "execute_result"
    }
   ],
   "source": [
    "type(var_int)"
   ]
  },
  {
   "cell_type": "markdown",
   "id": "eb3d19d8",
   "metadata": {
    "ExecuteTime": {
     "end_time": "2023-06-13T13:00:19.611699Z",
     "start_time": "2023-06-13T13:00:19.607737Z"
    },
    "id": "eb3d19d8"
   },
   "source": [
    "2.У Вас є список слів. Виведіть кожне третє слово в списку."
   ]
  },
  {
   "cell_type": "code",
   "execution_count": 5,
   "id": "477f4ced",
   "metadata": {
    "ExecuteTime": {
     "end_time": "2023-06-13T13:00:02.052801Z",
     "start_time": "2023-06-13T13:00:02.048798Z"
    },
    "execution": {
     "iopub.execute_input": "2025-07-04T09:16:16.834384Z",
     "iopub.status.busy": "2025-07-04T09:16:16.834384Z",
     "iopub.status.idle": "2025-07-04T09:16:16.841972Z",
     "shell.execute_reply": "2025-07-04T09:16:16.840218Z",
     "shell.execute_reply.started": "2025-07-04T09:16:16.834384Z"
    },
    "id": "477f4ced"
   },
   "outputs": [],
   "source": [
    "words = [\"apple\", \"banana\", \"cherry\", \"date\", \"elderberry\", \"fig\", \"grape\", \"honeydew\", \"ice cream\", \"jackfruit\", \"kiwi\", \"lemon\", \"mango\", \"nectarine\", \"orange\", \"pineapple\", \"quince\", \"raspberry\", \"strawberry\", \"tangerine\", \"ugli fruit\", \"vanilla\", \"watermelon\", \"xigua\", \"yam\", \"zucchini\"]"
   ]
  },
  {
   "cell_type": "code",
   "execution_count": 7,
   "id": "1b73ca2f",
   "metadata": {
    "execution": {
     "iopub.execute_input": "2025-07-04T09:17:16.971759Z",
     "iopub.status.busy": "2025-07-04T09:17:16.969749Z",
     "iopub.status.idle": "2025-07-04T09:17:16.981897Z",
     "shell.execute_reply": "2025-07-04T09:17:16.980267Z",
     "shell.execute_reply.started": "2025-07-04T09:17:16.971759Z"
    },
    "id": "1b73ca2f"
   },
   "outputs": [
    {
     "data": {
      "text/plain": [
       "['cherry',\n",
       " 'fig',\n",
       " 'ice cream',\n",
       " 'lemon',\n",
       " 'orange',\n",
       " 'raspberry',\n",
       " 'ugli fruit',\n",
       " 'xigua']"
      ]
     },
     "execution_count": 7,
     "metadata": {},
     "output_type": "execute_result"
    }
   ],
   "source": [
    "words[2::3]"
   ]
  },
  {
   "cell_type": "code",
   "execution_count": 24,
   "id": "e226adc4-0d3f-4b9d-b469-b5c20c2e87e5",
   "metadata": {
    "execution": {
     "iopub.execute_input": "2025-07-04T10:07:03.687115Z",
     "iopub.status.busy": "2025-07-04T10:07:03.685692Z",
     "iopub.status.idle": "2025-07-04T10:07:03.696397Z",
     "shell.execute_reply": "2025-07-04T10:07:03.695388Z",
     "shell.execute_reply.started": "2025-07-04T10:07:03.687115Z"
    }
   },
   "outputs": [
    {
     "name": "stdout",
     "output_type": "stream",
     "text": [
      "cherry\n",
      "fig\n",
      "ice cream\n",
      "lemon\n",
      "orange\n",
      "raspberry\n",
      "ugli fruit\n",
      "xigua\n"
     ]
    }
   ],
   "source": [
    "# Другий спосіб\n",
    "i = 2\n",
    "while i <= len(words):\n",
    "    print(words[i])\n",
    "    i += 3\n",
    "    if i == len(words):\n",
    "        break"
   ]
  },
  {
   "cell_type": "code",
   "execution_count": 26,
   "id": "a17c3072-3f20-4070-a5b2-01502004fd86",
   "metadata": {
    "execution": {
     "iopub.execute_input": "2025-07-04T10:15:41.621622Z",
     "iopub.status.busy": "2025-07-04T10:15:41.621622Z",
     "iopub.status.idle": "2025-07-04T10:15:41.630319Z",
     "shell.execute_reply": "2025-07-04T10:15:41.629045Z",
     "shell.execute_reply.started": "2025-07-04T10:15:41.621622Z"
    }
   },
   "outputs": [
    {
     "name": "stdout",
     "output_type": "stream",
     "text": [
      "cherry\n",
      "fig\n",
      "ice cream\n",
      "lemon\n",
      "orange\n",
      "raspberry\n",
      "ugli fruit\n",
      "xigua\n"
     ]
    }
   ],
   "source": [
    "# Третій спосіб\n",
    "for i in range(2, len(words), 3):\n",
    "    print(words[i])"
   ]
  },
  {
   "cell_type": "markdown",
   "id": "394d1dea",
   "metadata": {
    "id": "394d1dea"
   },
   "source": [
    "3.Скільки всього СЛІВ у списку `words`?"
   ]
  },
  {
   "cell_type": "code",
   "execution_count": 8,
   "id": "83c88182",
   "metadata": {
    "execution": {
     "iopub.execute_input": "2025-07-04T09:30:25.774987Z",
     "iopub.status.busy": "2025-07-04T09:30:25.766155Z",
     "iopub.status.idle": "2025-07-04T09:30:25.832303Z",
     "shell.execute_reply": "2025-07-04T09:30:25.827044Z",
     "shell.execute_reply.started": "2025-07-04T09:30:25.774987Z"
    },
    "id": "83c88182"
   },
   "outputs": [
    {
     "data": {
      "text/plain": [
       "26"
      ]
     },
     "execution_count": 8,
     "metadata": {},
     "output_type": "execute_result"
    }
   ],
   "source": [
    "len(words)"
   ]
  },
  {
   "cell_type": "markdown",
   "id": "703d1620",
   "metadata": {
    "ExecuteTime": {
     "end_time": "2023-06-13T13:03:17.414285Z",
     "start_time": "2023-06-13T13:03:17.409285Z"
    },
    "id": "703d1620"
   },
   "source": [
    "4.Скільки всього СИМОВЛІВ в усіх словах у списку words? Символи - це і літери і наприклад, пробіли, знаки пукнтуації - `.,!?` і тд. Нас цікавить їх загальна кількість."
   ]
  },
  {
   "cell_type": "code",
   "execution_count": 28,
   "id": "c44d04d9",
   "metadata": {
    "execution": {
     "iopub.execute_input": "2025-07-04T10:21:37.489487Z",
     "iopub.status.busy": "2025-07-04T10:21:37.489487Z",
     "iopub.status.idle": "2025-07-04T10:21:37.500965Z",
     "shell.execute_reply": "2025-07-04T10:21:37.500658Z",
     "shell.execute_reply.started": "2025-07-04T10:21:37.489487Z"
    },
    "id": "c44d04d9"
   },
   "outputs": [
    {
     "data": {
      "text/plain": [
       "180"
      ]
     },
     "execution_count": 28,
     "metadata": {},
     "output_type": "execute_result"
    }
   ],
   "source": [
    "total_chars = 0\n",
    "for word in words:\n",
    "    total_chars += len(word)\n",
    "\n",
    "total_chars"
   ]
  },
  {
   "cell_type": "code",
   "execution_count": 29,
   "id": "42e24894-9926-46cc-abe7-26cc33e9c1e2",
   "metadata": {
    "execution": {
     "iopub.execute_input": "2025-07-04T10:21:47.413515Z",
     "iopub.status.busy": "2025-07-04T10:21:47.413515Z",
     "iopub.status.idle": "2025-07-04T10:21:47.425791Z",
     "shell.execute_reply": "2025-07-04T10:21:47.424035Z",
     "shell.execute_reply.started": "2025-07-04T10:21:47.413515Z"
    }
   },
   "outputs": [
    {
     "name": "stdout",
     "output_type": "stream",
     "text": [
      "180\n"
     ]
    }
   ],
   "source": [
    "# Другий спосіб\n",
    "total_chars2 = sum(len(word) for word in words)\n",
    "print(total_chars2)\n"
   ]
  },
  {
   "cell_type": "markdown",
   "id": "4c95f6a3",
   "metadata": {
    "id": "4c95f6a3"
   },
   "source": [
    "5.Скільки разів зустрічається кожен символ в усіх словах списку `words`? Відсортуйте символи в результуючому словнику за алфавітним порядком."
   ]
  },
  {
   "cell_type": "code",
   "execution_count": 33,
   "id": "f6cff6cb",
   "metadata": {
    "execution": {
     "iopub.execute_input": "2025-07-05T10:45:15.879879Z",
     "iopub.status.busy": "2025-07-05T10:45:15.879879Z",
     "iopub.status.idle": "2025-07-05T10:45:15.906955Z",
     "shell.execute_reply": "2025-07-05T10:45:15.904945Z",
     "shell.execute_reply.started": "2025-07-05T10:45:15.879879Z"
    },
    "id": "f6cff6cb"
   },
   "outputs": [
    {
     "data": {
      "text/plain": [
       "{'a': 20,\n",
       " 'p': 7,\n",
       " 'l': 8,\n",
       " 'e': 24,\n",
       " 'b': 4,\n",
       " 'n': 15,\n",
       " 'c': 8,\n",
       " 'h': 3,\n",
       " 'r': 19,\n",
       " 'y': 6,\n",
       " 'd': 3,\n",
       " 't': 7,\n",
       " 'f': 3,\n",
       " 'i': 15,\n",
       " 'g': 7,\n",
       " 'o': 5,\n",
       " 'w': 4,\n",
       " ' ': 2,\n",
       " 'm': 5,\n",
       " 'j': 1,\n",
       " 'k': 2,\n",
       " 'u': 6,\n",
       " 'q': 1,\n",
       " 's': 2,\n",
       " 'v': 1,\n",
       " 'x': 1,\n",
       " 'z': 1}"
      ]
     },
     "execution_count": 33,
     "metadata": {},
     "output_type": "execute_result"
    }
   ],
   "source": [
    "symbol_counts = {}\n",
    "\n",
    "for word in words:\n",
    "    for symbol in word:\n",
    "        if symbol in symbol_counts:\n",
    "            symbol_counts[symbol] += 1\n",
    "        else:\n",
    "            symbol_counts[symbol] = 1\n",
    "symbol_counts"
   ]
  },
  {
   "cell_type": "code",
   "execution_count": 39,
   "id": "a6c7ebad-176a-4072-b486-56b273fb565f",
   "metadata": {
    "execution": {
     "iopub.execute_input": "2025-07-05T11:01:59.137063Z",
     "iopub.status.busy": "2025-07-05T11:01:59.137063Z",
     "iopub.status.idle": "2025-07-05T11:01:59.162717Z",
     "shell.execute_reply": "2025-07-05T11:01:59.161697Z",
     "shell.execute_reply.started": "2025-07-05T11:01:59.137063Z"
    }
   },
   "outputs": [
    {
     "data": {
      "text/plain": [
       "{' ': 2,\n",
       " 'a': 20,\n",
       " 'b': 4,\n",
       " 'c': 8,\n",
       " 'd': 3,\n",
       " 'e': 24,\n",
       " 'f': 3,\n",
       " 'g': 7,\n",
       " 'h': 3,\n",
       " 'i': 15,\n",
       " 'j': 1,\n",
       " 'k': 2,\n",
       " 'l': 8,\n",
       " 'm': 5,\n",
       " 'n': 15,\n",
       " 'o': 5,\n",
       " 'p': 7,\n",
       " 'q': 1,\n",
       " 'r': 19,\n",
       " 's': 2,\n",
       " 't': 7,\n",
       " 'u': 6,\n",
       " 'v': 1,\n",
       " 'w': 4,\n",
       " 'x': 1,\n",
       " 'y': 6,\n",
       " 'z': 1}"
      ]
     },
     "execution_count": 39,
     "metadata": {},
     "output_type": "execute_result"
    }
   ],
   "source": [
    "sorted_dict = {key: symbol_counts[key] for key in sorted(symbol_counts)}\n",
    "sorted_dict"
   ]
  },
  {
   "cell_type": "markdown",
   "id": "94d9f1cc",
   "metadata": {
    "id": "94d9f1cc"
   },
   "source": [
    "Очікуваний результат:\n",
    "```\n",
    "{' ': 2,\n",
    " 'a': 20,\n",
    " 'b': 4,\n",
    " 'c': 8,\n",
    " 'd': 3,\n",
    " 'e': 24,\n",
    " 'f': 3,\n",
    " 'g': 7,\n",
    " 'h': 3,\n",
    " 'i': 15,\n",
    " 'j': 1,\n",
    " 'k': 2,\n",
    " 'l': 8,\n",
    " 'm': 5,\n",
    " 'n': 15,\n",
    " 'o': 5,\n",
    " 'p': 7,\n",
    " 'q': 1,\n",
    " 'r': 19,\n",
    " 's': 2,\n",
    " 't': 7,\n",
    " 'u': 6,\n",
    " 'v': 1,\n",
    " 'w': 4,\n",
    " 'x': 1,\n",
    " 'y': 6,\n",
    " 'z': 1}\n",
    " ```"
   ]
  },
  {
   "cell_type": "markdown",
   "id": "c93ac384",
   "metadata": {
    "id": "c93ac384"
   },
   "source": [
    "6.Використовуючи результат виконання попереднього завдання, виведіть на екран той символ, який зустрічається найчастіше і скільки разів він зустрічається. Це треба зробити програмно, а не просто подивившись на дані :)"
   ]
  },
  {
   "cell_type": "markdown",
   "id": "f40adbed",
   "metadata": {
    "id": "f40adbed"
   },
   "source": [
    "7.Для кожного елементу списку виведіть тип елемену. Якщо тип обʼєкту - int (тільки цей тип безпосередньо!), виведіть результат піднесення цього числа до степеню 5."
   ]
  },
  {
   "cell_type": "code",
   "execution_count": 42,
   "id": "f92249ac",
   "metadata": {
    "ExecuteTime": {
     "end_time": "2023-06-13T12:53:04.365735Z",
     "start_time": "2023-06-13T12:53:04.362441Z"
    },
    "execution": {
     "iopub.execute_input": "2025-07-05T11:08:31.136739Z",
     "iopub.status.busy": "2025-07-05T11:08:31.136739Z",
     "iopub.status.idle": "2025-07-05T11:08:31.154259Z",
     "shell.execute_reply": "2025-07-05T11:08:31.150789Z",
     "shell.execute_reply.started": "2025-07-05T11:08:31.136739Z"
    },
    "id": "f92249ac"
   },
   "outputs": [],
   "source": [
    "elements = [12, 'type', 'Bob', True, 'False', 1.414, 1444.333, 123/33, 5]"
   ]
  },
  {
   "cell_type": "code",
   "execution_count": 50,
   "id": "0d5395a6-b34c-493b-9d1d-2a2a71241562",
   "metadata": {
    "execution": {
     "iopub.execute_input": "2025-07-05T11:17:55.424298Z",
     "iopub.status.busy": "2025-07-05T11:17:55.424298Z",
     "iopub.status.idle": "2025-07-05T11:17:55.432619Z",
     "shell.execute_reply": "2025-07-05T11:17:55.432108Z",
     "shell.execute_reply.started": "2025-07-05T11:17:55.424298Z"
    }
   },
   "outputs": [
    {
     "name": "stdout",
     "output_type": "stream",
     "text": [
      "The type of element 12 is <class 'int'>.\n",
      "This is a number! Let't take it to power 5! The result is: 248832.\n",
      "The type of element type is <class 'str'>.\n",
      "The type of element Bob is <class 'str'>.\n",
      "The type of element True is <class 'bool'>.\n",
      "The type of element False is <class 'str'>.\n",
      "The type of element 1.414 is <class 'float'>.\n",
      "The type of element 1444.333 is <class 'float'>.\n",
      "The type of element 3.727272727272727 is <class 'float'>.\n",
      "The type of element 5 is <class 'int'>.\n",
      "This is a number! Let't take it to power 5! The result is: 3125.\n"
     ]
    }
   ],
   "source": [
    "for el in elements:\n",
    "    print(f\"The type of element {el} is {type(el)}.\")\n",
    "    if type(el) == int:\n",
    "        print(f\"This is a number! Let't take it to power 5! The result is: {el ** 5}.\")"
   ]
  },
  {
   "cell_type": "markdown",
   "id": "cf2247c7",
   "metadata": {
    "ExecuteTime": {
     "end_time": "2023-06-13T12:55:17.795510Z",
     "start_time": "2023-06-13T12:55:17.787158Z"
    },
    "id": "cf2247c7"
   },
   "source": [
    "Приклад очікуваного результату (текстові коментарі і форматування можуть бути іншими):\n",
    "```\n",
    "    The type of element 12 is <class 'int'>\n",
    "    This is a number! Let't take it to power 5! The result is: 248832\n",
    "    The type of element type is <class 'str'>\n",
    "    The type of element Bob is <class 'str'>\n",
    "    The type of element True is <class 'bool'>\n",
    "    The type of element False is <class 'str'>\n",
    "    The type of element 1.414 is <class 'float'>\n",
    "    The type of element 1444.333 is <class 'float'>\n",
    "    The type of element 3.727272727272727 is <class 'float'>\n",
    "    The type of element 5 is <class 'int'>\n",
    "    This is a number! Let't take it to power 5! The result is: 3125\n",
    "```"
   ]
  },
  {
   "cell_type": "markdown",
   "id": "76a0bef2",
   "metadata": {
    "id": "76a0bef2"
   },
   "source": [
    "8.Створіть програму, яка:\n",
    "\n",
    "- Для визначених значень `name` та `age` друкує повідомлення \"Привіт, [Ім’я] ! Вам [Вік] років.\".\n",
    "- Обчислює, скільки років залишилося користувачеві до 100 років, і друкує повідомлення з цією інформацією: \"До 100 років Вам лишилось [Число] років.\"  \n",
    "\n",
    "Запустіть програму для набору користувачів нижче."
   ]
  },
  {
   "cell_type": "code",
   "execution_count": 51,
   "id": "0092963a",
   "metadata": {
    "ExecuteTime": {
     "end_time": "2023-06-13T12:30:11.462941Z",
     "start_time": "2023-06-13T12:30:11.459673Z"
    },
    "execution": {
     "iopub.execute_input": "2025-07-05T11:19:50.491560Z",
     "iopub.status.busy": "2025-07-05T11:19:50.491560Z",
     "iopub.status.idle": "2025-07-05T11:19:50.521944Z",
     "shell.execute_reply": "2025-07-05T11:19:50.520761Z",
     "shell.execute_reply.started": "2025-07-05T11:19:50.491560Z"
    },
    "id": "0092963a"
   },
   "outputs": [],
   "source": [
    "users = [\n",
    "    ['Karl', 30],\n",
    "    ['Klara', 15],\n",
    "    ['Alexis', 56],\n",
    "    ['Charles', 99]\n",
    "]"
   ]
  },
  {
   "cell_type": "code",
   "execution_count": 56,
   "id": "8d6d820e",
   "metadata": {
    "execution": {
     "iopub.execute_input": "2025-07-05T11:24:05.813693Z",
     "iopub.status.busy": "2025-07-05T11:24:05.813693Z",
     "iopub.status.idle": "2025-07-05T11:24:05.829080Z",
     "shell.execute_reply": "2025-07-05T11:24:05.827908Z",
     "shell.execute_reply.started": "2025-07-05T11:24:05.813693Z"
    },
    "id": "8d6d820e"
   },
   "outputs": [
    {
     "name": "stdout",
     "output_type": "stream",
     "text": [
      "Привіт, Karl! Вам 30 років. До 100 років Вам лишилось 70 років.\n",
      "Привіт, Klara! Вам 15 років. До 100 років Вам лишилось 85 років.\n",
      "Привіт, Alexis! Вам 56 років. До 100 років Вам лишилось 44 років.\n",
      "Привіт, Charles! Вам 99 років. До 100 років Вам лишилось 1 років.\n"
     ]
    }
   ],
   "source": [
    "for user in users:\n",
    "    print(f\"Привіт, {user[0]}! Вам {user[1]} років. До 100 років Вам лишилось {100 - user[1]} років.\")"
   ]
  },
  {
   "cell_type": "code",
   "execution_count": 57,
   "id": "6ba403d7-416a-496f-99a2-d38071c010a5",
   "metadata": {
    "execution": {
     "iopub.execute_input": "2025-07-05T11:25:06.055688Z",
     "iopub.status.busy": "2025-07-05T11:25:06.055688Z",
     "iopub.status.idle": "2025-07-05T11:25:06.064855Z",
     "shell.execute_reply": "2025-07-05T11:25:06.063843Z",
     "shell.execute_reply.started": "2025-07-05T11:25:06.055688Z"
    }
   },
   "outputs": [
    {
     "name": "stdout",
     "output_type": "stream",
     "text": [
      "Привіт, Karl! Вам 30 років. До 100 років Вам лишилось 70 років.\n",
      "Привіт, Klara! Вам 15 років. До 100 років Вам лишилось 85 років.\n",
      "Привіт, Alexis! Вам 56 років. До 100 років Вам лишилось 44 років.\n",
      "Привіт, Charles! Вам 99 років. До 100 років Вам лишилось 1 років.\n"
     ]
    },
    {
     "data": {
      "text/plain": [
       "[None, None, None, None]"
      ]
     },
     "execution_count": 57,
     "metadata": {},
     "output_type": "execute_result"
    }
   ],
   "source": [
    "# Другий спосіб\n",
    "[print(f\"Привіт, {user[0]}! Вам {user[1]} років. До 100 років Вам лишилось {100 - user[1]} років.\") for user in users]"
   ]
  },
  {
   "cell_type": "markdown",
   "id": "45fedbc4",
   "metadata": {
    "id": "45fedbc4"
   },
   "source": [
    "9.Напишть фрагмент коду, який перевіряє, чи слово є паліндромом. Слово (або фраза) є паліндромом, якщо при читанні його зворотньому напрямі буде таке саме слово.\n",
    "Наприклад, слово \"radar\" є паліндромом, але \"radix\" не є паліндромом. Код в кінці має видавати результат True або False.  \n",
    "Код має звертати увагу лише на символи-літери. Регістр літер не має значення, а знаки пунктуації (кома, крапка) та `-+=/\\`` мають бути вилучені з рядка перед перевіркою. Так само, пробіли не впливають на визначення,чи слово є палендромом. Мають значення лише літери.\n",
    "Тобто рядки \"A mam, a\" та \"A mamA\" є паліндромами, а \"AmamU\" - ні.\n",
    "\n",
    "Опціонально ви можете розмістити код на перевірку чи є слово паліндромом у фукнцію.\n",
    "Запустіть свій код для рядків з набору нижче і виведіть результат перевірки на екран для кожного рядка."
   ]
  },
  {
   "cell_type": "code",
   "execution_count": 58,
   "id": "4cca3eed",
   "metadata": {
    "ExecuteTime": {
     "end_time": "2023-06-13T12:24:02.288183Z",
     "start_time": "2023-06-13T12:24:02.285245Z"
    },
    "execution": {
     "iopub.execute_input": "2025-07-05T11:27:01.462600Z",
     "iopub.status.busy": "2025-07-05T11:27:01.460352Z",
     "iopub.status.idle": "2025-07-05T11:27:01.526770Z",
     "shell.execute_reply": "2025-07-05T11:27:01.525245Z",
     "shell.execute_reply.started": "2025-07-05T11:27:01.462600Z"
    },
    "id": "4cca3eed"
   },
   "outputs": [],
   "source": [
    "phrases_to_check = [\n",
    "    'radar',\n",
    "    'radix',\n",
    "    'A mam, a',\n",
    "    'A mamA',\n",
    "    'Sit on a potato pan Otis',\n",
    "    'Taco cat.',\n",
    "    'Taco cat',\n",
    "    'Tornado',\n",
    "    \"Go hang a salami, I'm a lasagna hog.\"\n",
    "]"
   ]
  },
  {
   "cell_type": "code",
   "execution_count": 98,
   "id": "becbec3c",
   "metadata": {
    "execution": {
     "iopub.execute_input": "2025-07-05T12:02:52.088775Z",
     "iopub.status.busy": "2025-07-05T12:02:52.088775Z",
     "iopub.status.idle": "2025-07-05T12:02:52.093842Z",
     "shell.execute_reply": "2025-07-05T12:02:52.093842Z",
     "shell.execute_reply.started": "2025-07-05T12:02:52.088775Z"
    },
    "id": "becbec3c"
   },
   "outputs": [],
   "source": [
    "def palindrom(phrase):\n",
    "    cleaned_phrase = \"\".join(char for char in phrase if char.isalpha()).lower()\n",
    "    print(f\"{phrase} - {cleaned_phrase == cleaned_phrase[::-1]}\")"
   ]
  },
  {
   "cell_type": "code",
   "execution_count": 99,
   "id": "7b0fc315-85b9-4922-8956-78c92274bb4c",
   "metadata": {
    "execution": {
     "iopub.execute_input": "2025-07-05T12:02:59.606347Z",
     "iopub.status.busy": "2025-07-05T12:02:59.604331Z",
     "iopub.status.idle": "2025-07-05T12:02:59.611376Z",
     "shell.execute_reply": "2025-07-05T12:02:59.611376Z",
     "shell.execute_reply.started": "2025-07-05T12:02:59.606347Z"
    }
   },
   "outputs": [
    {
     "name": "stdout",
     "output_type": "stream",
     "text": [
      "radar - True\n",
      "radix - False\n",
      "A mam, a - True\n",
      "A mamA - True\n",
      "Sit on a potato pan Otis - True\n",
      "Taco cat. - True\n",
      "Taco cat - True\n",
      "Tornado - False\n",
      "Go hang a salami, I'm a lasagna hog. - True\n"
     ]
    }
   ],
   "source": [
    "_ = [palindrom(phrase) for phrase in phrases_to_check]\n",
    "# _ = [list comprehension] дає можливість вивети результат і не отримати список із None."
   ]
  },
  {
   "cell_type": "markdown",
   "id": "e51c421d",
   "metadata": {
    "id": "e51c421d"
   },
   "source": [
    "Очкувані результати обчислень:\n",
    "```\n",
    "    radar - True\n",
    "    radix - False\n",
    "    A mam, a - True\n",
    "    A mamA - True\n",
    "    Sit on a potato pan Otis - True\n",
    "    Taco cat. - True\n",
    "    Taco cat - True\n",
    "    Tornado - False\n",
    "    Go hang a salami, I'm a lasagna hog. - True\n",
    "```"
   ]
  }
 ],
 "metadata": {
  "colab": {
   "provenance": []
  },
  "kernelspec": {
   "display_name": "Python [conda env:base] *",
   "language": "python",
   "name": "conda-base-py"
  },
  "language_info": {
   "codemirror_mode": {
    "name": "ipython",
    "version": 3
   },
   "file_extension": ".py",
   "mimetype": "text/x-python",
   "name": "python",
   "nbconvert_exporter": "python",
   "pygments_lexer": "ipython3",
   "version": "3.12.7"
  },
  "toc": {
   "base_numbering": 1,
   "nav_menu": {},
   "number_sections": true,
   "sideBar": true,
   "skip_h1_title": false,
   "title_cell": "Table of Contents",
   "title_sidebar": "Contents",
   "toc_cell": false,
   "toc_position": {},
   "toc_section_display": true,
   "toc_window_display": false
  }
 },
 "nbformat": 4,
 "nbformat_minor": 5
}
