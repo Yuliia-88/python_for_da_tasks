{
 "cells": [
  {
   "cell_type": "markdown",
   "metadata": {
    "id": "LwNpAFw_eTF3"
   },
   "source": [
    "#Домашнє завдання до тем apply(), groupby(), pivot_table()"
   ]
  },
  {
   "cell_type": "markdown",
   "metadata": {
    "id": "vP2PEJyq8Yrj"
   },
   "source": [
    "В цьому домашньому завданні продовжуємо працювати з набором даних `supermarket_sales.csv`."
   ]
  },
  {
   "cell_type": "markdown",
   "metadata": {
    "id": "dh9lfpDb8gBL"
   },
   "source": [
    "0. Імпортуйте бібліотеку pandas та зчитайте дані у змінну `df` типу `pandas.DataFrame`."
   ]
  },
  {
   "cell_type": "code",
   "execution_count": 1,
   "metadata": {
    "execution": {
     "iopub.execute_input": "2025-07-03T15:38:51.301425Z",
     "iopub.status.busy": "2025-07-03T15:38:51.301425Z",
     "iopub.status.idle": "2025-07-03T15:38:51.310950Z",
     "shell.execute_reply": "2025-07-03T15:38:51.309159Z",
     "shell.execute_reply.started": "2025-07-03T15:38:51.301425Z"
    },
    "id": "xBI9gJMK8qnl"
   },
   "outputs": [],
   "source": [
    "import pandas as pd"
   ]
  },
  {
   "cell_type": "code",
   "execution_count": 2,
   "metadata": {
    "execution": {
     "iopub.execute_input": "2025-07-03T15:38:53.217983Z",
     "iopub.status.busy": "2025-07-03T15:38:53.217983Z",
     "iopub.status.idle": "2025-07-03T15:38:53.275526Z",
     "shell.execute_reply": "2025-07-03T15:38:53.274229Z",
     "shell.execute_reply.started": "2025-07-03T15:38:53.217983Z"
    }
   },
   "outputs": [],
   "source": [
    "df = pd.read_csv('data/supermarket_sales.csv')"
   ]
  },
  {
   "cell_type": "code",
   "execution_count": 4,
   "metadata": {
    "execution": {
     "iopub.execute_input": "2025-07-03T15:39:14.695304Z",
     "iopub.status.busy": "2025-07-03T15:39:14.695304Z",
     "iopub.status.idle": "2025-07-03T15:39:14.722209Z",
     "shell.execute_reply": "2025-07-03T15:39:14.721639Z",
     "shell.execute_reply.started": "2025-07-03T15:39:14.695304Z"
    }
   },
   "outputs": [
    {
     "data": {
      "text/html": [
       "<div>\n",
       "<style scoped>\n",
       "    .dataframe tbody tr th:only-of-type {\n",
       "        vertical-align: middle;\n",
       "    }\n",
       "\n",
       "    .dataframe tbody tr th {\n",
       "        vertical-align: top;\n",
       "    }\n",
       "\n",
       "    .dataframe thead th {\n",
       "        text-align: right;\n",
       "    }\n",
       "</style>\n",
       "<table border=\"1\" class=\"dataframe\">\n",
       "  <thead>\n",
       "    <tr style=\"text-align: right;\">\n",
       "      <th></th>\n",
       "      <th>Invoice ID</th>\n",
       "      <th>Branch</th>\n",
       "      <th>City</th>\n",
       "      <th>Customer type</th>\n",
       "      <th>Gender</th>\n",
       "      <th>Product line</th>\n",
       "      <th>Unit price</th>\n",
       "      <th>Quantity</th>\n",
       "      <th>Tax 5%</th>\n",
       "      <th>Total</th>\n",
       "      <th>Date</th>\n",
       "      <th>Time</th>\n",
       "      <th>Payment</th>\n",
       "      <th>cogs</th>\n",
       "      <th>gross margin percentage</th>\n",
       "      <th>gross income</th>\n",
       "      <th>Rating</th>\n",
       "    </tr>\n",
       "  </thead>\n",
       "  <tbody>\n",
       "    <tr>\n",
       "      <th>0</th>\n",
       "      <td>750-67-8428</td>\n",
       "      <td>A</td>\n",
       "      <td>Yangon</td>\n",
       "      <td>Member</td>\n",
       "      <td>Female</td>\n",
       "      <td>Health and beauty</td>\n",
       "      <td>74.69</td>\n",
       "      <td>7</td>\n",
       "      <td>26.1415</td>\n",
       "      <td>548.9715</td>\n",
       "      <td>1/5/2019</td>\n",
       "      <td>13:08</td>\n",
       "      <td>Ewallet</td>\n",
       "      <td>522.83</td>\n",
       "      <td>4.761905</td>\n",
       "      <td>26.1415</td>\n",
       "      <td>9.1</td>\n",
       "    </tr>\n",
       "    <tr>\n",
       "      <th>1</th>\n",
       "      <td>226-31-3081</td>\n",
       "      <td>C</td>\n",
       "      <td>Naypyitaw</td>\n",
       "      <td>Normal</td>\n",
       "      <td>Female</td>\n",
       "      <td>Electronic accessories</td>\n",
       "      <td>15.28</td>\n",
       "      <td>5</td>\n",
       "      <td>3.8200</td>\n",
       "      <td>80.2200</td>\n",
       "      <td>3/8/2019</td>\n",
       "      <td>10:29</td>\n",
       "      <td>Cash</td>\n",
       "      <td>76.40</td>\n",
       "      <td>4.761905</td>\n",
       "      <td>3.8200</td>\n",
       "      <td>9.6</td>\n",
       "    </tr>\n",
       "  </tbody>\n",
       "</table>\n",
       "</div>"
      ],
      "text/plain": [
       "    Invoice ID Branch       City Customer type  Gender  \\\n",
       "0  750-67-8428      A     Yangon        Member  Female   \n",
       "1  226-31-3081      C  Naypyitaw        Normal  Female   \n",
       "\n",
       "             Product line  Unit price  Quantity   Tax 5%     Total      Date  \\\n",
       "0       Health and beauty       74.69         7  26.1415  548.9715  1/5/2019   \n",
       "1  Electronic accessories       15.28         5   3.8200   80.2200  3/8/2019   \n",
       "\n",
       "    Time  Payment    cogs  gross margin percentage  gross income  Rating  \n",
       "0  13:08  Ewallet  522.83                 4.761905       26.1415     9.1  \n",
       "1  10:29     Cash   76.40                 4.761905        3.8200     9.6  "
      ]
     },
     "execution_count": 4,
     "metadata": {},
     "output_type": "execute_result"
    }
   ],
   "source": [
    "df[:2]"
   ]
  },
  {
   "cell_type": "markdown",
   "metadata": {
    "id": "28638363"
   },
   "source": [
    "1. Дослідимо, який філіал супермаркету ('Branch') є найприбутковішим. Для цього знайдіть сумарний прибуток за кожним філіалом і виявіть, який філіал має найвищий."
   ]
  },
  {
   "cell_type": "code",
   "execution_count": 5,
   "metadata": {
    "ExecuteTime": {
     "end_time": "2022-11-01T17:27:42.023877Z",
     "start_time": "2022-11-01T17:27:42.020277Z"
    },
    "execution": {
     "iopub.execute_input": "2025-07-03T15:39:21.800640Z",
     "iopub.status.busy": "2025-07-03T15:39:21.800640Z",
     "iopub.status.idle": "2025-07-03T15:39:21.817677Z",
     "shell.execute_reply": "2025-07-03T15:39:21.816671Z",
     "shell.execute_reply.started": "2025-07-03T15:39:21.800640Z"
    },
    "id": "916d731d"
   },
   "outputs": [
    {
     "data": {
      "text/plain": [
       "Branch\n",
       "A    5057.1605\n",
       "B    5057.0320\n",
       "C    5265.1765\n",
       "Name: gross income, dtype: float64"
      ]
     },
     "execution_count": 5,
     "metadata": {},
     "output_type": "execute_result"
    }
   ],
   "source": [
    "df.groupby('Branch')['gross income'].sum()"
   ]
  },
  {
   "cell_type": "markdown",
   "metadata": {},
   "source": [
    "Найприбутковішим є філіал `C` з сумарним прибутком 5265.1765."
   ]
  },
  {
   "cell_type": "markdown",
   "metadata": {
    "id": "2qL_OddUCZKK"
   },
   "source": [
    "2. В якому місті знайходиться філіал з найвищим прибутком? Може в тому місці нам розмітисти ще один магазин.  \n",
    "Знайдіть відповідь за допомогою функціоналу Pandas."
   ]
  },
  {
   "cell_type": "code",
   "execution_count": 8,
   "metadata": {
    "execution": {
     "iopub.execute_input": "2025-07-03T15:41:00.158099Z",
     "iopub.status.busy": "2025-07-03T15:41:00.158099Z",
     "iopub.status.idle": "2025-07-03T15:41:00.181023Z",
     "shell.execute_reply": "2025-07-03T15:41:00.181023Z",
     "shell.execute_reply.started": "2025-07-03T15:41:00.158099Z"
    },
    "id": "bBJUc1dWCwdi"
   },
   "outputs": [],
   "source": [
    "sum_gross_income = df.pivot_table(index='Branch',\n",
    "                                  columns='City',\n",
    "                                  values='gross income',\n",
    "                                  aggfunc='sum')"
   ]
  },
  {
   "cell_type": "code",
   "execution_count": 9,
   "metadata": {
    "execution": {
     "iopub.execute_input": "2025-07-03T15:41:04.010754Z",
     "iopub.status.busy": "2025-07-03T15:41:04.010754Z",
     "iopub.status.idle": "2025-07-03T15:41:04.026293Z",
     "shell.execute_reply": "2025-07-03T15:41:04.026293Z",
     "shell.execute_reply.started": "2025-07-03T15:41:04.010754Z"
    }
   },
   "outputs": [
    {
     "data": {
      "text/html": [
       "<div>\n",
       "<style scoped>\n",
       "    .dataframe tbody tr th:only-of-type {\n",
       "        vertical-align: middle;\n",
       "    }\n",
       "\n",
       "    .dataframe tbody tr th {\n",
       "        vertical-align: top;\n",
       "    }\n",
       "\n",
       "    .dataframe thead th {\n",
       "        text-align: right;\n",
       "    }\n",
       "</style>\n",
       "<table border=\"1\" class=\"dataframe\">\n",
       "  <thead>\n",
       "    <tr style=\"text-align: right;\">\n",
       "      <th>City</th>\n",
       "      <th>Mandalay</th>\n",
       "      <th>Naypyitaw</th>\n",
       "      <th>Yangon</th>\n",
       "    </tr>\n",
       "    <tr>\n",
       "      <th>Branch</th>\n",
       "      <th></th>\n",
       "      <th></th>\n",
       "      <th></th>\n",
       "    </tr>\n",
       "  </thead>\n",
       "  <tbody>\n",
       "    <tr>\n",
       "      <th>A</th>\n",
       "      <td>NaN</td>\n",
       "      <td>NaN</td>\n",
       "      <td>5057.1605</td>\n",
       "    </tr>\n",
       "    <tr>\n",
       "      <th>B</th>\n",
       "      <td>5057.032</td>\n",
       "      <td>NaN</td>\n",
       "      <td>NaN</td>\n",
       "    </tr>\n",
       "    <tr>\n",
       "      <th>C</th>\n",
       "      <td>NaN</td>\n",
       "      <td>5265.1765</td>\n",
       "      <td>NaN</td>\n",
       "    </tr>\n",
       "  </tbody>\n",
       "</table>\n",
       "</div>"
      ],
      "text/plain": [
       "City    Mandalay  Naypyitaw     Yangon\n",
       "Branch                                \n",
       "A            NaN        NaN  5057.1605\n",
       "B       5057.032        NaN        NaN\n",
       "C            NaN  5265.1765        NaN"
      ]
     },
     "execution_count": 9,
     "metadata": {},
     "output_type": "execute_result"
    }
   ],
   "source": [
    "sum_gross_income"
   ]
  },
  {
   "cell_type": "code",
   "execution_count": 10,
   "metadata": {
    "execution": {
     "iopub.execute_input": "2025-07-03T15:41:11.701837Z",
     "iopub.status.busy": "2025-07-03T15:41:11.701837Z",
     "iopub.status.idle": "2025-07-03T15:41:11.717380Z",
     "shell.execute_reply": "2025-07-03T15:41:11.717380Z",
     "shell.execute_reply.started": "2025-07-03T15:41:11.701837Z"
    }
   },
   "outputs": [
    {
     "name": "stdout",
     "output_type": "stream",
     "text": [
      "Філіал з найбільшим прибутком знаходиться в місті Naypyitaw\n"
     ]
    }
   ],
   "source": [
    "city_with_max_gross = sum_gross_income.max().idxmax()\n",
    "print(f\"Філіал з найбільшим прибутком знаходиться в місті {city_with_max_gross}\")"
   ]
  },
  {
   "cell_type": "code",
   "execution_count": 11,
   "metadata": {
    "execution": {
     "iopub.execute_input": "2025-07-03T15:41:18.735069Z",
     "iopub.status.busy": "2025-07-03T15:41:18.735069Z",
     "iopub.status.idle": "2025-07-03T15:41:18.751154Z",
     "shell.execute_reply": "2025-07-03T15:41:18.749790Z",
     "shell.execute_reply.started": "2025-07-03T15:41:18.735069Z"
    }
   },
   "outputs": [
    {
     "data": {
      "text/plain": [
       "array(['Naypyitaw'], dtype=object)"
      ]
     },
     "execution_count": 11,
     "metadata": {},
     "output_type": "execute_result"
    }
   ],
   "source": [
    "# Другий спосіб знайти яке місто відповідає філії C\n",
    "df[df.Branch == 'C'].City.unique()"
   ]
  },
  {
   "cell_type": "markdown",
   "metadata": {
    "id": "6dec795f"
   },
   "source": [
    "3.1. Створіть зводну таблицю, яка покаже, скільки покупок (інвойсів) було зроблено в кожній з філій (`Branch`) за різними категоріями товарів. Запишіть таблицю в змінну `invoices_by_category` і виведіть змінну на екран.\n",
    "Ця таблиця допоможе проаналізувати, в якій філії купують найбільше товарів кожної з категорій."
   ]
  },
  {
   "cell_type": "code",
   "execution_count": 12,
   "metadata": {
    "execution": {
     "iopub.execute_input": "2025-07-03T15:41:26.027939Z",
     "iopub.status.busy": "2025-07-03T15:41:26.027939Z",
     "iopub.status.idle": "2025-07-03T15:41:26.051164Z",
     "shell.execute_reply": "2025-07-03T15:41:26.051164Z",
     "shell.execute_reply.started": "2025-07-03T15:41:26.027939Z"
    },
    "id": "N7TfUBf4ZrkX"
   },
   "outputs": [
    {
     "data": {
      "text/html": [
       "<div>\n",
       "<style scoped>\n",
       "    .dataframe tbody tr th:only-of-type {\n",
       "        vertical-align: middle;\n",
       "    }\n",
       "\n",
       "    .dataframe tbody tr th {\n",
       "        vertical-align: top;\n",
       "    }\n",
       "\n",
       "    .dataframe thead th {\n",
       "        text-align: right;\n",
       "    }\n",
       "</style>\n",
       "<table border=\"1\" class=\"dataframe\">\n",
       "  <thead>\n",
       "    <tr style=\"text-align: right;\">\n",
       "      <th>Product line</th>\n",
       "      <th>Electronic accessories</th>\n",
       "      <th>Fashion accessories</th>\n",
       "      <th>Food and beverages</th>\n",
       "      <th>Health and beauty</th>\n",
       "      <th>Home and lifestyle</th>\n",
       "      <th>Sports and travel</th>\n",
       "    </tr>\n",
       "    <tr>\n",
       "      <th>Branch</th>\n",
       "      <th></th>\n",
       "      <th></th>\n",
       "      <th></th>\n",
       "      <th></th>\n",
       "      <th></th>\n",
       "      <th></th>\n",
       "    </tr>\n",
       "  </thead>\n",
       "  <tbody>\n",
       "    <tr>\n",
       "      <th>A</th>\n",
       "      <td>60</td>\n",
       "      <td>51</td>\n",
       "      <td>58</td>\n",
       "      <td>47</td>\n",
       "      <td>65</td>\n",
       "      <td>59</td>\n",
       "    </tr>\n",
       "    <tr>\n",
       "      <th>B</th>\n",
       "      <td>55</td>\n",
       "      <td>62</td>\n",
       "      <td>50</td>\n",
       "      <td>53</td>\n",
       "      <td>50</td>\n",
       "      <td>62</td>\n",
       "    </tr>\n",
       "    <tr>\n",
       "      <th>C</th>\n",
       "      <td>55</td>\n",
       "      <td>65</td>\n",
       "      <td>66</td>\n",
       "      <td>52</td>\n",
       "      <td>45</td>\n",
       "      <td>45</td>\n",
       "    </tr>\n",
       "  </tbody>\n",
       "</table>\n",
       "</div>"
      ],
      "text/plain": [
       "Product line  Electronic accessories  Fashion accessories  Food and beverages  \\\n",
       "Branch                                                                          \n",
       "A                                 60                   51                  58   \n",
       "B                                 55                   62                  50   \n",
       "C                                 55                   65                  66   \n",
       "\n",
       "Product line  Health and beauty  Home and lifestyle  Sports and travel  \n",
       "Branch                                                                  \n",
       "A                            47                  65                 59  \n",
       "B                            53                  50                 62  \n",
       "C                            52                  45                 45  "
      ]
     },
     "execution_count": 12,
     "metadata": {},
     "output_type": "execute_result"
    }
   ],
   "source": [
    "invoices_by_category = df.pivot_table(index='Branch',\n",
    "                                     columns='Product line',\n",
    "                                     values='Invoice ID',\n",
    "                                     aggfunc='count')\n",
    "invoices_by_category"
   ]
  },
  {
   "cell_type": "markdown",
   "metadata": {
    "ExecuteTime": {
     "end_time": "2022-11-01T16:50:46.961201Z",
     "start_time": "2022-11-01T16:50:46.955894Z"
    },
    "id": "f5bbfa34"
   },
   "source": [
    "Очікуваний результат:"
   ]
  },
  {
   "cell_type": "markdown",
   "metadata": {
    "id": "34b9bcdc"
   },
   "source": [
    "![](https://drive.google.com/uc?export=view&id=1rueAdko6S3UxIHGtojetTxlES-EyM6Yb)"
   ]
  },
  {
   "cell_type": "markdown",
   "metadata": {
    "id": "woygDEA0OSwJ"
   },
   "source": [
    "3.2. Викристовуючи змінну `invoices_by_category` дайте відповідь програмно (тобто значення треба не просто знайти очима, а вивести за допомогою коду), в якому філіалі магазину (`Branch`) найбільше інвойсів із покупкою товарів категорії \"Електронні аксесуари\" (`Electronic accessories`)?\n"
   ]
  },
  {
   "cell_type": "code",
   "execution_count": 13,
   "metadata": {
    "execution": {
     "iopub.execute_input": "2025-07-03T15:41:43.506290Z",
     "iopub.status.busy": "2025-07-03T15:41:43.506290Z",
     "iopub.status.idle": "2025-07-03T15:41:43.513004Z",
     "shell.execute_reply": "2025-07-03T15:41:43.513004Z",
     "shell.execute_reply.started": "2025-07-03T15:41:43.506290Z"
    },
    "id": "B5x8kTE-Qcq8"
   },
   "outputs": [
    {
     "name": "stdout",
     "output_type": "stream",
     "text": [
      "Найбільше інвойсів у категорії 'Electronic accessories' має філія: A\n"
     ]
    }
   ],
   "source": [
    "top_branch = invoices_by_category['Electronic accessories'].idxmax()\n",
    "print(f\"Найбільше інвойсів у категорії 'Electronic accessories' має філія: {top_branch}\")"
   ]
  },
  {
   "cell_type": "markdown",
   "metadata": {
    "ExecuteTime": {
     "end_time": "2022-11-01T17:56:02.981755Z",
     "start_time": "2022-11-01T17:56:02.977086Z"
    },
    "id": "d005a2b8"
   },
   "source": [
    "4-6. **Творче завдання на розвиток аналітичного мислення**\n",
    "\n",
    "Крок 1. Сформулюйте ТРИ питання (гіпотези) до наявних даних, які допомогли б вам зрозуміти, які користувачі що, де та коли найбільше/найменше купують, аби дати на основі цих гіпотез рекомендації бізнесу. Звісно питання мають бути не тими, на які ми вже відповіли в завданнях модулю.\n",
    "\n",
    "Крок 2. Знайдіть відповіді на свої питання з допомогою функціоналу pandas.\n",
    "\n",
    "Крок 3. Напишіть, як відповідь на це питання може бути використана для прийняття бізнес рішень.   \n",
    "   \n",
    " Питання можуть бути будь-якої складності, але їх має бути 3. Кожне питання оцінюється як 1 завдання. Без виконання цього завдання ДЗ не приймається. Якщо є питання щодо виконання - пишіть у чат 🙌\n"
   ]
  },
  {
   "cell_type": "markdown",
   "metadata": {},
   "source": [
    "## Питання 1\n",
    "Чи взаємопов’язана середня оцінка задоволення (Rating) із категорією товару по містам?  \n",
    "Мета: з’ясувати, в яких категоріях товарів клієнти залишають вищі оцінки."
   ]
  },
  {
   "cell_type": "code",
   "execution_count": 14,
   "metadata": {
    "execution": {
     "iopub.execute_input": "2025-07-03T15:41:52.551334Z",
     "iopub.status.busy": "2025-07-03T15:41:52.551334Z",
     "iopub.status.idle": "2025-07-03T15:41:52.576351Z",
     "shell.execute_reply": "2025-07-03T15:41:52.575842Z",
     "shell.execute_reply.started": "2025-07-03T15:41:52.551334Z"
    }
   },
   "outputs": [
    {
     "data": {
      "text/html": [
       "<div>\n",
       "<style scoped>\n",
       "    .dataframe tbody tr th:only-of-type {\n",
       "        vertical-align: middle;\n",
       "    }\n",
       "\n",
       "    .dataframe tbody tr th {\n",
       "        vertical-align: top;\n",
       "    }\n",
       "\n",
       "    .dataframe thead th {\n",
       "        text-align: right;\n",
       "    }\n",
       "</style>\n",
       "<table border=\"1\" class=\"dataframe\">\n",
       "  <thead>\n",
       "    <tr style=\"text-align: right;\">\n",
       "      <th>City</th>\n",
       "      <th>Mandalay</th>\n",
       "      <th>Naypyitaw</th>\n",
       "      <th>Yangon</th>\n",
       "    </tr>\n",
       "    <tr>\n",
       "      <th>Product line</th>\n",
       "      <th></th>\n",
       "      <th></th>\n",
       "      <th></th>\n",
       "    </tr>\n",
       "  </thead>\n",
       "  <tbody>\n",
       "    <tr>\n",
       "      <th>Electronic accessories</th>\n",
       "      <td>7.12</td>\n",
       "      <td>6.75</td>\n",
       "      <td>6.91</td>\n",
       "    </tr>\n",
       "    <tr>\n",
       "      <th>Fashion accessories</th>\n",
       "      <td>6.72</td>\n",
       "      <td>7.44</td>\n",
       "      <td>6.88</td>\n",
       "    </tr>\n",
       "    <tr>\n",
       "      <th>Food and beverages</th>\n",
       "      <td>6.99</td>\n",
       "      <td>7.08</td>\n",
       "      <td>7.25</td>\n",
       "    </tr>\n",
       "    <tr>\n",
       "      <th>Health and beauty</th>\n",
       "      <td>7.10</td>\n",
       "      <td>7.00</td>\n",
       "      <td>6.90</td>\n",
       "    </tr>\n",
       "    <tr>\n",
       "      <th>Home and lifestyle</th>\n",
       "      <td>6.52</td>\n",
       "      <td>7.06</td>\n",
       "      <td>6.93</td>\n",
       "    </tr>\n",
       "    <tr>\n",
       "      <th>Sports and travel</th>\n",
       "      <td>6.51</td>\n",
       "      <td>7.03</td>\n",
       "      <td>7.26</td>\n",
       "    </tr>\n",
       "  </tbody>\n",
       "</table>\n",
       "</div>"
      ],
      "text/plain": [
       "City                    Mandalay  Naypyitaw  Yangon\n",
       "Product line                                       \n",
       "Electronic accessories      7.12       6.75    6.91\n",
       "Fashion accessories         6.72       7.44    6.88\n",
       "Food and beverages          6.99       7.08    7.25\n",
       "Health and beauty           7.10       7.00    6.90\n",
       "Home and lifestyle          6.52       7.06    6.93\n",
       "Sports and travel           6.51       7.03    7.26"
      ]
     },
     "execution_count": 14,
     "metadata": {},
     "output_type": "execute_result"
    }
   ],
   "source": [
    "# Середній рейтинг по Product line по містам\n",
    "pd.pivot_table(df, index='Product line', columns='City', values='Rating', aggfunc='mean').round(2)"
   ]
  },
  {
   "cell_type": "markdown",
   "metadata": {},
   "source": [
    "### Висновок:   \n",
    "В місті `Mandalay` по категоріям товарів `Home and lifestyle`, `Sports and travel` найнижчі середні значення рейтингу серед всіх міст. По низьким показникам можна сказати, що рівень сервісу в магазині потребує змін, або мала кількість консультантів, що допомагають зробити вибір, або не дуже великий асортимент товару і клієнти цим незадоволені.  \n",
    "\n",
    "### Рекомендації:\n",
    "- Переглянути асортимент товару в категоріях, де низький рейтинг.\n",
    "- Проаналізувати рівнь сервісу по катеріям.\n",
    "- Акцентувати маркетинг на найкращих поєднаннях рейтинг-категорія."
   ]
  },
  {
   "cell_type": "markdown",
   "metadata": {},
   "source": [
    "## Питання 2:\n",
    "У яких містах і в які дні тижня купують найбільше одиниць конкретної категорії товарів?  \n",
    "Мета: зрозуміти найзатребуваніші дні + географію попиту по категоріях.\n"
   ]
  },
  {
   "cell_type": "code",
   "execution_count": 15,
   "metadata": {
    "execution": {
     "iopub.execute_input": "2025-07-03T15:42:00.297993Z",
     "iopub.status.busy": "2025-07-03T15:42:00.297993Z",
     "iopub.status.idle": "2025-07-03T15:42:00.319791Z",
     "shell.execute_reply": "2025-07-03T15:42:00.318784Z",
     "shell.execute_reply.started": "2025-07-03T15:42:00.297993Z"
    }
   },
   "outputs": [],
   "source": [
    "# Додамо колонку з днем тижня\n",
    "df['Weekday'] = pd.to_datetime(df['Date']).dt.day_name()"
   ]
  },
  {
   "cell_type": "code",
   "execution_count": 17,
   "metadata": {
    "execution": {
     "iopub.execute_input": "2025-07-03T15:42:13.951902Z",
     "iopub.status.busy": "2025-07-03T15:42:13.951902Z",
     "iopub.status.idle": "2025-07-03T15:42:13.975877Z",
     "shell.execute_reply": "2025-07-03T15:42:13.975877Z",
     "shell.execute_reply.started": "2025-07-03T15:42:13.951902Z"
    }
   },
   "outputs": [
    {
     "data": {
      "text/html": [
       "<div>\n",
       "<style scoped>\n",
       "    .dataframe tbody tr th:only-of-type {\n",
       "        vertical-align: middle;\n",
       "    }\n",
       "\n",
       "    .dataframe tbody tr th {\n",
       "        vertical-align: top;\n",
       "    }\n",
       "\n",
       "    .dataframe thead th {\n",
       "        text-align: right;\n",
       "    }\n",
       "</style>\n",
       "<table border=\"1\" class=\"dataframe\">\n",
       "  <thead>\n",
       "    <tr style=\"text-align: right;\">\n",
       "      <th></th>\n",
       "      <th>Invoice ID</th>\n",
       "      <th>Branch</th>\n",
       "      <th>City</th>\n",
       "      <th>Customer type</th>\n",
       "      <th>Gender</th>\n",
       "      <th>Product line</th>\n",
       "      <th>Unit price</th>\n",
       "      <th>Quantity</th>\n",
       "      <th>Tax 5%</th>\n",
       "      <th>Total</th>\n",
       "      <th>Date</th>\n",
       "      <th>Time</th>\n",
       "      <th>Payment</th>\n",
       "      <th>cogs</th>\n",
       "      <th>gross margin percentage</th>\n",
       "      <th>gross income</th>\n",
       "      <th>Rating</th>\n",
       "      <th>Weekday</th>\n",
       "    </tr>\n",
       "  </thead>\n",
       "  <tbody>\n",
       "    <tr>\n",
       "      <th>0</th>\n",
       "      <td>750-67-8428</td>\n",
       "      <td>A</td>\n",
       "      <td>Yangon</td>\n",
       "      <td>Member</td>\n",
       "      <td>Female</td>\n",
       "      <td>Health and beauty</td>\n",
       "      <td>74.69</td>\n",
       "      <td>7</td>\n",
       "      <td>26.1415</td>\n",
       "      <td>548.9715</td>\n",
       "      <td>1/5/2019</td>\n",
       "      <td>13:08</td>\n",
       "      <td>Ewallet</td>\n",
       "      <td>522.83</td>\n",
       "      <td>4.761905</td>\n",
       "      <td>26.1415</td>\n",
       "      <td>9.1</td>\n",
       "      <td>Saturday</td>\n",
       "    </tr>\n",
       "    <tr>\n",
       "      <th>1</th>\n",
       "      <td>226-31-3081</td>\n",
       "      <td>C</td>\n",
       "      <td>Naypyitaw</td>\n",
       "      <td>Normal</td>\n",
       "      <td>Female</td>\n",
       "      <td>Electronic accessories</td>\n",
       "      <td>15.28</td>\n",
       "      <td>5</td>\n",
       "      <td>3.8200</td>\n",
       "      <td>80.2200</td>\n",
       "      <td>3/8/2019</td>\n",
       "      <td>10:29</td>\n",
       "      <td>Cash</td>\n",
       "      <td>76.40</td>\n",
       "      <td>4.761905</td>\n",
       "      <td>3.8200</td>\n",
       "      <td>9.6</td>\n",
       "      <td>Friday</td>\n",
       "    </tr>\n",
       "  </tbody>\n",
       "</table>\n",
       "</div>"
      ],
      "text/plain": [
       "    Invoice ID Branch       City Customer type  Gender  \\\n",
       "0  750-67-8428      A     Yangon        Member  Female   \n",
       "1  226-31-3081      C  Naypyitaw        Normal  Female   \n",
       "\n",
       "             Product line  Unit price  Quantity   Tax 5%     Total      Date  \\\n",
       "0       Health and beauty       74.69         7  26.1415  548.9715  1/5/2019   \n",
       "1  Electronic accessories       15.28         5   3.8200   80.2200  3/8/2019   \n",
       "\n",
       "    Time  Payment    cogs  gross margin percentage  gross income  Rating  \\\n",
       "0  13:08  Ewallet  522.83                 4.761905       26.1415     9.1   \n",
       "1  10:29     Cash   76.40                 4.761905        3.8200     9.6   \n",
       "\n",
       "    Weekday  \n",
       "0  Saturday  \n",
       "1    Friday  "
      ]
     },
     "execution_count": 17,
     "metadata": {},
     "output_type": "execute_result"
    }
   ],
   "source": [
    "df[:2]"
   ]
  },
  {
   "cell_type": "code",
   "execution_count": 18,
   "metadata": {
    "execution": {
     "iopub.execute_input": "2025-07-03T15:42:19.947437Z",
     "iopub.status.busy": "2025-07-03T15:42:19.947437Z",
     "iopub.status.idle": "2025-07-03T15:42:19.967202Z",
     "shell.execute_reply": "2025-07-03T15:42:19.967202Z",
     "shell.execute_reply.started": "2025-07-03T15:42:19.947437Z"
    }
   },
   "outputs": [],
   "source": [
    "# Кількість одиниць товарів по містах і днях тижня\n",
    "product_line_by_weekday = pd.pivot_table(df, index=['Product line', 'City'], columns='Weekday', values='Quantity', aggfunc='sum')"
   ]
  },
  {
   "cell_type": "code",
   "execution_count": 19,
   "metadata": {
    "execution": {
     "iopub.execute_input": "2025-07-03T15:42:21.626475Z",
     "iopub.status.busy": "2025-07-03T15:42:21.624746Z",
     "iopub.status.idle": "2025-07-03T15:42:21.648843Z",
     "shell.execute_reply": "2025-07-03T15:42:21.647301Z",
     "shell.execute_reply.started": "2025-07-03T15:42:21.626475Z"
    }
   },
   "outputs": [
    {
     "data": {
      "text/html": [
       "<div>\n",
       "<style scoped>\n",
       "    .dataframe tbody tr th:only-of-type {\n",
       "        vertical-align: middle;\n",
       "    }\n",
       "\n",
       "    .dataframe tbody tr th {\n",
       "        vertical-align: top;\n",
       "    }\n",
       "\n",
       "    .dataframe thead th {\n",
       "        text-align: right;\n",
       "    }\n",
       "</style>\n",
       "<table border=\"1\" class=\"dataframe\">\n",
       "  <thead>\n",
       "    <tr style=\"text-align: right;\">\n",
       "      <th></th>\n",
       "      <th>Weekday</th>\n",
       "      <th>Monday</th>\n",
       "      <th>Tuesday</th>\n",
       "      <th>Wednesday</th>\n",
       "      <th>Thursday</th>\n",
       "      <th>Friday</th>\n",
       "      <th>Saturday</th>\n",
       "      <th>Sunday</th>\n",
       "    </tr>\n",
       "    <tr>\n",
       "      <th>Product line</th>\n",
       "      <th>City</th>\n",
       "      <th></th>\n",
       "      <th></th>\n",
       "      <th></th>\n",
       "      <th></th>\n",
       "      <th></th>\n",
       "      <th></th>\n",
       "      <th></th>\n",
       "    </tr>\n",
       "  </thead>\n",
       "  <tbody>\n",
       "    <tr>\n",
       "      <th rowspan=\"3\" valign=\"top\">Electronic accessories</th>\n",
       "      <th>Mandalay</th>\n",
       "      <td>39</td>\n",
       "      <td>24</td>\n",
       "      <td>41</td>\n",
       "      <td>84</td>\n",
       "      <td>17</td>\n",
       "      <td>87</td>\n",
       "      <td>24</td>\n",
       "    </tr>\n",
       "    <tr>\n",
       "      <th>Naypyitaw</th>\n",
       "      <td>36</td>\n",
       "      <td>58</td>\n",
       "      <td>12</td>\n",
       "      <td>63</td>\n",
       "      <td>48</td>\n",
       "      <td>30</td>\n",
       "      <td>86</td>\n",
       "    </tr>\n",
       "    <tr>\n",
       "      <th>Yangon</th>\n",
       "      <td>49</td>\n",
       "      <td>69</td>\n",
       "      <td>36</td>\n",
       "      <td>66</td>\n",
       "      <td>36</td>\n",
       "      <td>42</td>\n",
       "      <td>24</td>\n",
       "    </tr>\n",
       "    <tr>\n",
       "      <th rowspan=\"3\" valign=\"top\">Fashion accessories</th>\n",
       "      <th>Mandalay</th>\n",
       "      <td>24</td>\n",
       "      <td>39</td>\n",
       "      <td>47</td>\n",
       "      <td>45</td>\n",
       "      <td>65</td>\n",
       "      <td>66</td>\n",
       "      <td>11</td>\n",
       "    </tr>\n",
       "    <tr>\n",
       "      <th>Naypyitaw</th>\n",
       "      <td>25</td>\n",
       "      <td>42</td>\n",
       "      <td>65</td>\n",
       "      <td>51</td>\n",
       "      <td>53</td>\n",
       "      <td>64</td>\n",
       "      <td>42</td>\n",
       "    </tr>\n",
       "    <tr>\n",
       "      <th>Yangon</th>\n",
       "      <td>43</td>\n",
       "      <td>38</td>\n",
       "      <td>22</td>\n",
       "      <td>23</td>\n",
       "      <td>38</td>\n",
       "      <td>49</td>\n",
       "      <td>50</td>\n",
       "    </tr>\n",
       "    <tr>\n",
       "      <th rowspan=\"3\" valign=\"top\">Food and beverages</th>\n",
       "      <th>Mandalay</th>\n",
       "      <td>35</td>\n",
       "      <td>70</td>\n",
       "      <td>48</td>\n",
       "      <td>20</td>\n",
       "      <td>35</td>\n",
       "      <td>27</td>\n",
       "      <td>35</td>\n",
       "    </tr>\n",
       "    <tr>\n",
       "      <th>Naypyitaw</th>\n",
       "      <td>40</td>\n",
       "      <td>84</td>\n",
       "      <td>64</td>\n",
       "      <td>54</td>\n",
       "      <td>24</td>\n",
       "      <td>56</td>\n",
       "      <td>47</td>\n",
       "    </tr>\n",
       "    <tr>\n",
       "      <th>Yangon</th>\n",
       "      <td>23</td>\n",
       "      <td>14</td>\n",
       "      <td>73</td>\n",
       "      <td>42</td>\n",
       "      <td>36</td>\n",
       "      <td>68</td>\n",
       "      <td>57</td>\n",
       "    </tr>\n",
       "    <tr>\n",
       "      <th rowspan=\"3\" valign=\"top\">Health and beauty</th>\n",
       "      <th>Mandalay</th>\n",
       "      <td>50</td>\n",
       "      <td>72</td>\n",
       "      <td>60</td>\n",
       "      <td>25</td>\n",
       "      <td>59</td>\n",
       "      <td>36</td>\n",
       "      <td>18</td>\n",
       "    </tr>\n",
       "    <tr>\n",
       "      <th>Naypyitaw</th>\n",
       "      <td>44</td>\n",
       "      <td>54</td>\n",
       "      <td>28</td>\n",
       "      <td>22</td>\n",
       "      <td>50</td>\n",
       "      <td>49</td>\n",
       "      <td>30</td>\n",
       "    </tr>\n",
       "    <tr>\n",
       "      <th>Yangon</th>\n",
       "      <td>46</td>\n",
       "      <td>29</td>\n",
       "      <td>43</td>\n",
       "      <td>49</td>\n",
       "      <td>36</td>\n",
       "      <td>22</td>\n",
       "      <td>32</td>\n",
       "    </tr>\n",
       "    <tr>\n",
       "      <th rowspan=\"3\" valign=\"top\">Home and lifestyle</th>\n",
       "      <th>Mandalay</th>\n",
       "      <td>25</td>\n",
       "      <td>56</td>\n",
       "      <td>16</td>\n",
       "      <td>35</td>\n",
       "      <td>33</td>\n",
       "      <td>73</td>\n",
       "      <td>57</td>\n",
       "    </tr>\n",
       "    <tr>\n",
       "      <th>Naypyitaw</th>\n",
       "      <td>30</td>\n",
       "      <td>30</td>\n",
       "      <td>57</td>\n",
       "      <td>21</td>\n",
       "      <td>19</td>\n",
       "      <td>33</td>\n",
       "      <td>55</td>\n",
       "    </tr>\n",
       "    <tr>\n",
       "      <th>Yangon</th>\n",
       "      <td>56</td>\n",
       "      <td>50</td>\n",
       "      <td>29</td>\n",
       "      <td>39</td>\n",
       "      <td>79</td>\n",
       "      <td>43</td>\n",
       "      <td>75</td>\n",
       "    </tr>\n",
       "    <tr>\n",
       "      <th rowspan=\"3\" valign=\"top\">Sports and travel</th>\n",
       "      <th>Mandalay</th>\n",
       "      <td>21</td>\n",
       "      <td>50</td>\n",
       "      <td>74</td>\n",
       "      <td>45</td>\n",
       "      <td>46</td>\n",
       "      <td>46</td>\n",
       "      <td>40</td>\n",
       "    </tr>\n",
       "    <tr>\n",
       "      <th>Naypyitaw</th>\n",
       "      <td>16</td>\n",
       "      <td>38</td>\n",
       "      <td>47</td>\n",
       "      <td>31</td>\n",
       "      <td>35</td>\n",
       "      <td>49</td>\n",
       "      <td>49</td>\n",
       "    </tr>\n",
       "    <tr>\n",
       "      <th>Yangon</th>\n",
       "      <td>36</td>\n",
       "      <td>45</td>\n",
       "      <td>38</td>\n",
       "      <td>40</td>\n",
       "      <td>49</td>\n",
       "      <td>79</td>\n",
       "      <td>46</td>\n",
       "    </tr>\n",
       "  </tbody>\n",
       "</table>\n",
       "</div>"
      ],
      "text/plain": [
       "Weekday                           Monday  Tuesday  Wednesday  Thursday  \\\n",
       "Product line           City                                              \n",
       "Electronic accessories Mandalay       39       24         41        84   \n",
       "                       Naypyitaw      36       58         12        63   \n",
       "                       Yangon         49       69         36        66   \n",
       "Fashion accessories    Mandalay       24       39         47        45   \n",
       "                       Naypyitaw      25       42         65        51   \n",
       "                       Yangon         43       38         22        23   \n",
       "Food and beverages     Mandalay       35       70         48        20   \n",
       "                       Naypyitaw      40       84         64        54   \n",
       "                       Yangon         23       14         73        42   \n",
       "Health and beauty      Mandalay       50       72         60        25   \n",
       "                       Naypyitaw      44       54         28        22   \n",
       "                       Yangon         46       29         43        49   \n",
       "Home and lifestyle     Mandalay       25       56         16        35   \n",
       "                       Naypyitaw      30       30         57        21   \n",
       "                       Yangon         56       50         29        39   \n",
       "Sports and travel      Mandalay       21       50         74        45   \n",
       "                       Naypyitaw      16       38         47        31   \n",
       "                       Yangon         36       45         38        40   \n",
       "\n",
       "Weekday                           Friday  Saturday  Sunday  \n",
       "Product line           City                                 \n",
       "Electronic accessories Mandalay       17        87      24  \n",
       "                       Naypyitaw      48        30      86  \n",
       "                       Yangon         36        42      24  \n",
       "Fashion accessories    Mandalay       65        66      11  \n",
       "                       Naypyitaw      53        64      42  \n",
       "                       Yangon         38        49      50  \n",
       "Food and beverages     Mandalay       35        27      35  \n",
       "                       Naypyitaw      24        56      47  \n",
       "                       Yangon         36        68      57  \n",
       "Health and beauty      Mandalay       59        36      18  \n",
       "                       Naypyitaw      50        49      30  \n",
       "                       Yangon         36        22      32  \n",
       "Home and lifestyle     Mandalay       33        73      57  \n",
       "                       Naypyitaw      19        33      55  \n",
       "                       Yangon         79        43      75  \n",
       "Sports and travel      Mandalay       46        46      40  \n",
       "                       Naypyitaw      35        49      49  \n",
       "                       Yangon         49        79      46  "
      ]
     },
     "execution_count": 19,
     "metadata": {},
     "output_type": "execute_result"
    }
   ],
   "source": [
    "# Задаємо бажаний порядок днів тижня\n",
    "ordered_days = ['Monday', 'Tuesday', 'Wednesday', 'Thursday', 'Friday', 'Saturday', 'Sunday']\n",
    "\n",
    "# Перевпорядковуємо стовпці відповідно до списку\n",
    "product_line_by_weekday = product_line_by_weekday[ordered_days]\n",
    "product_line_by_weekday"
   ]
  },
  {
   "cell_type": "code",
   "execution_count": 20,
   "metadata": {
    "execution": {
     "iopub.execute_input": "2025-07-03T15:42:32.854964Z",
     "iopub.status.busy": "2025-07-03T15:42:32.854964Z",
     "iopub.status.idle": "2025-07-03T15:42:32.874999Z",
     "shell.execute_reply": "2025-07-03T15:42:32.874999Z",
     "shell.execute_reply.started": "2025-07-03T15:42:32.854964Z"
    }
   },
   "outputs": [
    {
     "data": {
      "text/html": [
       "<div>\n",
       "<style scoped>\n",
       "    .dataframe tbody tr th:only-of-type {\n",
       "        vertical-align: middle;\n",
       "    }\n",
       "\n",
       "    .dataframe tbody tr th {\n",
       "        vertical-align: top;\n",
       "    }\n",
       "\n",
       "    .dataframe thead th {\n",
       "        text-align: right;\n",
       "    }\n",
       "</style>\n",
       "<table border=\"1\" class=\"dataframe\">\n",
       "  <thead>\n",
       "    <tr style=\"text-align: right;\">\n",
       "      <th></th>\n",
       "      <th></th>\n",
       "      <th>Мінімальна кількість</th>\n",
       "      <th>День тижня</th>\n",
       "    </tr>\n",
       "    <tr>\n",
       "      <th>Product line</th>\n",
       "      <th>City</th>\n",
       "      <th></th>\n",
       "      <th></th>\n",
       "    </tr>\n",
       "  </thead>\n",
       "  <tbody>\n",
       "    <tr>\n",
       "      <th rowspan=\"3\" valign=\"top\">Electronic accessories</th>\n",
       "      <th>Mandalay</th>\n",
       "      <td>17</td>\n",
       "      <td>Friday</td>\n",
       "    </tr>\n",
       "    <tr>\n",
       "      <th>Naypyitaw</th>\n",
       "      <td>12</td>\n",
       "      <td>Wednesday</td>\n",
       "    </tr>\n",
       "    <tr>\n",
       "      <th>Yangon</th>\n",
       "      <td>24</td>\n",
       "      <td>Sunday</td>\n",
       "    </tr>\n",
       "    <tr>\n",
       "      <th rowspan=\"3\" valign=\"top\">Fashion accessories</th>\n",
       "      <th>Mandalay</th>\n",
       "      <td>11</td>\n",
       "      <td>Sunday</td>\n",
       "    </tr>\n",
       "    <tr>\n",
       "      <th>Naypyitaw</th>\n",
       "      <td>25</td>\n",
       "      <td>Monday</td>\n",
       "    </tr>\n",
       "    <tr>\n",
       "      <th>Yangon</th>\n",
       "      <td>22</td>\n",
       "      <td>Wednesday</td>\n",
       "    </tr>\n",
       "    <tr>\n",
       "      <th rowspan=\"3\" valign=\"top\">Food and beverages</th>\n",
       "      <th>Mandalay</th>\n",
       "      <td>20</td>\n",
       "      <td>Thursday</td>\n",
       "    </tr>\n",
       "    <tr>\n",
       "      <th>Naypyitaw</th>\n",
       "      <td>24</td>\n",
       "      <td>Friday</td>\n",
       "    </tr>\n",
       "    <tr>\n",
       "      <th>Yangon</th>\n",
       "      <td>14</td>\n",
       "      <td>Tuesday</td>\n",
       "    </tr>\n",
       "    <tr>\n",
       "      <th rowspan=\"3\" valign=\"top\">Health and beauty</th>\n",
       "      <th>Mandalay</th>\n",
       "      <td>18</td>\n",
       "      <td>Sunday</td>\n",
       "    </tr>\n",
       "    <tr>\n",
       "      <th>Naypyitaw</th>\n",
       "      <td>22</td>\n",
       "      <td>Thursday</td>\n",
       "    </tr>\n",
       "    <tr>\n",
       "      <th>Yangon</th>\n",
       "      <td>22</td>\n",
       "      <td>Saturday</td>\n",
       "    </tr>\n",
       "    <tr>\n",
       "      <th rowspan=\"3\" valign=\"top\">Home and lifestyle</th>\n",
       "      <th>Mandalay</th>\n",
       "      <td>16</td>\n",
       "      <td>Wednesday</td>\n",
       "    </tr>\n",
       "    <tr>\n",
       "      <th>Naypyitaw</th>\n",
       "      <td>19</td>\n",
       "      <td>Friday</td>\n",
       "    </tr>\n",
       "    <tr>\n",
       "      <th>Yangon</th>\n",
       "      <td>29</td>\n",
       "      <td>Wednesday</td>\n",
       "    </tr>\n",
       "    <tr>\n",
       "      <th rowspan=\"3\" valign=\"top\">Sports and travel</th>\n",
       "      <th>Mandalay</th>\n",
       "      <td>21</td>\n",
       "      <td>Monday</td>\n",
       "    </tr>\n",
       "    <tr>\n",
       "      <th>Naypyitaw</th>\n",
       "      <td>16</td>\n",
       "      <td>Monday</td>\n",
       "    </tr>\n",
       "    <tr>\n",
       "      <th>Yangon</th>\n",
       "      <td>36</td>\n",
       "      <td>Monday</td>\n",
       "    </tr>\n",
       "  </tbody>\n",
       "</table>\n",
       "</div>"
      ],
      "text/plain": [
       "                                  Мінімальна кількість День тижня\n",
       "Product line           City                                      \n",
       "Electronic accessories Mandalay                     17     Friday\n",
       "                       Naypyitaw                    12  Wednesday\n",
       "                       Yangon                       24     Sunday\n",
       "Fashion accessories    Mandalay                     11     Sunday\n",
       "                       Naypyitaw                    25     Monday\n",
       "                       Yangon                       22  Wednesday\n",
       "Food and beverages     Mandalay                     20   Thursday\n",
       "                       Naypyitaw                    24     Friday\n",
       "                       Yangon                       14    Tuesday\n",
       "Health and beauty      Mandalay                     18     Sunday\n",
       "                       Naypyitaw                    22   Thursday\n",
       "                       Yangon                       22   Saturday\n",
       "Home and lifestyle     Mandalay                     16  Wednesday\n",
       "                       Naypyitaw                    19     Friday\n",
       "                       Yangon                       29  Wednesday\n",
       "Sports and travel      Mandalay                     21     Monday\n",
       "                       Naypyitaw                    16     Monday\n",
       "                       Yangon                       36     Monday"
      ]
     },
     "execution_count": 20,
     "metadata": {},
     "output_type": "execute_result"
    }
   ],
   "source": [
    "# Мінімальна кількість проданих одиниць у кожній комбінації Product line + City\n",
    "min_values = product_line_by_weekday.min(axis=1)\n",
    "\n",
    "# День тижня, коли це мінімальне значення трапилось\n",
    "min_days = product_line_by_weekday.idxmin(axis=1)\n",
    "\n",
    "# Об’єднуємо у підсумкову таблицю\n",
    "min_summary = pd.DataFrame({\n",
    "    \"Мінімальна кількість\": min_values,\n",
    "    \"День тижня\": min_days\n",
    "    })\n",
    "\n",
    "min_summary"
   ]
  },
  {
   "cell_type": "markdown",
   "metadata": {},
   "source": [
    "### Висновки:  \n",
    "На основі зведеної таблиці `product_line_by_weekday` легко аналізувати в які дні тижня і які саме товари користуються найменшим попитом, тут доцільно буде побудувати теплову карту. На основі цієї таблиці побудована таблиця `min_summary`, в якій вказано найменше значення для кожної комбінації (Product line, City) і у який саме день тижня це було.\n",
    "\n",
    "### Рекомендації:\n",
    "- Оптимізувати запаси та змінити розкладку продуктів/товарів у залежності від дня.  \n",
    "- Запустити таргентовані акції у містах/днях, де попит слабший."
   ]
  },
  {
   "cell_type": "markdown",
   "metadata": {},
   "source": [
    "## Питання 3\n",
    "Чи впливає тип клієнта (Customer type) і час доби на середній чек?  \n",
    "Мета: дослідити чи схильні члени клубу витрачати більше в певні години, ніж звичайні покупці?"
   ]
  },
  {
   "cell_type": "code",
   "execution_count": 21,
   "metadata": {
    "execution": {
     "iopub.execute_input": "2025-07-03T15:43:35.134222Z",
     "iopub.status.busy": "2025-07-03T15:43:35.134222Z",
     "iopub.status.idle": "2025-07-03T15:43:35.146796Z",
     "shell.execute_reply": "2025-07-03T15:43:35.146796Z",
     "shell.execute_reply.started": "2025-07-03T15:43:35.134222Z"
    }
   },
   "outputs": [],
   "source": [
    "# Обчислимо середній чек (Total) з розбивкою по містах і типу клієнта (Member/Normal).\n",
    "table_avg_check = df.pivot_table(index='Customer type',\n",
    "                                          columns='City',\n",
    "                                          values='Total',\n",
    "                                          aggfunc='mean')"
   ]
  },
  {
   "cell_type": "code",
   "execution_count": 22,
   "metadata": {
    "execution": {
     "iopub.execute_input": "2025-07-03T15:43:38.303344Z",
     "iopub.status.busy": "2025-07-03T15:43:38.303344Z",
     "iopub.status.idle": "2025-07-03T15:43:38.318929Z",
     "shell.execute_reply": "2025-07-03T15:43:38.318929Z",
     "shell.execute_reply.started": "2025-07-03T15:43:38.303344Z"
    }
   },
   "outputs": [
    {
     "data": {
      "text/html": [
       "<div>\n",
       "<style scoped>\n",
       "    .dataframe tbody tr th:only-of-type {\n",
       "        vertical-align: middle;\n",
       "    }\n",
       "\n",
       "    .dataframe tbody tr th {\n",
       "        vertical-align: top;\n",
       "    }\n",
       "\n",
       "    .dataframe thead th {\n",
       "        text-align: right;\n",
       "    }\n",
       "</style>\n",
       "<table border=\"1\" class=\"dataframe\">\n",
       "  <thead>\n",
       "    <tr style=\"text-align: right;\">\n",
       "      <th>City</th>\n",
       "      <th>Mandalay</th>\n",
       "      <th>Naypyitaw</th>\n",
       "      <th>Yangon</th>\n",
       "    </tr>\n",
       "    <tr>\n",
       "      <th>Customer type</th>\n",
       "      <th></th>\n",
       "      <th></th>\n",
       "      <th></th>\n",
       "    </tr>\n",
       "  </thead>\n",
       "  <tbody>\n",
       "    <tr>\n",
       "      <th>Member</th>\n",
       "      <td>325.5</td>\n",
       "      <td>336.6</td>\n",
       "      <td>321.2</td>\n",
       "    </tr>\n",
       "    <tr>\n",
       "      <th>Normal</th>\n",
       "      <td>314.3</td>\n",
       "      <td>337.7</td>\n",
       "      <td>303.8</td>\n",
       "    </tr>\n",
       "  </tbody>\n",
       "</table>\n",
       "</div>"
      ],
      "text/plain": [
       "City           Mandalay  Naypyitaw  Yangon\n",
       "Customer type                             \n",
       "Member            325.5      336.6   321.2\n",
       "Normal            314.3      337.7   303.8"
      ]
     },
     "execution_count": 22,
     "metadata": {},
     "output_type": "execute_result"
    }
   ],
   "source": [
    "table_avg_check.round(1)"
   ]
  },
  {
   "cell_type": "code",
   "execution_count": 23,
   "metadata": {
    "execution": {
     "iopub.execute_input": "2025-07-03T15:43:39.420451Z",
     "iopub.status.busy": "2025-07-03T15:43:39.420451Z",
     "iopub.status.idle": "2025-07-03T15:43:39.429810Z",
     "shell.execute_reply": "2025-07-03T15:43:39.427839Z",
     "shell.execute_reply.started": "2025-07-03T15:43:39.420451Z"
    }
   },
   "outputs": [],
   "source": [
    "# Функція, що з часу в форматі \"година:хвилина\" дістає тільки години, і конвертує їх у тип int\n",
    "def get_hour(time_str):\n",
    "    hour_str = time_str.split(\":\")[0]\n",
    "    return int(hour_str)"
   ]
  },
  {
   "cell_type": "code",
   "execution_count": 24,
   "metadata": {
    "execution": {
     "iopub.execute_input": "2025-07-03T15:43:41.290387Z",
     "iopub.status.busy": "2025-07-03T15:43:41.290387Z",
     "iopub.status.idle": "2025-07-03T15:43:41.300555Z",
     "shell.execute_reply": "2025-07-03T15:43:41.299826Z",
     "shell.execute_reply.started": "2025-07-03T15:43:41.290387Z"
    }
   },
   "outputs": [],
   "source": [
    "# Додамо колонку з годиною покупки\n",
    "df['Hour'] = df['Time'].apply(get_hour)"
   ]
  },
  {
   "cell_type": "code",
   "execution_count": 25,
   "metadata": {
    "execution": {
     "iopub.execute_input": "2025-07-03T15:43:44.163745Z",
     "iopub.status.busy": "2025-07-03T15:43:44.163745Z",
     "iopub.status.idle": "2025-07-03T15:43:44.188542Z",
     "shell.execute_reply": "2025-07-03T15:43:44.188007Z",
     "shell.execute_reply.started": "2025-07-03T15:43:44.163745Z"
    }
   },
   "outputs": [
    {
     "data": {
      "text/html": [
       "<div>\n",
       "<style scoped>\n",
       "    .dataframe tbody tr th:only-of-type {\n",
       "        vertical-align: middle;\n",
       "    }\n",
       "\n",
       "    .dataframe tbody tr th {\n",
       "        vertical-align: top;\n",
       "    }\n",
       "\n",
       "    .dataframe thead th {\n",
       "        text-align: right;\n",
       "    }\n",
       "</style>\n",
       "<table border=\"1\" class=\"dataframe\">\n",
       "  <thead>\n",
       "    <tr style=\"text-align: right;\">\n",
       "      <th></th>\n",
       "      <th>Invoice ID</th>\n",
       "      <th>Branch</th>\n",
       "      <th>City</th>\n",
       "      <th>Customer type</th>\n",
       "      <th>Gender</th>\n",
       "      <th>Product line</th>\n",
       "      <th>Unit price</th>\n",
       "      <th>Quantity</th>\n",
       "      <th>Tax 5%</th>\n",
       "      <th>Total</th>\n",
       "      <th>Date</th>\n",
       "      <th>Time</th>\n",
       "      <th>Payment</th>\n",
       "      <th>cogs</th>\n",
       "      <th>gross margin percentage</th>\n",
       "      <th>gross income</th>\n",
       "      <th>Rating</th>\n",
       "      <th>Weekday</th>\n",
       "      <th>Hour</th>\n",
       "    </tr>\n",
       "  </thead>\n",
       "  <tbody>\n",
       "    <tr>\n",
       "      <th>0</th>\n",
       "      <td>750-67-8428</td>\n",
       "      <td>A</td>\n",
       "      <td>Yangon</td>\n",
       "      <td>Member</td>\n",
       "      <td>Female</td>\n",
       "      <td>Health and beauty</td>\n",
       "      <td>74.69</td>\n",
       "      <td>7</td>\n",
       "      <td>26.1415</td>\n",
       "      <td>548.9715</td>\n",
       "      <td>1/5/2019</td>\n",
       "      <td>13:08</td>\n",
       "      <td>Ewallet</td>\n",
       "      <td>522.83</td>\n",
       "      <td>4.761905</td>\n",
       "      <td>26.1415</td>\n",
       "      <td>9.1</td>\n",
       "      <td>Saturday</td>\n",
       "      <td>13</td>\n",
       "    </tr>\n",
       "    <tr>\n",
       "      <th>1</th>\n",
       "      <td>226-31-3081</td>\n",
       "      <td>C</td>\n",
       "      <td>Naypyitaw</td>\n",
       "      <td>Normal</td>\n",
       "      <td>Female</td>\n",
       "      <td>Electronic accessories</td>\n",
       "      <td>15.28</td>\n",
       "      <td>5</td>\n",
       "      <td>3.8200</td>\n",
       "      <td>80.2200</td>\n",
       "      <td>3/8/2019</td>\n",
       "      <td>10:29</td>\n",
       "      <td>Cash</td>\n",
       "      <td>76.40</td>\n",
       "      <td>4.761905</td>\n",
       "      <td>3.8200</td>\n",
       "      <td>9.6</td>\n",
       "      <td>Friday</td>\n",
       "      <td>10</td>\n",
       "    </tr>\n",
       "  </tbody>\n",
       "</table>\n",
       "</div>"
      ],
      "text/plain": [
       "    Invoice ID Branch       City Customer type  Gender  \\\n",
       "0  750-67-8428      A     Yangon        Member  Female   \n",
       "1  226-31-3081      C  Naypyitaw        Normal  Female   \n",
       "\n",
       "             Product line  Unit price  Quantity   Tax 5%     Total      Date  \\\n",
       "0       Health and beauty       74.69         7  26.1415  548.9715  1/5/2019   \n",
       "1  Electronic accessories       15.28         5   3.8200   80.2200  3/8/2019   \n",
       "\n",
       "    Time  Payment    cogs  gross margin percentage  gross income  Rating  \\\n",
       "0  13:08  Ewallet  522.83                 4.761905       26.1415     9.1   \n",
       "1  10:29     Cash   76.40                 4.761905        3.8200     9.6   \n",
       "\n",
       "    Weekday  Hour  \n",
       "0  Saturday    13  \n",
       "1    Friday    10  "
      ]
     },
     "execution_count": 25,
     "metadata": {},
     "output_type": "execute_result"
    }
   ],
   "source": [
    "df[:2]"
   ]
  },
  {
   "cell_type": "code",
   "execution_count": 26,
   "metadata": {
    "execution": {
     "iopub.execute_input": "2025-07-03T15:43:48.866304Z",
     "iopub.status.busy": "2025-07-03T15:43:48.866304Z",
     "iopub.status.idle": "2025-07-03T15:43:48.885925Z",
     "shell.execute_reply": "2025-07-03T15:43:48.885925Z",
     "shell.execute_reply.started": "2025-07-03T15:43:48.866304Z"
    }
   },
   "outputs": [],
   "source": [
    "# Обчислимо середній чек (Total) за годинами (Hour) з розбивкою по містах і типу клієнта (Member/Normal).\n",
    "table_avg_check_by_hour = df.pivot_table(index='Hour',\n",
    "                                          columns=['City', 'Customer type'],\n",
    "                                          values='Total',\n",
    "                                          aggfunc= 'mean')"
   ]
  },
  {
   "cell_type": "code",
   "execution_count": 27,
   "metadata": {
    "execution": {
     "iopub.execute_input": "2025-07-03T15:43:50.621467Z",
     "iopub.status.busy": "2025-07-03T15:43:50.618413Z",
     "iopub.status.idle": "2025-07-03T15:43:50.658297Z",
     "shell.execute_reply": "2025-07-03T15:43:50.658297Z",
     "shell.execute_reply.started": "2025-07-03T15:43:50.621467Z"
    }
   },
   "outputs": [
    {
     "data": {
      "text/html": [
       "<div>\n",
       "<style scoped>\n",
       "    .dataframe tbody tr th:only-of-type {\n",
       "        vertical-align: middle;\n",
       "    }\n",
       "\n",
       "    .dataframe tbody tr th {\n",
       "        vertical-align: top;\n",
       "    }\n",
       "\n",
       "    .dataframe thead tr th {\n",
       "        text-align: left;\n",
       "    }\n",
       "\n",
       "    .dataframe thead tr:last-of-type th {\n",
       "        text-align: right;\n",
       "    }\n",
       "</style>\n",
       "<table border=\"1\" class=\"dataframe\">\n",
       "  <thead>\n",
       "    <tr>\n",
       "      <th>City</th>\n",
       "      <th colspan=\"2\" halign=\"left\">Mandalay</th>\n",
       "      <th colspan=\"2\" halign=\"left\">Naypyitaw</th>\n",
       "      <th colspan=\"2\" halign=\"left\">Yangon</th>\n",
       "    </tr>\n",
       "    <tr>\n",
       "      <th>Customer type</th>\n",
       "      <th>Member</th>\n",
       "      <th>Normal</th>\n",
       "      <th>Member</th>\n",
       "      <th>Normal</th>\n",
       "      <th>Member</th>\n",
       "      <th>Normal</th>\n",
       "    </tr>\n",
       "    <tr>\n",
       "      <th>Hour</th>\n",
       "      <th></th>\n",
       "      <th></th>\n",
       "      <th></th>\n",
       "      <th></th>\n",
       "      <th></th>\n",
       "      <th></th>\n",
       "    </tr>\n",
       "  </thead>\n",
       "  <tbody>\n",
       "    <tr>\n",
       "      <th>10</th>\n",
       "      <td>342.7</td>\n",
       "      <td>340.4</td>\n",
       "      <td>319.6</td>\n",
       "      <td>294.4</td>\n",
       "      <td>242.1</td>\n",
       "      <td>337.8</td>\n",
       "    </tr>\n",
       "    <tr>\n",
       "      <th>11</th>\n",
       "      <td>334.4</td>\n",
       "      <td>297.5</td>\n",
       "      <td>365.2</td>\n",
       "      <td>411.7</td>\n",
       "      <td>305.3</td>\n",
       "      <td>342.2</td>\n",
       "    </tr>\n",
       "    <tr>\n",
       "      <th>12</th>\n",
       "      <td>330.0</td>\n",
       "      <td>350.5</td>\n",
       "      <td>235.3</td>\n",
       "      <td>283.0</td>\n",
       "      <td>323.1</td>\n",
       "      <td>244.6</td>\n",
       "    </tr>\n",
       "    <tr>\n",
       "      <th>13</th>\n",
       "      <td>300.2</td>\n",
       "      <td>294.0</td>\n",
       "      <td>370.6</td>\n",
       "      <td>399.7</td>\n",
       "      <td>291.7</td>\n",
       "      <td>369.5</td>\n",
       "    </tr>\n",
       "    <tr>\n",
       "      <th>14</th>\n",
       "      <td>427.4</td>\n",
       "      <td>340.7</td>\n",
       "      <td>388.3</td>\n",
       "      <td>346.1</td>\n",
       "      <td>373.3</td>\n",
       "      <td>313.2</td>\n",
       "    </tr>\n",
       "    <tr>\n",
       "      <th>15</th>\n",
       "      <td>320.3</td>\n",
       "      <td>319.6</td>\n",
       "      <td>295.6</td>\n",
       "      <td>290.3</td>\n",
       "      <td>393.9</td>\n",
       "      <td>210.5</td>\n",
       "    </tr>\n",
       "    <tr>\n",
       "      <th>16</th>\n",
       "      <td>261.3</td>\n",
       "      <td>221.5</td>\n",
       "      <td>320.9</td>\n",
       "      <td>416.9</td>\n",
       "      <td>264.4</td>\n",
       "      <td>391.2</td>\n",
       "    </tr>\n",
       "    <tr>\n",
       "      <th>17</th>\n",
       "      <td>360.0</td>\n",
       "      <td>424.1</td>\n",
       "      <td>305.8</td>\n",
       "      <td>247.8</td>\n",
       "      <td>417.1</td>\n",
       "      <td>278.5</td>\n",
       "    </tr>\n",
       "    <tr>\n",
       "      <th>18</th>\n",
       "      <td>262.2</td>\n",
       "      <td>280.2</td>\n",
       "      <td>302.4</td>\n",
       "      <td>424.7</td>\n",
       "      <td>225.4</td>\n",
       "      <td>226.0</td>\n",
       "    </tr>\n",
       "    <tr>\n",
       "      <th>19</th>\n",
       "      <td>316.8</td>\n",
       "      <td>336.1</td>\n",
       "      <td>350.0</td>\n",
       "      <td>381.7</td>\n",
       "      <td>399.2</td>\n",
       "      <td>367.2</td>\n",
       "    </tr>\n",
       "    <tr>\n",
       "      <th>20</th>\n",
       "      <td>307.4</td>\n",
       "      <td>266.8</td>\n",
       "      <td>454.6</td>\n",
       "      <td>269.9</td>\n",
       "      <td>329.2</td>\n",
       "      <td>206.8</td>\n",
       "    </tr>\n",
       "  </tbody>\n",
       "</table>\n",
       "</div>"
      ],
      "text/plain": [
       "City          Mandalay        Naypyitaw        Yangon       \n",
       "Customer type   Member Normal    Member Normal Member Normal\n",
       "Hour                                                        \n",
       "10               342.7  340.4     319.6  294.4  242.1  337.8\n",
       "11               334.4  297.5     365.2  411.7  305.3  342.2\n",
       "12               330.0  350.5     235.3  283.0  323.1  244.6\n",
       "13               300.2  294.0     370.6  399.7  291.7  369.5\n",
       "14               427.4  340.7     388.3  346.1  373.3  313.2\n",
       "15               320.3  319.6     295.6  290.3  393.9  210.5\n",
       "16               261.3  221.5     320.9  416.9  264.4  391.2\n",
       "17               360.0  424.1     305.8  247.8  417.1  278.5\n",
       "18               262.2  280.2     302.4  424.7  225.4  226.0\n",
       "19               316.8  336.1     350.0  381.7  399.2  367.2\n",
       "20               307.4  266.8     454.6  269.9  329.2  206.8"
      ]
     },
     "execution_count": 27,
     "metadata": {},
     "output_type": "execute_result"
    }
   ],
   "source": [
    "table_avg_check_by_hour.round(1)"
   ]
  },
  {
   "cell_type": "markdown",
   "metadata": {},
   "source": [
    "### Висновки:  \n",
    "- У місті Mandalay:\n",
    "  -- Члени клубу мають вищі середні чеки у період 14.00-17.00 (піки до 427 грошових одиниць)\n",
    "  -- Звичайні клієнти особливо активні з 17 до 19 (трохи вище 424 грошових одиниць)\n",
    "- У місті Naypyitaw:\n",
    "  -- Карткові клієнти теж показують високі суми чека між 13:00 і 15:00.\n",
    "  -- Рекордно високий середній чек 454.6 о 20 — це знову Member-клієнти, отже вечір у Naypyitaw — ідеальний період для залучення лояльних покупців.\n",
    "- У місті Yangon:\n",
    "  -- Чіткий пік для клієнтів з карткою — о 17 (417 грошових одиниць) та о 19 (399 грошових одиниць)\n",
    "  -- Унікальність: тут \"Members\" купують значно більше ввечері, ніж \"Normal\".\n",
    "  \n",
    "У всіх містах є годинні слоти, коли члени клубу (Members) витрачають суттєво більше — переважно в обід та ввечері (13–17 і 19–20).  \n",
    "Клієнти без картки показують вищі чеки в окремі пікові години (наприклад, о 16 і 18 у Naypyitaw).\n",
    "\n",
    "\n",
    "### Рекомендації:\n",
    "- Запуск таргетованих вечірніх акцій для лояльних клієнтів у Yangon і Naypyitaw (наприклад, бонуси після 17:00).  \n",
    "- Залучення звичайних покупців у Mandalay через стимули в години, де вони не активні (наприклад, обідні знижки)."
   ]
  },
  {
   "cell_type": "code",
   "execution_count": null,
   "metadata": {},
   "outputs": [],
   "source": []
  }
 ],
 "metadata": {
  "colab": {
   "provenance": []
  },
  "kernelspec": {
   "display_name": "Python [conda env:base] *",
   "language": "python",
   "name": "conda-base-py"
  },
  "language_info": {
   "codemirror_mode": {
    "name": "ipython",
    "version": 3
   },
   "file_extension": ".py",
   "mimetype": "text/x-python",
   "name": "python",
   "nbconvert_exporter": "python",
   "pygments_lexer": "ipython3",
   "version": "3.12.7"
  }
 },
 "nbformat": 4,
 "nbformat_minor": 4
}
