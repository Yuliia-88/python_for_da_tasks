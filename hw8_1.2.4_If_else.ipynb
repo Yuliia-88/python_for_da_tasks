{
 "cells": [
  {
   "cell_type": "markdown",
   "metadata": {
    "id": "ZrhGiOYxAAbb"
   },
   "source": [
    "#Домашнє завдання до теми \"Конструкція if...else\""
   ]
  },
  {
   "cell_type": "markdown",
   "metadata": {
    "id": "mpXlwoNP-cWT"
   },
   "source": [
    "1. **Перевірка температури:**\n",
    "   - Завдання:\n",
    "     - Дано заздалегідь визначену змінну температури `temperature`. Перевірте її значення.\n",
    "     - Якщо температура вище 25 градусів Цельсія, виведіть \"Це теплий день.\"\n",
    "     - Якщо температура знаходиться в межах від 15 до 25 градусів Цельсія (включно), виведіть \"Це приємний день.\"\n",
    "     - В іншому випадку виведіть \"Це холодний день.\""
   ]
  },
  {
   "cell_type": "code",
   "execution_count": 10,
   "metadata": {
    "execution": {
     "iopub.execute_input": "2025-06-14T12:11:53.908481Z",
     "iopub.status.busy": "2025-06-14T12:11:53.908481Z",
     "iopub.status.idle": "2025-06-14T12:11:53.916541Z",
     "shell.execute_reply": "2025-06-14T12:11:53.916541Z",
     "shell.execute_reply.started": "2025-06-14T12:11:53.908481Z"
    },
    "id": "fho34W3U-ssw"
   },
   "outputs": [],
   "source": [
    "temperature = 14"
   ]
  },
  {
   "cell_type": "code",
   "execution_count": 11,
   "metadata": {
    "execution": {
     "iopub.execute_input": "2025-06-14T12:11:54.503068Z",
     "iopub.status.busy": "2025-06-14T12:11:54.503068Z",
     "iopub.status.idle": "2025-06-14T12:11:54.510819Z",
     "shell.execute_reply": "2025-06-14T12:11:54.509282Z",
     "shell.execute_reply.started": "2025-06-14T12:11:54.503068Z"
    },
    "id": "CC3TlffAAPxK"
   },
   "outputs": [
    {
     "name": "stdout",
     "output_type": "stream",
     "text": [
      "Це холодний день\n"
     ]
    }
   ],
   "source": [
    "if temperature > 25:\n",
    "    print(\"Це теплий день\")\n",
    "elif temperature >=15:\n",
    "    print(\"Це приємний день\")\n",
    "else:\n",
    "    print(\"Це холодний день\")"
   ]
  },
  {
   "cell_type": "markdown",
   "metadata": {
    "id": "ANFbi11m-4v_"
   },
   "source": [
    "2. **Калькулятор оцінок:**\n",
    "   - Завдання:\n",
    "     - Дано заздалегідь визначену змінну `score` із результатом іспиту (зі 100 балів). Ваша задача визначити відповідну літеру цієї оцінки за правилами нижче.\n",
    "     - Якщо оцінка 90 або вище, виведіть \"A\".\n",
    "     - Якщо оцінка знаходиться в межах від 80 до 89, виведіть \"B\".\n",
    "     - Якщо оцінка знаходиться в межах від 70 до 79, виведіть \"C\".\n",
    "     - Якщо оцінка знаходиться в межах від 60 до 69, виведіть \"D\".\n",
    "     - В іншому випадку виведіть \"F\".\n",
    "     \n"
   ]
  },
  {
   "cell_type": "code",
   "execution_count": 18,
   "metadata": {
    "execution": {
     "iopub.execute_input": "2025-06-14T17:46:32.757683Z",
     "iopub.status.busy": "2025-06-14T17:46:32.757683Z",
     "iopub.status.idle": "2025-06-14T17:46:32.767865Z",
     "shell.execute_reply": "2025-06-14T17:46:32.766448Z",
     "shell.execute_reply.started": "2025-06-14T17:46:32.757683Z"
    },
    "id": "2w0dAfBw_ew2"
   },
   "outputs": [],
   "source": [
    "score = 90"
   ]
  },
  {
   "cell_type": "code",
   "execution_count": 19,
   "metadata": {
    "execution": {
     "iopub.execute_input": "2025-06-14T17:46:35.540252Z",
     "iopub.status.busy": "2025-06-14T17:46:35.540252Z",
     "iopub.status.idle": "2025-06-14T17:46:35.549810Z",
     "shell.execute_reply": "2025-06-14T17:46:35.549810Z",
     "shell.execute_reply.started": "2025-06-14T17:46:35.540252Z"
    },
    "id": "ZdJsRZ0WAQVD"
   },
   "outputs": [
    {
     "name": "stdout",
     "output_type": "stream",
     "text": [
      "A\n"
     ]
    }
   ],
   "source": [
    "if score >= 90:\n",
    "    print(\"A\")\n",
    "elif score >=80:\n",
    "    print(\"B\")\n",
    "elif score >=70:\n",
    "    print(\"C\")\n",
    "elif score >=60:\n",
    "    print(\"D\")\n",
    "else:\n",
    "    print(\"F\")"
   ]
  },
  {
   "cell_type": "markdown",
   "metadata": {
    "id": "ohXlepp7_dns"
   },
   "source": [
    "\n",
    "\n",
    "3. **Перевірка на високосний рік:**\n",
    "   - Завдання:\n",
    "     - Дано заздалегідь визначену змінну року `year`. Перевірте, чи є рік високосним роком. Правила для перевірки наведені нижче.\n",
    "     - Якщо рік ділиться на 4 і не ділиться на 100, або він ділиться на 400, виведіть \"Високосний рік\".\n",
    "     - В іншому випадку виведіть \"Не високосний рік\".\n"
   ]
  },
  {
   "cell_type": "code",
   "execution_count": 27,
   "metadata": {
    "execution": {
     "iopub.execute_input": "2025-06-14T17:56:31.569848Z",
     "iopub.status.busy": "2025-06-14T17:56:31.566836Z",
     "iopub.status.idle": "2025-06-14T17:56:31.575196Z",
     "shell.execute_reply": "2025-06-14T17:56:31.574219Z",
     "shell.execute_reply.started": "2025-06-14T17:56:31.569848Z"
    },
    "id": "i4OUe6Kh_sAk"
   },
   "outputs": [],
   "source": [
    "year = 2025  # Приклад року"
   ]
  },
  {
   "cell_type": "code",
   "execution_count": 28,
   "metadata": {
    "execution": {
     "iopub.execute_input": "2025-06-14T17:56:34.721605Z",
     "iopub.status.busy": "2025-06-14T17:56:34.721605Z",
     "iopub.status.idle": "2025-06-14T17:56:34.730804Z",
     "shell.execute_reply": "2025-06-14T17:56:34.728900Z",
     "shell.execute_reply.started": "2025-06-14T17:56:34.721605Z"
    },
    "id": "yTWX7B4JARhH"
   },
   "outputs": [
    {
     "name": "stdout",
     "output_type": "stream",
     "text": [
      "Не високосний рік\n"
     ]
    }
   ],
   "source": [
    "if (year % 4) == 0 and (year % 100) != 0 or (year % 400) == 0:\n",
    "    print(\"Високосний рік\")\n",
    "else:\n",
    "    print(\"Не високосний рік\")"
   ]
  },
  {
   "cell_type": "code",
   "execution_count": null,
   "metadata": {},
   "outputs": [],
   "source": []
  }
 ],
 "metadata": {
  "colab": {
   "provenance": []
  },
  "kernelspec": {
   "display_name": "Python [conda env:base] *",
   "language": "python",
   "name": "conda-base-py"
  },
  "language_info": {
   "codemirror_mode": {
    "name": "ipython",
    "version": 3
   },
   "file_extension": ".py",
   "mimetype": "text/x-python",
   "name": "python",
   "nbconvert_exporter": "python",
   "pygments_lexer": "ipython3",
   "version": "3.12.7"
  }
 },
 "nbformat": 4,
 "nbformat_minor": 4
}
