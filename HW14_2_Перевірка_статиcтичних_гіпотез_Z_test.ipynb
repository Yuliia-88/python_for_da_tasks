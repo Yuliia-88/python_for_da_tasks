{
 "cells": [
  {
   "cell_type": "markdown",
   "id": "e152f6d6",
   "metadata": {
    "ExecuteTime": {
     "end_time": "2022-12-10T14:29:24.703416Z",
     "start_time": "2022-12-10T14:29:24.688485Z"
    },
    "id": "e152f6d6"
   },
   "source": [
    "#Перевірка статиcтичних гіпотез. Z-test.\n",
    "\n"
   ]
  },
  {
   "cell_type": "markdown",
   "id": "cd404683",
   "metadata": {
    "id": "cd404683"
   },
   "source": [
    "0. Зчитайте дані з `data.csv` у змінну data, яка має тип pandas.DataFrame. Ми будемо далі працювати з цією змінною."
   ]
  },
  {
   "cell_type": "code",
   "execution_count": 1,
   "id": "3865eaa7-ab4d-4040-8dff-496673bd2879",
   "metadata": {
    "execution": {
     "iopub.execute_input": "2025-09-04T20:26:24.914660Z",
     "iopub.status.busy": "2025-09-04T20:26:24.914660Z",
     "iopub.status.idle": "2025-09-04T20:26:25.741358Z",
     "shell.execute_reply": "2025-09-04T20:26:25.740843Z",
     "shell.execute_reply.started": "2025-09-04T20:26:24.914660Z"
    }
   },
   "outputs": [],
   "source": [
    "import numpy as np\n",
    "import pandas as pd\n",
    "\n",
    "from scipy import stats"
   ]
  },
  {
   "cell_type": "code",
   "execution_count": 2,
   "id": "b20b6ba2",
   "metadata": {
    "execution": {
     "iopub.execute_input": "2025-09-04T20:26:27.337286Z",
     "iopub.status.busy": "2025-09-04T20:26:27.337286Z",
     "iopub.status.idle": "2025-09-04T20:26:27.426387Z",
     "shell.execute_reply": "2025-09-04T20:26:27.425380Z",
     "shell.execute_reply.started": "2025-09-04T20:26:27.337286Z"
    },
    "id": "b20b6ba2"
   },
   "outputs": [],
   "source": [
    "# Завантаження даних\n",
    "data = pd.read_csv('../data/statistical_hypothesis/data.csv')"
   ]
  },
  {
   "cell_type": "markdown",
   "id": "3d06cbbf",
   "metadata": {
    "id": "3d06cbbf"
   },
   "source": [
    "Запустіть код нижче. Для коректної робити всіх подальших методів дані мають бути у вигляді одновимірного `numpy.ndarray` вектора та мати розмірність (100,). Така розмірність означає, що дані - одновимірні (колонка), якщо б розмірність була (100, 1), то дані сприймаються методами як двовимірні (таблиця), хоча для нас виглядати можуть так само."
   ]
  },
  {
   "cell_type": "code",
   "execution_count": 3,
   "id": "cce1632b",
   "metadata": {
    "colab": {
     "base_uri": "https://localhost:8080/"
    },
    "execution": {
     "iopub.execute_input": "2025-09-04T20:26:34.781214Z",
     "iopub.status.busy": "2025-09-04T20:26:34.779908Z",
     "iopub.status.idle": "2025-09-04T20:26:34.791895Z",
     "shell.execute_reply": "2025-09-04T20:26:34.791895Z",
     "shell.execute_reply.started": "2025-09-04T20:26:34.781214Z"
    },
    "id": "cce1632b",
    "outputId": "2e142439-2a4f-4057-ff9d-e6a4b3d7e955"
   },
   "outputs": [
    {
     "data": {
      "text/plain": [
       "(100,)"
      ]
     },
     "execution_count": 3,
     "metadata": {},
     "output_type": "execute_result"
    }
   ],
   "source": [
    "data = data.data.values\n",
    "data.shape"
   ]
  },
  {
   "cell_type": "markdown",
   "id": "abdcef5d",
   "metadata": {
    "id": "abdcef5d"
   },
   "source": [
    "**Завдання 1**. Зчитані дані - це сума покупок в доларах наших покупців на сайті протягом липня 2025 року.\n",
    "\n",
    "До цього місяця, ми мали продажі в середньому на чек $20.\n",
    "\n",
    "Необхідно зʼясувати, чи вийшло у нас статистично значущо **підвищити** середній чек за липень 2025?\n",
    "\n",
    "Аби дати відповідь - ми проведемо z-test на рівні значущості $\\alpha=0.05$ двома способами. В цьому завданні ми будемо виконувати обчислення \"вручну\" з використанням бібліотек numpy та scipy.stats подібно до прикладу в лекції. Для цього виконайте наступні 7 кроків. Правильне виконання кожного з кроків оцінюється в 1 бал.\n",
    "\n",
    "1. Запишіть параметри задачі у змінні Python:\n",
    "    - `sample_mean` - $\\bar{x}$, середнє значення в вибірці\n",
    "    - `population_mean` - $\\mu_0$, середнє значення в популяції (тобто те, з яким ми порівнюємо середнє вибіркове значення)\n",
    "    - `population_std` - $\\sigma$, вибіркове стандартне відхилення, яке ми вважаємо, що є рівним ст. відх. популяції, адже маємо достатньо велику вибірку.\n",
    "    - `sample_size` - $n$, розмір вибірки\n",
    "    - `alpha` - $\\alpha$ рівень значущості\n",
    "    \n",
    "    **Увага!** Для обчислення стандартного відхилення маємо скористатись функцією `np.std(your_dataframe, ddof=1)`. Чому так - розбираємо в лекції про t-test.\n",
    "\n",
    "\n",
    "2. Визначте для цієї задачі:\n",
    "    - якою є гіпотеза $H_0$\n",
    "    - якою є альтернативна гіпотеза $H_a$\n",
    "    - з яким типом тесту ми маємо справу - лівосторонній, правосторонній чи двосторонній.\n",
    "\n",
    "3. Обчисліть стандартну помилку SE.\n",
    "4. Розрахуйте z-статистику.\n",
    "5. Знайдіть критичне z-значення з допомогою бібліотеки stats.\n",
    "6. Обчисліть p-value з допомогою бібліотеки stats.\n",
    "7. Прийміть рішення, чи відхиляєте ви гіпотезу $H_0$. Для прийняття рішення зробіть і порівняння z-статистики з критичним значенням, і проаналізуйте p-value."
   ]
  },
  {
   "cell_type": "code",
   "execution_count": 4,
   "id": "NX2XezWLdf4t",
   "metadata": {
    "execution": {
     "iopub.execute_input": "2025-09-04T20:26:43.194745Z",
     "iopub.status.busy": "2025-09-04T20:26:43.194745Z",
     "iopub.status.idle": "2025-09-04T20:26:43.210792Z",
     "shell.execute_reply": "2025-09-04T20:26:43.209841Z",
     "shell.execute_reply.started": "2025-09-04T20:26:43.194745Z"
    },
    "id": "NX2XezWLdf4t"
   },
   "outputs": [
    {
     "name": "stdout",
     "output_type": "stream",
     "text": [
      "============================================================\n",
      "ПАРАМЕТРИ ЗАДАЧІ:\n",
      "============================================================\n",
      "Середнє значення в вибірці x̄ = 19.378\n",
      "Середнє значення в популяції μ₀ = 20\n",
      "Вибіркове стандртне відхилення σ = 6.254\n",
      "Розмір вибірки n = 100\n",
      "Рівень значущості α = 0.05\n",
      "\n"
     ]
    }
   ],
   "source": [
    "# 1. Задаємо параметри задачі у змінні\n",
    "sample_mean = np.mean(data)\n",
    "population_mean = 20\n",
    "population_std = np.std(data, ddof=1)\n",
    "sample_size = data.shape[0]\n",
    "alpha = 0.05\n",
    "\n",
    "print('=' * 60)\n",
    "print('ПАРАМЕТРИ ЗАДАЧІ:')\n",
    "print('=' * 60)\n",
    "print(f'Середнє значення в вибірці x̄ = {sample_mean:.3f}')\n",
    "print(f'Середнє значення в популяції μ₀ = {population_mean}')\n",
    "print(f'Вибіркове стандртне відхилення σ = {population_std:.3f}')\n",
    "print(f'Розмір вибірки n = {sample_size}')\n",
    "print(f'Рівень значущості α = {alpha}')\n",
    "print()"
   ]
  },
  {
   "cell_type": "markdown",
   "id": "dc97b6d1-cf46-46be-8acb-384a2a70ec30",
   "metadata": {
    "execution": {
     "iopub.execute_input": "2025-09-04T11:53:04.294218Z",
     "iopub.status.busy": "2025-09-04T11:53:04.294218Z",
     "iopub.status.idle": "2025-09-04T11:53:04.302862Z",
     "shell.execute_reply": "2025-09-04T11:53:04.301852Z",
     "shell.execute_reply.started": "2025-09-04T11:53:04.294218Z"
    }
   },
   "source": [
    "*#2. Гіпотези*   \n",
    "\n",
    "H₀: μ = 20  \n",
    "H₁: μ > 20 (оскільки перевіряємо чи вдалось підвищити середній чек)  \n",
    "Тип тесту: правосторонній (one-tailed)  "
   ]
  },
  {
   "cell_type": "code",
   "execution_count": 5,
   "id": "1ced663d-34ab-4b64-8a48-6b4508dda680",
   "metadata": {
    "execution": {
     "iopub.execute_input": "2025-09-04T20:26:48.076910Z",
     "iopub.status.busy": "2025-09-04T20:26:48.076910Z",
     "iopub.status.idle": "2025-09-04T20:26:48.085662Z",
     "shell.execute_reply": "2025-09-04T20:26:48.085662Z",
     "shell.execute_reply.started": "2025-09-04T20:26:48.076910Z"
    }
   },
   "outputs": [
    {
     "name": "stdout",
     "output_type": "stream",
     "text": [
      "============================================================\n",
      "ОБЧИСЛЕННЯ СТАНДАРТНОЇ ПОМИЛКИ:\n",
      "============================================================\n",
      "Формула: SE = σ / √n\n",
      "SE = 6.254 / √100\n",
      "SE = 0.625\n",
      "\n"
     ]
    }
   ],
   "source": [
    "# 3. Обчислення стандартної помилки\n",
    "standard_error = population_std / np.sqrt(sample_size)          # Формула: SE = σ / √n\n",
    "\n",
    "print(\"=\" * 60)\n",
    "print(\"ОБЧИСЛЕННЯ СТАНДАРТНОЇ ПОМИЛКИ:\")\n",
    "print(\"=\" * 60)\n",
    "print(\"Формула: SE = σ / √n\")\n",
    "print(f\"SE = {population_std:.3f} / √{sample_size}\")\n",
    "print(f\"SE = {standard_error:.3f}\")\n",
    "print()\n"
   ]
  },
  {
   "cell_type": "code",
   "execution_count": 6,
   "id": "fdb1e791-fcc6-426f-bdd2-38ed0cb5ae06",
   "metadata": {
    "execution": {
     "iopub.execute_input": "2025-09-04T20:26:50.938721Z",
     "iopub.status.busy": "2025-09-04T20:26:50.938721Z",
     "iopub.status.idle": "2025-09-04T20:26:50.947005Z",
     "shell.execute_reply": "2025-09-04T20:26:50.947005Z",
     "shell.execute_reply.started": "2025-09-04T20:26:50.938721Z"
    }
   },
   "outputs": [
    {
     "name": "stdout",
     "output_type": "stream",
     "text": [
      "============================================================\n",
      "РОЗРАХУНОК Z-СТАТИСТИКИ:\n",
      "============================================================\n",
      "Формула: z = (x̄ - μ₀) / SE\n",
      "z = (19.378 - 20) / 0.625\n",
      "z = -0.995\n",
      "\n"
     ]
    }
   ],
   "source": [
    "# 4. Розраховуємо z-статистику\n",
    "z_statistic = (sample_mean - population_mean) / standard_error        # Формула: z = (x̄ - μ₀) / SE\n",
    "\n",
    "print(\"=\" * 60)\n",
    "print(\"РОЗРАХУНОК Z-СТАТИСТИКИ:\")\n",
    "print(\"=\" * 60)\n",
    "print(\"Формула: z = (x̄ - μ₀) / SE\")\n",
    "print(f\"z = ({sample_mean:.3f} - {population_mean}) / {standard_error:.3f}\")\n",
    "print(f\"z = {z_statistic:.3f}\")\n",
    "print()\n"
   ]
  },
  {
   "cell_type": "code",
   "execution_count": 7,
   "id": "90594bdf-7383-45f9-9a4a-1f6499f47772",
   "metadata": {
    "execution": {
     "iopub.execute_input": "2025-09-04T20:26:52.877966Z",
     "iopub.status.busy": "2025-09-04T20:26:52.877966Z",
     "iopub.status.idle": "2025-09-04T20:26:52.893706Z",
     "shell.execute_reply": "2025-09-04T20:26:52.893281Z",
     "shell.execute_reply.started": "2025-09-04T20:26:52.877966Z"
    }
   },
   "outputs": [
    {
     "name": "stdout",
     "output_type": "stream",
     "text": [
      "============================================================\n",
      "КРИТИЧНЕ ЗНАЧЕННЯ:\n",
      "============================================================\n",
      "Для рівня значущості α = 0.05 (правосторонній тест)\n",
      "Критичне z-значення = 1.645\n",
      "\n"
     ]
    }
   ],
   "source": [
    "# 5. Знаходимо критичне z-значення за допомогою бібліотеки stats\n",
    "z_critical = stats.norm.ppf(1 - alpha)        # Для правостороннього тесту з α = 0.05\n",
    "\n",
    "print(\"=\" * 60)\n",
    "print(\"КРИТИЧНЕ ЗНАЧЕННЯ:\")\n",
    "print(\"=\" * 60)\n",
    "print(f\"Для рівня значущості α = {alpha} (правосторонній тест)\")\n",
    "print(f\"Критичне z-значення = {z_critical:.3f}\")\n",
    "print()"
   ]
  },
  {
   "cell_type": "code",
   "execution_count": 8,
   "id": "310c3889-affa-497a-8f3d-85ffd89b721c",
   "metadata": {
    "execution": {
     "iopub.execute_input": "2025-09-04T20:26:55.023021Z",
     "iopub.status.busy": "2025-09-04T20:26:55.023021Z",
     "iopub.status.idle": "2025-09-04T20:26:55.035095Z",
     "shell.execute_reply": "2025-09-04T20:26:55.034034Z",
     "shell.execute_reply.started": "2025-09-04T20:26:55.023021Z"
    }
   },
   "outputs": [
    {
     "name": "stdout",
     "output_type": "stream",
     "text": [
      "============================================================\n",
      "P-VALUE:\n",
      "============================================================\n",
      "p-value = 0.840216\n",
      "\n"
     ]
    }
   ],
   "source": [
    "# 6. Обчислення p-value з допомогою бібліотеки stats\n",
    "p_value = 1 - stats.norm.cdf(z_statistic)      # Для правостороннього тесту: p-value = P(Z > z_statistic)\n",
    "\n",
    "print(\"=\" * 60)\n",
    "print(\"P-VALUE:\")\n",
    "print(\"=\" * 60)\n",
    "print(f\"p-value = {p_value:.6f}\")\n",
    "print()"
   ]
  },
  {
   "cell_type": "code",
   "execution_count": 9,
   "id": "0dc1b782-26f9-4ada-ab32-5027427390a3",
   "metadata": {
    "execution": {
     "iopub.execute_input": "2025-09-04T20:26:58.033227Z",
     "iopub.status.busy": "2025-09-04T20:26:58.031217Z",
     "iopub.status.idle": "2025-09-04T20:26:58.047626Z",
     "shell.execute_reply": "2025-09-04T20:26:58.045792Z",
     "shell.execute_reply.started": "2025-09-04T20:26:58.033227Z"
    }
   },
   "outputs": [
    {
     "name": "stdout",
     "output_type": "stream",
     "text": [
      "============================================================\n",
      "МЕТОД 1: Порівняння z-статистики з критичним значенням\n",
      "============================================================\n",
      "z-статистика = -0.995\n",
      "Критичне значення = 1.645\n",
      "Порівняння: -0.995 ≤ 1.645\n",
      "Висновок: z-статистика НЕ перевищує критичне значення\n",
      "Рішення: НЕ ВІДХИЛЯЄМО H₀\n"
     ]
    }
   ],
   "source": [
    "# 7. Прийняття рішення\n",
    "print(\"=\" * 60)\n",
    "print(\"МЕТОД 1: Порівняння z-статистики з критичним значенням\")\n",
    "print(\"=\" * 60)\n",
    "print(f\"z-статистика = {z_statistic:.3f}\")\n",
    "print(f\"Критичне значення = {z_critical:.3f}\")\n",
    "print(f\"Порівняння: {z_statistic:.3f} {'>' if z_statistic > z_critical else '≤'} {z_critical:.3f}\")\n",
    "\n",
    "if z_statistic > z_critical:\n",
    "    print(\"Висновок: z-статистика ПЕРЕВИЩУЄ критичне значення\")\n",
    "    decision1 = \"ВІДХИЛЯЄМО H₀\"\n",
    "else:\n",
    "    print(\"Висновок: z-статистика НЕ перевищує критичне значення\")\n",
    "    decision1 = \"НЕ ВІДХИЛЯЄМО H₀\"\n",
    "\n",
    "print(f\"Рішення: {decision1}\")"
   ]
  },
  {
   "cell_type": "code",
   "execution_count": 10,
   "id": "ae2715f3-d5c0-4ddd-8255-e69e71ab4e0c",
   "metadata": {
    "execution": {
     "iopub.execute_input": "2025-09-04T20:27:00.773282Z",
     "iopub.status.busy": "2025-09-04T20:27:00.773282Z",
     "iopub.status.idle": "2025-09-04T20:27:00.783372Z",
     "shell.execute_reply": "2025-09-04T20:27:00.783372Z",
     "shell.execute_reply.started": "2025-09-04T20:27:00.773282Z"
    }
   },
   "outputs": [
    {
     "name": "stdout",
     "output_type": "stream",
     "text": [
      "============================================================\n",
      "МЕТОД 2: Порівняння p-value з рівнем значущості\n",
      "============================================================\n",
      "⚠️ Цей метод використовується ЧАСТІШЕ, оскільки p-value\n",
      "   дає точну ймовірність і не залежить від типу тесту\n",
      "\n",
      "p-value = 0.840216\n",
      "Рівень значущості α = 0.05\n",
      "Порівняння: 0.840216 ≥ 0.05\n",
      "Висновок: p-value НЕ менше за рівень значущості\n",
      "Рішення: НЕ ВІДХИЛЯЄМО H₀\n"
     ]
    }
   ],
   "source": [
    "# Метод 2: Порівняння p-value з рівнем значущості \n",
    "print(\"=\" * 60)\n",
    "print(\"МЕТОД 2: Порівняння p-value з рівнем значущості\")\n",
    "print(\"=\" * 60)\n",
    "print(\"⚠️ Цей метод використовується ЧАСТІШЕ, оскільки p-value\")\n",
    "print(\"   дає точну ймовірність і не залежить від типу тесту\")\n",
    "print()\n",
    "print(f\"p-value = {p_value:.6f}\")\n",
    "print(f\"Рівень значущості α = {alpha}\")\n",
    "print(f\"Порівняння: {p_value:.6f} {'<' if p_value < alpha else '≥'} {alpha}\")\n",
    "\n",
    "if p_value < alpha:\n",
    "    print(\"Висновок: p-value МЕНШЕ за рівень значущості\")\n",
    "    decision2 = \"ВІДХИЛЯЄМО H₀\"\n",
    "else:\n",
    "    print(\"Висновок: p-value НЕ менше за рівень значущості\")\n",
    "    decision2 = \"НЕ ВІДХИЛЯЄМО H₀\"\n",
    "\n",
    "print(f\"Рішення: {decision2}\")"
   ]
  },
  {
   "cell_type": "markdown",
   "id": "1ec9e6dc-5b84-46d9-8938-9e5b612b96f2",
   "metadata": {
    "execution": {
     "iopub.execute_input": "2025-09-04T19:46:49.310154Z",
     "iopub.status.busy": "2025-09-04T19:46:49.308144Z",
     "iopub.status.idle": "2025-09-04T19:46:49.334522Z",
     "shell.execute_reply": "2025-09-04T19:46:49.334522Z",
     "shell.execute_reply.started": "2025-09-04T19:46:49.310154Z"
    }
   },
   "source": [
    "**Власні висновки до завдання 1**  \n",
    "Завжди виконується: SE>=0.  \n",
    "Оскільки (середнє вибірки - середнє популяції)<0, тоді і z-статистика буде відʼємна.  \n",
    "Це ясно, якщо проаналізувати формули, тобто розуміти що саме рахується за допомогою бібліотек.  \n",
    "В завданні маємо правосторонній тест (бо хочемо перевірити чи чек збільшився), тоді z критичне буде >0.  \n",
    "Відʼємне число завжди менше ніж додатнє.  \n",
    "Можна цей випадок як «теорему» використовувати:  \n",
    "якщо (середнє вибірки - середнє популяції)<0, тоді автоматично z-статистика буде меншою ніж критичне, а отже гіпотеза H₀ не відхиляється. "
   ]
  },
  {
   "cell_type": "markdown",
   "id": "0FOBByRMXkL2",
   "metadata": {
    "id": "0FOBByRMXkL2"
   },
   "source": [
    "**Завдання 2.** Виконайте обчислення z-test з використанням бібліотеки statsmodels.\n",
    "\n",
    "Отримайте z-статистику та р-значення.\n",
    "\n",
    "Виведіть p-значення та зробіть висновок, чи ми маємо достатньо доказів, аби стверджувати, що середній чек зріс.\n",
    "\n",
    "Чи зійшлись значення z-статистику та р-значення в цьому завданні з попередніми обчисленнями?\n",
    "\n",
    "Завдання оцінюється в 3 бали."
   ]
  },
  {
   "cell_type": "code",
   "execution_count": 11,
   "id": "f_Oa0DJhdg6v",
   "metadata": {
    "execution": {
     "iopub.execute_input": "2025-09-04T20:27:37.354680Z",
     "iopub.status.busy": "2025-09-04T20:27:37.351421Z",
     "iopub.status.idle": "2025-09-04T20:27:37.515805Z",
     "shell.execute_reply": "2025-09-04T20:27:37.512963Z",
     "shell.execute_reply.started": "2025-09-04T20:27:37.354680Z"
    },
    "id": "f_Oa0DJhdg6v"
   },
   "outputs": [
    {
     "name": "stdout",
     "output_type": "stream",
     "text": [
      "============================================================\n",
      "ВИКОРИСТАННЯ STATSMODELS ДЛЯ Z-ТЕСТУ:\n",
      "============================================================\n",
      "Результати z-тесту:\n",
      "  Z-статистика: -0.995\n",
      "  P-value: 0.840216\n",
      "\n",
      "ІНТЕРПРЕТАЦІЯ:\n",
      "----------------------------------------\n",
      "❌ НЕ ВІДХИЛЯЄМО H₀\n",
      "   p-value (0.840216) ≥ α (0.05)\n",
      "   Висновок: Немає достатніх доказів про підвищення середнього чеку\n",
      "\n",
      "============================================================\n",
      "ПОРІВНЯННЯ З РУЧНИМИ РОЗРАХУНКАМИ:\n",
      "============================================================\n",
      "Z-статистика:\n",
      "  Ручний розрахунок: -0.995\n",
      "  Statsmodels:       -0.995\n",
      "  Різниця:           0.000\n",
      "Висновок: Результати, отримані обома способами однакові\n"
     ]
    }
   ],
   "source": [
    "from statsmodels.stats import weightstats as stests\n",
    "\n",
    "print(\"=\" * 60)\n",
    "print(\"ВИКОРИСТАННЯ STATSMODELS ДЛЯ Z-ТЕСТУ:\")\n",
    "print(\"=\" * 60)\n",
    "\n",
    "# Виконуємо правосторонній z-тест\n",
    "z_stat_sm, p_val_sm = stests.ztest(data,                    # дані\n",
    "                                   value=population_mean,   # μ₀\n",
    "                                   alternative='larger')    # H₁: μ > μ₀\n",
    "\n",
    "print(f\"Результати z-тесту:\")\n",
    "print(f\"  Z-статистика: {z_stat_sm:.3f}\")\n",
    "print(f\"  P-value: {p_val_sm:.6f}\")\n",
    "print()\n",
    "\n",
    "# Інтерпретація результатів\n",
    "print(\"ІНТЕРПРЕТАЦІЯ:\")\n",
    "print(\"-\" * 40)\n",
    "if p_val_sm < alpha:\n",
    "    print(f\"✅ ВІДХИЛЯЄМО H₀\")\n",
    "    print(f\"   p-value ({p_val_sm:.6f}) < α ({alpha})\")\n",
    "    print(\"   Висновок: Середній чек статистично значуще підвищився\")\n",
    "else:\n",
    "    print(f\"❌ НЕ ВІДХИЛЯЄМО H₀\")\n",
    "    print(f\"   p-value ({p_val_sm:.6f}) ≥ α ({alpha})\")\n",
    "    print(\"   Висновок: Немає достатніх доказів про підвищення середнього чеку\")\n",
    "\n",
    "# Порівняння з ручними розрахунками\n",
    "print(\"\\n\" + \"=\" * 60)\n",
    "print(\"ПОРІВНЯННЯ З РУЧНИМИ РОЗРАХУНКАМИ:\")\n",
    "print(\"=\" * 60)\n",
    "print(f\"Z-статистика:\")\n",
    "print(f\"  Ручний розрахунок: {z_statistic:.3f}\")\n",
    "print(f\"  Statsmodels:       {z_stat_sm:.3f}\")\n",
    "print(f\"  Різниця:           {abs(z_statistic - z_stat_sm):.3f}\")\n",
    "if round(abs(z_statistic - z_stat_sm), 6) == 0:\n",
    "    print(\"Висновок: Результати, отримані обома способами однакові\")\n",
    "else:\n",
    "    print(\"Висновок: Результати, отримані обома способами відрізняються\")"
   ]
  },
  {
   "cell_type": "markdown",
   "id": "19c6575f-2298-41ff-ae55-a84180fa8ec3",
   "metadata": {},
   "source": [
    "**Власні висновки до завдання 2**  \n",
    "Розрахунки за допомогою бібліотеки - супер швидко.  \n",
    "Але тільки після ручних обчислень, де з'явлється повне розуміння того, що і як рахується за допомого бібліотеки. "
   ]
  }
 ],
 "metadata": {
  "colab": {
   "provenance": []
  },
  "hide_input": false,
  "kernelspec": {
   "display_name": "Python [conda env:base] *",
   "language": "python",
   "name": "conda-base-py"
  },
  "language_info": {
   "codemirror_mode": {
    "name": "ipython",
    "version": 3
   },
   "file_extension": ".py",
   "mimetype": "text/x-python",
   "name": "python",
   "nbconvert_exporter": "python",
   "pygments_lexer": "ipython3",
   "version": "3.12.7"
  },
  "toc": {
   "base_numbering": 1,
   "nav_menu": {},
   "number_sections": true,
   "sideBar": true,
   "skip_h1_title": false,
   "title_cell": "Table of Contents",
   "title_sidebar": "Contents",
   "toc_cell": false,
   "toc_position": {},
   "toc_section_display": true,
   "toc_window_display": false
  },
  "varInspector": {
   "cols": {
    "lenName": 16,
    "lenType": 16,
    "lenVar": 40
   },
   "kernels_config": {
    "python": {
     "delete_cmd_postfix": "",
     "delete_cmd_prefix": "del ",
     "library": "var_list.py",
     "varRefreshCmd": "print(var_dic_list())"
    },
    "r": {
     "delete_cmd_postfix": ") ",
     "delete_cmd_prefix": "rm(",
     "library": "var_list.r",
     "varRefreshCmd": "cat(var_dic_list()) "
    }
   },
   "types_to_exclude": [
    "module",
    "function",
    "builtin_function_or_method",
    "instance",
    "_Feature"
   ],
   "window_display": false
  }
 },
 "nbformat": 4,
 "nbformat_minor": 5
}
