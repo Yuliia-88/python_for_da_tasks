{
 "cells": [
  {
   "cell_type": "markdown",
   "id": "e152f6d6",
   "metadata": {
    "ExecuteTime": {
     "end_time": "2022-12-10T14:29:24.703416Z",
     "start_time": "2022-12-10T14:29:24.688485Z"
    },
    "id": "e152f6d6"
   },
   "source": [
    "# Тести для малих вибірок та пропорцій\n",
    "\n"
   ]
  },
  {
   "cell_type": "markdown",
   "id": "abdcef5d",
   "metadata": {
    "id": "abdcef5d"
   },
   "source": [
    "**Завдання 1**. E-commerce компанія після редизайну сайту підозрює, що **середній час до покупки (time-to-purchase)** користувачів **збільшився**.\n",
    "Історично середній час від першого заходу на сайт до покупки становив $\\mu_0 = 123.7$ хвилин.\n",
    "\n",
    "Команда аналітиків випадково обрала дані **7 покупців після редизайну**:\n",
    "`128, 135, 121, 142, 126, 151, 123`\n",
    "\n",
    "З допомогою наявних даних зʼясуйте, чи збільшився середній час покупки після редизайну.\n",
    "\n",
    "Для цього виконайте наступні 6 кроків. Правильне виконання кожного з кроків оцінюється в 1 бал.\n",
    "\n",
    "1. Запишіть нульову та альтернативну гіпотези і визначте тип тесту.\n",
    "2. Обчисліть вибіркові статистики: $\\bar x$, $s$, $n$.\n",
    "3. Оберіть тип тесту та виконайте його (знайдіть критичне значення тесту, статистику тесту та р-значення) будь-яким пасуючим способом, щоб перевірити гіпотезу на рівні значущості $\\alpha = 0.10$.\n",
    "4. Прийміть рішення, чи відхиляєте ви гіпотезу $H_0$ використовуючи p-value.\n",
    "5. Напишіть висновок: чи справді редизайн сайту подовжив час до покупки?\n",
    "6. Чи зміниться ваше рішення при зміні рівня значущості на $\\alpha = 0.05$.\n"
   ]
  },
  {
   "cell_type": "code",
   "execution_count": 1,
   "id": "BcS4cm11QYpT",
   "metadata": {
    "execution": {
     "iopub.execute_input": "2025-09-06T11:53:45.325893Z",
     "iopub.status.busy": "2025-09-06T11:53:45.325893Z",
     "iopub.status.idle": "2025-09-06T11:53:51.441024Z",
     "shell.execute_reply": "2025-09-06T11:53:51.438993Z",
     "shell.execute_reply.started": "2025-09-06T11:53:45.325893Z"
    },
    "id": "BcS4cm11QYpT"
   },
   "outputs": [],
   "source": [
    "import numpy as np\n",
    "from scipy import stats"
   ]
  },
  {
   "cell_type": "markdown",
   "id": "a1778dd0-32e7-4820-9943-6340ae66e308",
   "metadata": {},
   "source": [
    "*#1. Гіпотези*   \n",
    "\n",
    "H₀: μ = 123.7  \n",
    "H₁: μ > 123.7 (оскільки перевіряємо чи збільшився час до покупки)  \n",
    "Тип тесту: правосторонній (one-tailed)  "
   ]
  },
  {
   "cell_type": "code",
   "execution_count": 2,
   "id": "4f12b1a0-36eb-4feb-a647-9d843d5b931e",
   "metadata": {
    "execution": {
     "iopub.execute_input": "2025-09-06T11:53:54.720642Z",
     "iopub.status.busy": "2025-09-06T11:53:54.720642Z",
     "iopub.status.idle": "2025-09-06T11:53:54.737607Z",
     "shell.execute_reply": "2025-09-06T11:53:54.737607Z",
     "shell.execute_reply.started": "2025-09-06T11:53:54.720642Z"
    }
   },
   "outputs": [
    {
     "name": "stdout",
     "output_type": "stream",
     "text": [
      "============================================================\n",
      "РЕЗУЛЬТАТИ:\n",
      "============================================================\n",
      "Розмір вибірки n = 7\n",
      "Рівень значущості α = 0.1\n",
      "Вибіркове середнє: 132.29\n",
      "Вибіркове стандартне відхилення: 10.98\n",
      "t-статистика: 2.069\n",
      "Критичне значення (df=6): 1.440\n",
      "p-value: 0.0420\n"
     ]
    }
   ],
   "source": [
    "# Задаємо параметри задачі у змінні\n",
    "time_sample = np.array([128, 135, 121, 142, 126, 151, 123])\n",
    "mu0 = 123.7\n",
    "alpha = 0.10\n",
    "\n",
    "# 2. Обчислення вибіркових статистик: x̄, s, n\n",
    "x_bar = np.mean(time_sample)                  # середнє x̄\n",
    "s = np.std(time_sample, ddof=1)               # стандартне відхилення з n-1\n",
    "n = len(time_sample)                          # довжина вибірки  \n",
    "\n",
    "# 3.1. Обчислимо t-статистику вручну\n",
    "t_stat = (x_bar - mu0) / (s / np.sqrt(n))     # Формула: t = (x̄ - μ₀) / (s / √n)\n",
    "\n",
    "# 3.2. Критичне значення для правостороннього тесту\n",
    "df = n - 1                      \n",
    "t_crit = stats.t.ppf(1 - alpha, df)\n",
    "\n",
    "# 3.3. p-value\n",
    "p_value = 1 - stats.t.cdf(t_stat, df)\n",
    "\n",
    "\n",
    "print('=' * 60)\n",
    "print('РЕЗУЛЬТАТИ:')\n",
    "print('=' * 60)\n",
    "print(f'Розмір вибірки n = {n}')\n",
    "print(f'Рівень значущості α = {alpha}')\n",
    "print(f\"Вибіркове середнє: {x_bar:.2f}\")\n",
    "print(f\"Вибіркове стандартне відхилення: {s:.2f}\")\n",
    "print(f\"t-статистика: {t_stat:.3f}\")\n",
    "print(f\"Критичне значення (df={df}): {t_crit:.3f}\")\n",
    "print(f\"p-value: {p_value:.4f}\")"
   ]
  },
  {
   "cell_type": "code",
   "execution_count": 3,
   "id": "ba706bea-7a39-4bcd-b822-826ca91a0480",
   "metadata": {
    "execution": {
     "iopub.execute_input": "2025-09-06T11:54:00.167408Z",
     "iopub.status.busy": "2025-09-06T11:54:00.167408Z",
     "iopub.status.idle": "2025-09-06T11:54:00.177923Z",
     "shell.execute_reply": "2025-09-06T11:54:00.177923Z",
     "shell.execute_reply.started": "2025-09-06T11:54:00.167408Z"
    }
   },
   "outputs": [
    {
     "name": "stdout",
     "output_type": "stream",
     "text": [
      "Відхиляємо гіпотезу H0.\n",
      "Висновок: редизайн сайту справді подовжив час до покупки.\n",
      "Середній час до покупки більший за 123.7 на рівні значущості 0.1\n"
     ]
    }
   ],
   "source": [
    "# 4-5. Прийняття рішення та висновок\n",
    "if p_value < alpha:\n",
    "    print(f\"Відхиляємо гіпотезу H0.\\nВисновок: редизайн сайту справді подовжив час до покупки.\\nСередній час до покупки більший за {mu0} на рівні значущості {alpha}\")\n",
    "else:\n",
    "    print(\"Не відхиляємо H0. Висновок: доказів недостатньо, щоб стверджувати, що редизайн сайту справді подовжив час до покупки.\\nСередній час до покупки не більший за {mu0} на рівні значущості {alpha}\")"
   ]
  },
  {
   "cell_type": "code",
   "execution_count": 4,
   "id": "a1bcc935-2d50-4552-8cb0-a19dd157655b",
   "metadata": {
    "execution": {
     "iopub.execute_input": "2025-09-06T11:54:03.558127Z",
     "iopub.status.busy": "2025-09-06T11:54:03.556641Z",
     "iopub.status.idle": "2025-09-06T11:54:03.569506Z",
     "shell.execute_reply": "2025-09-06T11:54:03.569506Z",
     "shell.execute_reply.started": "2025-09-06T11:54:03.558127Z"
    }
   },
   "outputs": [
    {
     "name": "stdout",
     "output_type": "stream",
     "text": [
      "scipy: t = 2.069, p-value = 0.04202\n"
     ]
    }
   ],
   "source": [
    "# Другий спосіб розрахунку пунктів 2-3: scipy тест замість ручних обчислень\n",
    "res = stats.ttest_1samp(time_sample, popmean=mu0, alternative=\"greater\")\n",
    "print(f\"scipy: t = {res.statistic:.3f}, p-value = {res.pvalue:.5f}\")"
   ]
  },
  {
   "cell_type": "code",
   "execution_count": 6,
   "id": "2db4767d-24e5-4827-bd67-f89351b0a656",
   "metadata": {
    "execution": {
     "iopub.execute_input": "2025-09-06T11:56:53.413830Z",
     "iopub.status.busy": "2025-09-06T11:56:53.413830Z",
     "iopub.status.idle": "2025-09-06T11:56:53.426051Z",
     "shell.execute_reply": "2025-09-06T11:56:53.426051Z",
     "shell.execute_reply.started": "2025-09-06T11:56:53.413830Z"
    }
   },
   "outputs": [
    {
     "name": "stdout",
     "output_type": "stream",
     "text": [
      "============================================================\n",
      "РЕЗУЛЬТАТИ:\n",
      "============================================================\n",
      "Рівень значущості α = 0.05\n",
      "t-статистика: 2.069\n",
      "Критичне значення (df=6): 1.943\n",
      "p-value: 0.04202\n",
      "\n",
      "Відхиляємо гіпотезу H0.\n",
      "Висновок: редизайн сайту справді подовжив час до покупки.\n",
      "Середній час до покупки більший за 123.7 на рівні значущості 0.05\n"
     ]
    }
   ],
   "source": [
    "# 6. Рішення при зміні рівня значущості на alpha = 0.05\n",
    "alpha_new = 0.05\n",
    "t_crit_new = stats.t.ppf(1 - alpha_new, df)\n",
    "res_new = stats.ttest_1samp(time_sample, popmean=mu0, alternative=\"greater\")\n",
    "\n",
    "print('=' * 60)\n",
    "print('РЕЗУЛЬТАТИ:')\n",
    "print('=' * 60)\n",
    "print(f'Рівень значущості α = {alpha_new}')\n",
    "print(f\"t-статистика: {res_new.statistic:.3f}\")\n",
    "print(f\"Критичне значення (df={df}): {t_crit_new:.3f}\")\n",
    "print(f\"p-value: {res_new.pvalue:.5f}\")\n",
    "print()\n",
    "if res_new.pvalue < alpha_new:\n",
    "    print(f\"Відхиляємо гіпотезу H0.\\nВисновок: редизайн сайту справді подовжив час до покупки.\\nСередній час до покупки більший за {mu0} на рівні значущості {alpha_new}\")\n",
    "else:\n",
    "    print(f\"Не відхиляємо H0. Висновок: доказів недостатньо, щоб стверджувати, що редизайн сайту справді подовжив час до покупки.\\nСередній час до покупки не більший за {mu0} на рівні значущості {alpha_new}\")"
   ]
  },
  {
   "cell_type": "markdown",
   "id": "336ac59a-7407-4a08-9971-b1c80a3014bf",
   "metadata": {},
   "source": [
    "**Висновок до завдання 1:**  \n",
    "Значення рівня значущості α не впливає на розрахунок p-value.  \n",
    "При зміні значення α зміниться тільки значення t критичне.  \n",
    "Тому все-одно відхиляємо гіпотезу H0 на основі p-значення."
   ]
  },
  {
   "cell_type": "markdown",
   "id": "5govLcx8FPSl",
   "metadata": {
    "id": "5govLcx8FPSl"
   },
   "source": [
    "**Завдання 2.**\n",
    "\n",
    "До спеціальної рекламної кампанії **23%** дорослих упізнавали логотип компанії. Після завершення кампанії відділ маркетингу провів опитування: з **1200** випадково відібраних дорослих **311** упізнали логотип.\n",
    "\n",
    "Перевірте на рівні значущості **3%** ($\\alpha=0.03$), чи дають ці дані достатні підстави стверджувати, що **тепер більше ніж 23%** дорослих упізнають логотип компанії. Для розвʼязку використовуйте бібліотеку `statsmodels`.\n",
    "\n",
    "Зробіть висновок, чи зросла впізнаваність логотипу.\n",
    "\n",
    "Додатково, обчисліть довірчий інтревал на заданому рівні значущості і проінтерпретуйте текстом - як він додатково пояснює прийняте нами рішення?"
   ]
  },
  {
   "cell_type": "markdown",
   "id": "87658333-0f0e-4d07-8c46-90dc3f437acf",
   "metadata": {
    "execution": {
     "iopub.execute_input": "2025-09-06T12:31:49.895719Z",
     "iopub.status.busy": "2025-09-06T12:31:49.895156Z",
     "iopub.status.idle": "2025-09-06T12:31:49.955569Z",
     "shell.execute_reply": "2025-09-06T12:31:49.953701Z",
     "shell.execute_reply.started": "2025-09-06T12:31:49.895719Z"
    }
   },
   "source": [
    "*# Гіпотези*   \n",
    "\n",
    "H₀: μ = 0.23  \n",
    "H₁: μ > 0.23 (оскільки очікуємо збільшення відсотку)  \n",
    "Тип тесту: правосторонній (one-tailed) "
   ]
  },
  {
   "cell_type": "code",
   "execution_count": 37,
   "id": "rcplRfotId51",
   "metadata": {
    "execution": {
     "iopub.execute_input": "2025-09-06T13:36:00.958629Z",
     "iopub.status.busy": "2025-09-06T13:36:00.957625Z",
     "iopub.status.idle": "2025-09-06T13:36:00.971625Z",
     "shell.execute_reply": "2025-09-06T13:36:00.970615Z",
     "shell.execute_reply.started": "2025-09-06T13:36:00.958629Z"
    },
    "id": "rcplRfotId51"
   },
   "outputs": [
    {
     "name": "stdout",
     "output_type": "stream",
     "text": [
      "============================================================\n",
      "РЕЗУЛЬТАТИ:\n",
      "============================================================\n",
      "Z-статистика = 2.306\n",
      "97.0% довірчий інтервал: (0.2317, 0.2866)\n",
      "\n",
      " p-value (0.0106) < α (0.03)\n",
      " ВІДХИЛЯЄМО H₀\n",
      " Висновок: є статистично значущі докази, що частка тих, хто впізнає логотип, більша за 23.0%\n"
     ]
    }
   ],
   "source": [
    "# Тести для однієї пропорції у популяції\n",
    "import statsmodels.api as sm\n",
    "from statsmodels.stats.proportion import proportions_ztest, proportion_confint\n",
    "\n",
    "# Дані\n",
    "count = 311   # кількість \"успіхів\"\n",
    "nobs = 1200    # обсяг вибірки\n",
    "p0 = 0.23      # гіпотетична пропорція (H0)\n",
    "alpha = 0.03\n",
    "\n",
    "# z-тест для пропорції\n",
    "stat, pval = proportions_ztest(count, nobs, p0, alternative='larger')\n",
    "ci_low, ci_upp = proportion_confint(count, nobs, alpha, method='normal')\n",
    "\n",
    "print('=' * 60)\n",
    "print('РЕЗУЛЬТАТИ:')\n",
    "print('=' * 60)\n",
    "print(f\"Z-статистика = {stat:.3f}\")\n",
    "print(f\"{100-alpha*100}% довірчий інтервал: ({ci_low:.4f}, {ci_upp:.4f})\")\n",
    "print()\n",
    "if pval < alpha:\n",
    "    print(f\" p-value ({pval:.4f}) < α ({alpha})\")\n",
    "    print(f\" ВІДХИЛЯЄМО H₀\")\n",
    "    print(f\" Висновок: є статистично значущі докази, що частка тих, хто впізнає логотип, більша за {p0*100}%\")\n",
    "else:\n",
    "    print(f\" p-value ({pval:.4f}) ≥ α ({alpha})\")\n",
    "    print(f\" НЕ ВІДХИЛЯЄМО H₀\")\n",
    "    print(\"  Висновок: Немає достатніх доказів про вищий відсоток впізнаваності\")\n"
   ]
  },
  {
   "cell_type": "markdown",
   "id": "529287b8-f0d8-4039-a1ad-bcba792b02d0",
   "metadata": {},
   "source": [
    "**Інтерпретація довірчого інтервалу:**  \n",
    "97% довірчий інтервал (0.2317, 0.2866)  \n",
    "- це означає, що з ймовірністю 97% справжня частка лежить у межах від 23.17% до 28.66%.\n",
    "- нижня межа трохи більша за 0.23, тому це додаткове підтвердження, що справжня частка перевищує історичну."
   ]
  }
 ],
 "metadata": {
  "colab": {
   "provenance": []
  },
  "hide_input": false,
  "kernelspec": {
   "display_name": "Python [conda env:base] *",
   "language": "python",
   "name": "conda-base-py"
  },
  "language_info": {
   "codemirror_mode": {
    "name": "ipython",
    "version": 3
   },
   "file_extension": ".py",
   "mimetype": "text/x-python",
   "name": "python",
   "nbconvert_exporter": "python",
   "pygments_lexer": "ipython3",
   "version": "3.12.7"
  },
  "toc": {
   "base_numbering": 1,
   "nav_menu": {},
   "number_sections": true,
   "sideBar": true,
   "skip_h1_title": false,
   "title_cell": "Table of Contents",
   "title_sidebar": "Contents",
   "toc_cell": false,
   "toc_position": {},
   "toc_section_display": true,
   "toc_window_display": false
  },
  "varInspector": {
   "cols": {
    "lenName": 16,
    "lenType": 16,
    "lenVar": 40
   },
   "kernels_config": {
    "python": {
     "delete_cmd_postfix": "",
     "delete_cmd_prefix": "del ",
     "library": "var_list.py",
     "varRefreshCmd": "print(var_dic_list())"
    },
    "r": {
     "delete_cmd_postfix": ") ",
     "delete_cmd_prefix": "rm(",
     "library": "var_list.r",
     "varRefreshCmd": "cat(var_dic_list()) "
    }
   },
   "types_to_exclude": [
    "module",
    "function",
    "builtin_function_or_method",
    "instance",
    "_Feature"
   ],
   "window_display": false
  }
 },
 "nbformat": 4,
 "nbformat_minor": 5
}
