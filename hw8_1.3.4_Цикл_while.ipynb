{
 "cells": [
  {
   "cell_type": "markdown",
   "metadata": {
    "id": "15XCoYr0awZ6"
   },
   "source": [
    "#Домашнє завдання до теми \"Цикл while\""
   ]
  },
  {
   "cell_type": "markdown",
   "metadata": {
    "id": "xgCDxF5YhQSa"
   },
   "source": [
    "1. **Лічильник до заданого числа.**\n",
    "   Завдання:\n",
    "     - Створіть цикл `while`, щоб він лічив від 1 до заданого числа в змінній `limit` (включно).\n",
    "     - Виведіть кожне число, яке проходить лічильник, на екран.\n",
    "     - В кінці виведіть повідомлення \"Кінець розрахунку!\".\n"
   ]
  },
  {
   "cell_type": "code",
   "execution_count": 1,
   "metadata": {
    "execution": {
     "iopub.execute_input": "2025-06-17T18:35:05.830919Z",
     "iopub.status.busy": "2025-06-17T18:35:05.830919Z",
     "iopub.status.idle": "2025-06-17T18:35:05.839316Z",
     "shell.execute_reply": "2025-06-17T18:35:05.838299Z",
     "shell.execute_reply.started": "2025-06-17T18:35:05.830919Z"
    },
    "id": "wwSqYFCmiJTt"
   },
   "outputs": [],
   "source": [
    "limit = 9  # Задане число"
   ]
  },
  {
   "cell_type": "code",
   "execution_count": 3,
   "metadata": {
    "execution": {
     "iopub.execute_input": "2025-06-17T18:36:05.581221Z",
     "iopub.status.busy": "2025-06-17T18:36:05.579206Z",
     "iopub.status.idle": "2025-06-17T18:36:05.596225Z",
     "shell.execute_reply": "2025-06-17T18:36:05.594702Z",
     "shell.execute_reply.started": "2025-06-17T18:36:05.581221Z"
    },
    "id": "-t-kC6mJqNVx"
   },
   "outputs": [
    {
     "name": "stdout",
     "output_type": "stream",
     "text": [
      "1\n",
      "2\n",
      "3\n",
      "4\n",
      "5\n",
      "6\n",
      "7\n",
      "8\n",
      "9\n",
      "Кінець розрахунку!\n"
     ]
    }
   ],
   "source": [
    "i = 1\n",
    "while i <= limit:\n",
    "    print(i)\n",
    "    i += 1\n",
    "print(\"Кінець розрахунку!\")"
   ]
  },
  {
   "cell_type": "markdown",
   "metadata": {
    "id": "DlqunQnphZ9s"
   },
   "source": [
    "2. **Пошук першого парного числа.** Завдання:\n",
    "     - Створіть цикл `while`, щоб знайти перше парне число після заданого числа `start`.\n",
    "     - Знайдіть та виведіть перше парне число.\n"
   ]
  },
  {
   "cell_type": "code",
   "execution_count": 21,
   "metadata": {
    "execution": {
     "iopub.execute_input": "2025-06-17T18:52:35.847654Z",
     "iopub.status.busy": "2025-06-17T18:52:35.847654Z",
     "iopub.status.idle": "2025-06-17T18:52:35.855362Z",
     "shell.execute_reply": "2025-06-17T18:52:35.855362Z",
     "shell.execute_reply.started": "2025-06-17T18:52:35.847654Z"
    },
    "id": "3CC3-gNJiW6X"
   },
   "outputs": [],
   "source": [
    "start = 1001  # Задане число"
   ]
  },
  {
   "cell_type": "code",
   "execution_count": 22,
   "metadata": {
    "execution": {
     "iopub.execute_input": "2025-06-17T18:52:36.395347Z",
     "iopub.status.busy": "2025-06-17T18:52:36.393336Z",
     "iopub.status.idle": "2025-06-17T18:52:36.403223Z",
     "shell.execute_reply": "2025-06-17T18:52:36.401702Z",
     "shell.execute_reply.started": "2025-06-17T18:52:36.395347Z"
    },
    "id": "5M8Ly9_Lj4-t"
   },
   "outputs": [
    {
     "name": "stdout",
     "output_type": "stream",
     "text": [
      "1002\n"
     ]
    }
   ],
   "source": [
    "i = start\n",
    "while True:\n",
    "    if i >= start and i % 2 == 0:\n",
    "        print(i)\n",
    "        break\n",
    "    i += 1"
   ]
  },
  {
   "cell_type": "markdown",
   "metadata": {
    "id": "OlhKezZYiQJ2"
   },
   "source": [
    "\n",
    "3. **Обчислення факторіалу.**   \n",
    "  Факторіал числа - це добуток всіх натуральних чисел від 1 до цього числа включно. Наприклад, факторіал числа 5 (позначається як 5!) дорівнює `1 * 2 * 3 * 4 * 5 = 120`.\n",
    "\n",
    "  Завдання:  \n",
    "      - Обчисліть факторіал заданого числа, використовуючи цикл `while`.  \n",
    "      - Задайте деяке число для обчислення факторіалу у змінній `num`.  \n",
    "      - Виведіть обчислений факторіал на екран.  \n"
   ]
  },
  {
   "cell_type": "code",
   "execution_count": 30,
   "metadata": {
    "execution": {
     "iopub.execute_input": "2025-06-17T18:59:33.522889Z",
     "iopub.status.busy": "2025-06-17T18:59:33.522889Z",
     "iopub.status.idle": "2025-06-17T18:59:33.527061Z",
     "shell.execute_reply": "2025-06-17T18:59:33.527061Z",
     "shell.execute_reply.started": "2025-06-17T18:59:33.522889Z"
    },
    "id": "s0JKm0Wtj5s9"
   },
   "outputs": [],
   "source": [
    "num = 6"
   ]
  },
  {
   "cell_type": "code",
   "execution_count": 35,
   "metadata": {
    "execution": {
     "iopub.execute_input": "2025-06-17T19:01:51.412232Z",
     "iopub.status.busy": "2025-06-17T19:01:51.412232Z",
     "iopub.status.idle": "2025-06-17T19:01:51.417669Z",
     "shell.execute_reply": "2025-06-17T19:01:51.417669Z",
     "shell.execute_reply.started": "2025-06-17T19:01:51.412232Z"
    }
   },
   "outputs": [
    {
     "name": "stdout",
     "output_type": "stream",
     "text": [
      "6! = 720\n"
     ]
    }
   ],
   "source": [
    "factorial_num = 1\n",
    "i = 1\n",
    "while i <= num:\n",
    "    factorial_num *= i\n",
    "    i += 1\n",
    "print(f\"{num}! = {factorial_num}\")"
   ]
  }
 ],
 "metadata": {
  "colab": {
   "provenance": []
  },
  "kernelspec": {
   "display_name": "Python [conda env:base] *",
   "language": "python",
   "name": "conda-base-py"
  },
  "language_info": {
   "codemirror_mode": {
    "name": "ipython",
    "version": 3
   },
   "file_extension": ".py",
   "mimetype": "text/x-python",
   "name": "python",
   "nbconvert_exporter": "python",
   "pygments_lexer": "ipython3",
   "version": "3.12.7"
  }
 },
 "nbformat": 4,
 "nbformat_minor": 4
}
